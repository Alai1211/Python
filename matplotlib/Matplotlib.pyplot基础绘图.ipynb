{
 "cells": [
  {
   "cell_type": "markdown",
   "id": "9ec7f5b0",
   "metadata": {},
   "source": [
    "# pyplot的基础绘图函数"
   ]
  },
  {
   "cell_type": "markdown",
   "id": "25d0aa2a",
   "metadata": {},
   "source": [
    "##### plt.plot(x,y,fmt, ...)\t\n",
    "    绘制一个坐标图\n",
    "##### plt.boxplot(data,notch,position)\t\n",
    "    绘制一个箱体图\n",
    "##### plt.bar(left,height,width,bottom)\t\n",
    "    绘制一个条形图\n",
    "##### plt.barh(width,bottom,left,height)\n",
    "    绘制一个横向条形图\n",
    "##### plt.polar(theta,r)\t\n",
    "    绘制极坐标图\n",
    "##### plt.pie(data,explode)\t\n",
    "    绘制饼图\n",
    "##### plt.pas(x,NFFT=256,pad_to,Fs)\t\n",
    "    绘制功率谱密度图\n",
    "##### plt.specgram(x,NFFT=256,pad_to,F)\t\n",
    "    绘制谱图\n",
    "##### plt.cohere(x,y,NFFT=256,Fs)\t\n",
    "    绘制X-Y的相关性函数\n",
    "##### plt.scatter(x,y)\t\n",
    "    绘制散点图，其中，x和y长度相同\n",
    "##### plt.step(x,y,where)\t\n",
    "    绘制步阶图\n",
    "##### plt.hist(x,bins,normed)\t\n",
    "    绘制直方图\n",
    "##### plt.contour(X,Y,Z,N)\t\n",
    "    绘制等值图\n",
    "##### plt.vlines()\t\n",
    "    绘制垂直图\n",
    "##### plt.stem(x,y,linefmt,markerfmt)\t\n",
    "    绘制柴火图\n",
    "##### plt.plot_date()\t\n",
    "    绘制数据日期"
   ]
  },
  {
   "cell_type": "markdown",
   "id": "2ef5b16e",
   "metadata": {},
   "source": [
    "# 绘制饼图\n",
    "\n",
    "  ##### plt.pie()"
   ]
  },
  {
   "cell_type": "code",
   "execution_count": 1,
   "id": "ef528c43",
   "metadata": {},
   "outputs": [],
   "source": [
    "import matplotlib.pyplot as plt"
   ]
  },
  {
   "cell_type": "code",
   "execution_count": 5,
   "id": "2c4b711a",
   "metadata": {},
   "outputs": [
    {
     "data": {
      "text/plain": [
       "([<matplotlib.patches.Wedge at 0x2881c3aa3d0>,\n",
       "  <matplotlib.patches.Wedge at 0x2881c3aaa30>,\n",
       "  <matplotlib.patches.Wedge at 0x2881c3b8190>,\n",
       "  <matplotlib.patches.Wedge at 0x2881c3b88e0>],\n",
       " [Text(-0.4993895680663527, 0.9801071672559598, 'frogs'),\n",
       "  Text(-1.1412677917792124, -0.3708204787324995, 'hogs'),\n",
       "  Text(0.9801072140121813, -0.4993894763020948, 'dogs'),\n",
       "  Text(0.33991864973549485, 1.0461621822461364, 'logs')],\n",
       " [Text(-0.2723943098543742, 0.5346039094123416, '15.0%'),\n",
       "  Text(-0.6657395452045406, -0.2163119459272914, '30.0%'),\n",
       "  Text(0.5346039349157352, -0.27239425980114257, '45.0%'),\n",
       "  Text(0.1854101725829972, 0.5706339175888016, '10.0%')])"
      ]
     },
     "execution_count": 5,
     "metadata": {},
     "output_type": "execute_result"
    },
    {
     "data": {
      "image/png": "[encoded data removed]",
      "text/plain": [
       "<Figure size 432x288 with 1 Axes>"
      ]
     },
     "metadata": {},
     "output_type": "display_data"
    }
   ],
   "source": [
    "#各标签名称\n",
    "labels = 'frogs','hogs','dogs','logs'\n",
    "#每块饼占的大小\n",
    "sizes = [15,30,45,10]\n",
    "#哪块该凸出来\n",
    "explode = (0,0.1,0,0)\n",
    "\n",
    "plt.pie(sizes,explode = explode,labels = labels,autopct ='%1.1f%%',\n",
    "        shadow = False,startangle =90)"
   ]
  },
  {
   "cell_type": "markdown",
   "id": "f8ecce41",
   "metadata": {},
   "source": [
    "# 绘制直方图"
   ]
  },
  {
   "cell_type": "markdown",
   "id": "809ce0e3",
   "metadata": {},
   "source": [
    "##### plt.hist()\n",
    "\n",
    "bin:在生成的图形中，直方的个数。bin=10，生成10个直方。"
   ]
  },
  {
   "cell_type": "markdown",
   "id": "7f7a39ac",
   "metadata": {},
   "source": [
    "# 绘制极坐标图"
   ]
  },
  {
   "cell_type": "markdown",
   "id": "10ad6ae8",
   "metadata": {},
   "source": [
    "# 绘制散点图"
   ]
  },
  {
   "cell_type": "code",
   "execution_count": 13,
   "id": "09a07a0e",
   "metadata": {},
   "outputs": [
    {
     "data": {
      "text/plain": [
       "Text(0.5, 1.0, 'simple scatter')"
      ]
     },
     "execution_count": 13,
     "metadata": {},
     "output_type": "execute_result"
    },
    {
     "data": {
      "image/png": "[encoded data removed]",
      "text/plain": [
       "<Figure size 432x288 with 1 Axes>"
      ]
     },
     "metadata": {
      "needs_background": "light"
     },
     "output_type": "display_data"
    }
   ],
   "source": [
    "import numpy as np\n",
    "\n",
    "#将subplot变成一个对象\n",
    "\n",
    "fig,ax = plt.subplots()\n",
    "ax.plot(10*np.random.randn(100),10*np.random.randn(100),'o')\n",
    "ax.set_title('simple scatter')"
   ]
  },
  {
   "cell_type": "code",
   "execution_count": null,
   "id": "df5ae50c",
   "metadata": {},
   "outputs": [],
   "source": []
  }
 ],
 "metadata": {
  "kernelspec": {
   "display_name": "Python 3 (ipykernel)",
   "language": "python",
   "name": "python3"
  },
  "language_info": {
   "codemirror_mode": {
    "name": "ipython",
    "version": 3
   },
   "file_extension": ".py",
   "mimetype": "text/x-python",
   "name": "python",
   "nbconvert_exporter": "python",
   "pygments_lexer": "ipython3",
   "version": "3.9.12"
  }
 },
 "nbformat": 4,
 "nbformat_minor": 5
}

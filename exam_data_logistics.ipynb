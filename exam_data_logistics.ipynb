{
 "cells": [
  {
   "cell_type": "code",
   "execution_count": 27,
   "id": "3e9267bd",
   "metadata": {},
   "outputs": [],
   "source": [
    "import seaborn as sns\n",
    "import numpy as np\n",
    "import pandas as pd\n",
    "import matplotlib.pyplot as plt\n",
    "import statsmodels.formula.api as smf\n",
    "import statsmodels.api as sm\n",
    "from sklearn.linear_model import LogisticRegression\n",
    "sns.set()\n",
    "%matplotlib inline"
   ]
  },
  {
   "cell_type": "code",
   "execution_count": 4,
   "id": "755a510a",
   "metadata": {},
   "outputs": [],
   "source": [
    "#s数据为学习时间与是否合格\n",
    "exam_data=pd.read_csv('exam_data.csv')"
   ]
  },
  {
   "cell_type": "code",
   "execution_count": 5,
   "id": "67eb7299",
   "metadata": {},
   "outputs": [
    {
     "data": {
      "text/plain": [
       "<AxesSubplot:xlabel='hours', ylabel='result'>"
      ]
     },
     "execution_count": 5,
     "metadata": {},
     "output_type": "execute_result"
    },
    {
     "data": {
      "image/png": "[encoded data removed]",
      "text/plain": [
       "<Figure size 432x288 with 1 Axes>"
      ]
     },
     "metadata": {
      "needs_background": "light"
     },
     "output_type": "display_data"
    }
   ],
   "source": [
    "#纵轴为平均值\n",
    "sns.barplot(x='hours',y='result',data=exam_data,ci=None,palette='Blues')"
   ]
  },
  {
   "cell_type": "markdown",
   "id": "11748be2",
   "metadata": {},
   "source": [
    "### 使用statsmodels进行逻辑回归"
   ]
  },
  {
   "cell_type": "code",
   "execution_count": 7,
   "id": "91806500",
   "metadata": {},
   "outputs": [],
   "source": [
    "#构建模型\n",
    "logistic_model=smf.glm(formula='result~hours',\n",
    "                      data=exam_data,\n",
    "                      family=sm.families.Binomial(link=sm.genmod.families.links.logit()))"
   ]
  },
  {
   "cell_type": "code",
   "execution_count": 8,
   "id": "51afef26",
   "metadata": {},
   "outputs": [],
   "source": [
    "logistic_result=logistic_model.fit()"
   ]
  },
  {
   "cell_type": "markdown",
   "id": "0afb3ba8",
   "metadata": {},
   "source": [
    "##### glm参数说明：\n",
    "formula：\"目的变数~说明变数\"\n",
    "data：指定数据，类型为pandas的dataframe\n",
    "family：指定分布函数和link函数\n",
    "\n",
    "※分布関数に二項分布（Binomial）を指定すればロジスティック回帰になる。\n",
    "※Binomialを指定すると自動でリンク関数をlogitとしてモデルが作られるが、ここではあえて明示的にリンク関数を指定した。"
   ]
  },
  {
   "cell_type": "code",
   "execution_count": 9,
   "id": "a77ce772",
   "metadata": {},
   "outputs": [
    {
     "data": {
      "text/html": [
       "<table class=\"simpletable\">\n",
       "<caption>Generalized Linear Model Regression Results</caption>\n",
       "<tr>\n",
       "  <th>Dep. Variable:</th>        <td>result</td>      <th>  No. Observations:  </th>  <td>   100</td> \n",
       "</tr>\n",
       "<tr>\n",
       "  <th>Model:</th>                  <td>GLM</td>       <th>  Df Residuals:      </th>  <td>    98</td> \n",
       "</tr>\n",
       "<tr>\n",
       "  <th>Model Family:</th>        <td>Binomial</td>     <th>  Df Model:          </th>  <td>     1</td> \n",
       "</tr>\n",
       "<tr>\n",
       "  <th>Link Function:</th>         <td>logit</td>      <th>  Scale:             </th> <td>  1.0000</td>\n",
       "</tr>\n",
       "<tr>\n",
       "  <th>Method:</th>                <td>IRLS</td>       <th>  Log-Likelihood:    </th> <td> -37.509</td>\n",
       "</tr>\n",
       "<tr>\n",
       "  <th>Date:</th>            <td>Tue, 10 May 2022</td> <th>  Deviance:          </th> <td>  75.018</td>\n",
       "</tr>\n",
       "<tr>\n",
       "  <th>Time:</th>                <td>22:20:31</td>     <th>  Pearson chi2:      </th>  <td>  98.3</td> \n",
       "</tr>\n",
       "<tr>\n",
       "  <th>No. Iterations:</th>          <td>6</td>        <th>                     </th>     <td> </td>   \n",
       "</tr>\n",
       "<tr>\n",
       "  <th>Covariance Type:</th>     <td>nonrobust</td>    <th>                     </th>     <td> </td>   \n",
       "</tr>\n",
       "</table>\n",
       "<table class=\"simpletable\">\n",
       "<tr>\n",
       "      <td></td>         <th>coef</th>     <th>std err</th>      <th>z</th>      <th>P>|z|</th>  <th>[0.025</th>    <th>0.975]</th>  \n",
       "</tr>\n",
       "<tr>\n",
       "  <th>Intercept</th> <td>   -4.0448</td> <td>    0.795</td> <td>   -5.086</td> <td> 0.000</td> <td>   -5.604</td> <td>   -2.486</td>\n",
       "</tr>\n",
       "<tr>\n",
       "  <th>hours</th>     <td>    0.0823</td> <td>    0.015</td> <td>    5.405</td> <td> 0.000</td> <td>    0.052</td> <td>    0.112</td>\n",
       "</tr>\n",
       "</table>"
      ],
      "text/plain": [
       "<class 'statsmodels.iolib.summary.Summary'>\n",
       "\"\"\"\n",
       "                 Generalized Linear Model Regression Results                  \n",
       "==============================================================================\n",
       "Dep. Variable:                 result   No. Observations:                  100\n",
       "Model:                            GLM   Df Residuals:                       98\n",
       "Model Family:                Binomial   Df Model:                            1\n",
       "Link Function:                  logit   Scale:                          1.0000\n",
       "Method:                          IRLS   Log-Likelihood:                -37.509\n",
       "Date:                Tue, 10 May 2022   Deviance:                       75.018\n",
       "Time:                        22:20:31   Pearson chi2:                     98.3\n",
       "No. Iterations:                     6                                         \n",
       "Covariance Type:            nonrobust                                         \n",
       "==============================================================================\n",
       "                 coef    std err          z      P>|z|      [0.025      0.975]\n",
       "------------------------------------------------------------------------------\n",
       "Intercept     -4.0448      0.795     -5.086      0.000      -5.604      -2.486\n",
       "hours          0.0823      0.015      5.405      0.000       0.052       0.112\n",
       "==============================================================================\n",
       "\"\"\""
      ]
     },
     "execution_count": 9,
     "metadata": {},
     "output_type": "execute_result"
    }
   ],
   "source": [
    "#输出结果\n",
    "logistic_result.summary()\n",
    "\n",
    "result = 0.0823*hours - 4.0448\n",
    "\n",
    "result： 0.5~1  pass\n",
    "result:  0~0.5  failed\n",
    "\n",
    "    \n",
    "    \n",
    "正规化\n",
    "\n",
    "不用正规化的场景：\n",
    "1.模型是随机森林（随机森林只看大还是小，不看具体数值，所以无需正规化）\n",
    "2.特征只有1个。\n",
    "3.特征的取值范围相近。\n",
    "\n",
    "\n",
    "\n",
    "\n",
    "\n",
    "y=x1+x2+x3...\n",
    "\n",
    "x1 收入（200000~300000）\n",
    "x2  年龄（20~70）\n",
    "x3  家庭人数（2~5）\n",
    "\n",
    "y 消费\n",
    "\n",
    "\n",
    "\n",
    "y=x1\n",
    "\n",
    "x1 学习时间(3~5)\n",
    "y 考试结果\n",
    "\n"
   ]
  },
  {
   "cell_type": "markdown",
   "id": "5c3603c9",
   "metadata": {},
   "source": [
    "上方记载着回归系数"
   ]
  },
  {
   "cell_type": "code",
   "execution_count": 12,
   "id": "b01818f2",
   "metadata": {},
   "outputs": [],
   "source": [
    "#生成1-90的10间隔的test_data\n",
    "test_data=pd.DataFrame({\n",
    "    'hours':np.arange(0,100,10)\n",
    "})"
   ]
  },
  {
   "cell_type": "code",
   "execution_count": 14,
   "id": "d443aabc",
   "metadata": {},
   "outputs": [
    {
     "data": {
      "text/plain": [
       "0    0.017212\n",
       "1    0.038364\n",
       "2    0.083305\n",
       "3    0.171504\n",
       "4    0.320440\n",
       "5    0.517868\n",
       "6    0.709871\n",
       "7    0.847873\n",
       "8    0.926985\n",
       "9    0.966577\n",
       "dtype: float64"
      ]
     },
     "execution_count": 14,
     "metadata": {},
     "output_type": "execute_result"
    }
   ],
   "source": [
    "#预测合格率\n",
    "pred=logistic_result.predict(test_data)\n",
    "pred"
   ]
  },
  {
   "cell_type": "markdown",
   "id": "080b6f8c",
   "metadata": {},
   "source": [
    "### 使用sklearn进行logistic回归"
   ]
  },
  {
   "cell_type": "code",
   "execution_count": 15,
   "id": "ca41d714",
   "metadata": {},
   "outputs": [],
   "source": [
    "test_result=pd.read_csv('exam_data.csv')"
   ]
  },
  {
   "cell_type": "code",
   "execution_count": 17,
   "id": "4fcf39b2",
   "metadata": {},
   "outputs": [],
   "source": [
    "hours=test_result['hours']\n",
    "result=test_result['result']"
   ]
  },
  {
   "cell_type": "code",
   "execution_count": 1,
   "id": "0a57534f",
   "metadata": {},
   "outputs": [
    {
     "ename": "NameError",
     "evalue": "name 'hours' is not defined",
     "output_type": "error",
     "traceback": [
      "\u001b[1;31m---------------------------------------------------------------------------\u001b[0m",
      "\u001b[1;31mNameError\u001b[0m                                 Traceback (most recent call last)",
      "Input \u001b[1;32mIn [1]\u001b[0m, in \u001b[0;36m<cell line: 3>\u001b[1;34m()\u001b[0m\n\u001b[0;32m      1\u001b[0m \u001b[38;5;66;03m# 特征值过少，只有一个hours，因此改变数组形状，从而能够让训练数据输入到模型里。\u001b[39;00m\n\u001b[0;32m      2\u001b[0m \u001b[38;5;66;03m# （逻辑回归模型默认只能接受二维或多维数组。）\u001b[39;00m\n\u001b[1;32m----> 3\u001b[0m X_train\u001b[38;5;241m=\u001b[39m\u001b[43mhours\u001b[49m\u001b[38;5;241m.\u001b[39mvalues\u001b[38;5;241m.\u001b[39mreshape(\u001b[38;5;241m-\u001b[39m\u001b[38;5;241m1\u001b[39m,\u001b[38;5;241m1\u001b[39m)\n",
      "\u001b[1;31mNameError\u001b[0m: name 'hours' is not defined"
     ]
    }
   ],
   "source": [
    "# 特征值过少，只有一个hours，因此改变数组形状，从而能够让训练数据输入到模型里。\n",
    "# （逻辑回归模型默认只能接受二维或多维数组。）\n",
    "X_train=hours.values.reshape(-1,1)"
   ]
  },
  {
   "cell_type": "code",
   "execution_count": 22,
   "id": "603e9e17",
   "metadata": {},
   "outputs": [],
   "source": [
    "Y_train = result.values"
   ]
  },
  {
   "cell_type": "code",
   "execution_count": 29,
   "id": "084a5e68",
   "metadata": {},
   "outputs": [],
   "source": [
    "lr = LogisticRegression() "
   ]
  },
  {
   "cell_type": "code",
   "execution_count": 30,
   "id": "41b27de1",
   "metadata": {},
   "outputs": [
    {
     "data": {
      "text/plain": [
       "LogisticRegression()"
      ]
     },
     "execution_count": 30,
     "metadata": {},
     "output_type": "execute_result"
    }
   ],
   "source": [
    "lr.fit(X_train,Y_train)"
   ]
  },
  {
   "cell_type": "code",
   "execution_count": 31,
   "id": "b30215ca",
   "metadata": {},
   "outputs": [
    {
     "name": "stdout",
     "output_type": "stream",
     "text": [
      "coefficient =  [[0.08230644]]\n",
      "intercept =  [-4.04384494]\n"
     ]
    }
   ],
   "source": [
    "# 結果\n",
    "print(\"coefficient = \", lr.coef_)\n",
    "print(\"intercept = \", lr.intercept_)"
   ]
  },
  {
   "cell_type": "code",
   "execution_count": 32,
   "id": "85279717",
   "metadata": {},
   "outputs": [],
   "source": [
    "# 予測\n",
    "test_data =  np.arange(0, 100, 10)\n",
    "X_test = test_data.reshape(-1,1)"
   ]
  },
  {
   "cell_type": "code",
   "execution_count": 33,
   "id": "acf45087",
   "metadata": {},
   "outputs": [
    {
     "name": "stdout",
     "output_type": "stream",
     "text": [
      "[[0.98277206 0.01722794]\n",
      " [0.96160884 0.03839116]\n",
      " [0.91665299 0.08334701]\n",
      " [0.82844575 0.17155425]\n",
      " [0.6795245  0.3204755 ]\n",
      " [0.48213838 0.51786162]\n",
      " [0.29017356 0.70982644]\n",
      " [0.15217983 0.84782017]\n",
      " [0.07305579 0.92694421]\n",
      " [0.03344828 0.96655172]]\n"
     ]
    }
   ],
   "source": [
    "probs = lr.predict_proba(X_test)\n",
    "print(probs)"
   ]
  },
  {
   "cell_type": "code",
   "execution_count": null,
   "id": "8651d8bf",
   "metadata": {},
   "outputs": [],
   "source": []
  }
 ],
 "metadata": {
  "kernelspec": {
   "display_name": "Python 3 (ipykernel)",
   "language": "python",
   "name": "python3"
  },
  "language_info": {
   "codemirror_mode": {
    "name": "ipython",
    "version": 3
   },
   "file_extension": ".py",
   "mimetype": "text/x-python",
   "name": "python",
   "nbconvert_exporter": "python",
   "pygments_lexer": "ipython3",
   "version": "3.9.12"
  }
 },
 "nbformat": 4,
 "nbformat_minor": 5
}

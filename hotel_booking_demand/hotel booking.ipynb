{
 "cells": [
  {
   "cell_type": "code",
   "execution_count": 3,
   "id": "cf1b2917",
   "metadata": {},
   "outputs": [],
   "source": [
    "import pandas as pd\n",
    "import numpy as np\n",
    "import matplotlib.pyplot as plt\n",
    "import seaborn as sns\n",
    "from matplotlib import rcParams\n",
    "sns.set() "
   ]
  },
  {
   "cell_type": "code",
   "execution_count": 2,
   "id": "92e3be6f",
   "metadata": {},
   "outputs": [],
   "source": [
    "df = pd.read_csv('hotel_bookings.csv')"
   ]
  },
  {
   "cell_type": "code",
   "execution_count": 61,
   "id": "ccfca791",
   "metadata": {},
   "outputs": [
    {
     "data": {
      "text/html": [
       "<div>\n",
       "<style scoped>\n",
       "    .dataframe tbody tr th:only-of-type {\n",
       "        vertical-align: middle;\n",
       "    }\n",
       "\n",
       "    .dataframe tbody tr th {\n",
       "        vertical-align: top;\n",
       "    }\n",
       "\n",
       "    .dataframe thead th {\n",
       "        text-align: right;\n",
       "    }\n",
       "</style>\n",
       "<table border=\"1\" class=\"dataframe\">\n",
       "  <thead>\n",
       "    <tr style=\"text-align: right;\">\n",
       "      <th></th>\n",
       "      <th>hotel</th>\n",
       "      <th>is_canceled</th>\n",
       "      <th>lead_time</th>\n",
       "      <th>arrival_date_year</th>\n",
       "      <th>arrival_date_month</th>\n",
       "      <th>arrival_date_week_number</th>\n",
       "      <th>arrival_date_day_of_month</th>\n",
       "      <th>stays_in_weekend_nights</th>\n",
       "      <th>stays_in_week_nights</th>\n",
       "      <th>adults</th>\n",
       "      <th>...</th>\n",
       "      <th>deposit_type</th>\n",
       "      <th>agent</th>\n",
       "      <th>company</th>\n",
       "      <th>days_in_waiting_list</th>\n",
       "      <th>customer_type</th>\n",
       "      <th>adr</th>\n",
       "      <th>required_car_parking_spaces</th>\n",
       "      <th>total_of_special_requests</th>\n",
       "      <th>reservation_status</th>\n",
       "      <th>reservation_status_date</th>\n",
       "    </tr>\n",
       "  </thead>\n",
       "  <tbody>\n",
       "    <tr>\n",
       "      <th>0</th>\n",
       "      <td>Resort Hotel</td>\n",
       "      <td>0</td>\n",
       "      <td>342</td>\n",
       "      <td>2015</td>\n",
       "      <td>July</td>\n",
       "      <td>27</td>\n",
       "      <td>1</td>\n",
       "      <td>0</td>\n",
       "      <td>0</td>\n",
       "      <td>2</td>\n",
       "      <td>...</td>\n",
       "      <td>No Deposit</td>\n",
       "      <td>NaN</td>\n",
       "      <td>NaN</td>\n",
       "      <td>0</td>\n",
       "      <td>Transient</td>\n",
       "      <td>0.00</td>\n",
       "      <td>0</td>\n",
       "      <td>0</td>\n",
       "      <td>Check-Out</td>\n",
       "      <td>2015-07-01</td>\n",
       "    </tr>\n",
       "    <tr>\n",
       "      <th>1</th>\n",
       "      <td>Resort Hotel</td>\n",
       "      <td>0</td>\n",
       "      <td>737</td>\n",
       "      <td>2015</td>\n",
       "      <td>July</td>\n",
       "      <td>27</td>\n",
       "      <td>1</td>\n",
       "      <td>0</td>\n",
       "      <td>0</td>\n",
       "      <td>2</td>\n",
       "      <td>...</td>\n",
       "      <td>No Deposit</td>\n",
       "      <td>NaN</td>\n",
       "      <td>NaN</td>\n",
       "      <td>0</td>\n",
       "      <td>Transient</td>\n",
       "      <td>0.00</td>\n",
       "      <td>0</td>\n",
       "      <td>0</td>\n",
       "      <td>Check-Out</td>\n",
       "      <td>2015-07-01</td>\n",
       "    </tr>\n",
       "    <tr>\n",
       "      <th>2</th>\n",
       "      <td>Resort Hotel</td>\n",
       "      <td>0</td>\n",
       "      <td>7</td>\n",
       "      <td>2015</td>\n",
       "      <td>July</td>\n",
       "      <td>27</td>\n",
       "      <td>1</td>\n",
       "      <td>0</td>\n",
       "      <td>1</td>\n",
       "      <td>1</td>\n",
       "      <td>...</td>\n",
       "      <td>No Deposit</td>\n",
       "      <td>NaN</td>\n",
       "      <td>NaN</td>\n",
       "      <td>0</td>\n",
       "      <td>Transient</td>\n",
       "      <td>75.00</td>\n",
       "      <td>0</td>\n",
       "      <td>0</td>\n",
       "      <td>Check-Out</td>\n",
       "      <td>2015-07-02</td>\n",
       "    </tr>\n",
       "    <tr>\n",
       "      <th>3</th>\n",
       "      <td>Resort Hotel</td>\n",
       "      <td>0</td>\n",
       "      <td>13</td>\n",
       "      <td>2015</td>\n",
       "      <td>July</td>\n",
       "      <td>27</td>\n",
       "      <td>1</td>\n",
       "      <td>0</td>\n",
       "      <td>1</td>\n",
       "      <td>1</td>\n",
       "      <td>...</td>\n",
       "      <td>No Deposit</td>\n",
       "      <td>304.0</td>\n",
       "      <td>NaN</td>\n",
       "      <td>0</td>\n",
       "      <td>Transient</td>\n",
       "      <td>75.00</td>\n",
       "      <td>0</td>\n",
       "      <td>0</td>\n",
       "      <td>Check-Out</td>\n",
       "      <td>2015-07-02</td>\n",
       "    </tr>\n",
       "    <tr>\n",
       "      <th>4</th>\n",
       "      <td>Resort Hotel</td>\n",
       "      <td>0</td>\n",
       "      <td>14</td>\n",
       "      <td>2015</td>\n",
       "      <td>July</td>\n",
       "      <td>27</td>\n",
       "      <td>1</td>\n",
       "      <td>0</td>\n",
       "      <td>2</td>\n",
       "      <td>2</td>\n",
       "      <td>...</td>\n",
       "      <td>No Deposit</td>\n",
       "      <td>240.0</td>\n",
       "      <td>NaN</td>\n",
       "      <td>0</td>\n",
       "      <td>Transient</td>\n",
       "      <td>98.00</td>\n",
       "      <td>0</td>\n",
       "      <td>1</td>\n",
       "      <td>Check-Out</td>\n",
       "      <td>2015-07-03</td>\n",
       "    </tr>\n",
       "    <tr>\n",
       "      <th>...</th>\n",
       "      <td>...</td>\n",
       "      <td>...</td>\n",
       "      <td>...</td>\n",
       "      <td>...</td>\n",
       "      <td>...</td>\n",
       "      <td>...</td>\n",
       "      <td>...</td>\n",
       "      <td>...</td>\n",
       "      <td>...</td>\n",
       "      <td>...</td>\n",
       "      <td>...</td>\n",
       "      <td>...</td>\n",
       "      <td>...</td>\n",
       "      <td>...</td>\n",
       "      <td>...</td>\n",
       "      <td>...</td>\n",
       "      <td>...</td>\n",
       "      <td>...</td>\n",
       "      <td>...</td>\n",
       "      <td>...</td>\n",
       "      <td>...</td>\n",
       "    </tr>\n",
       "    <tr>\n",
       "      <th>119385</th>\n",
       "      <td>City Hotel</td>\n",
       "      <td>0</td>\n",
       "      <td>23</td>\n",
       "      <td>2017</td>\n",
       "      <td>August</td>\n",
       "      <td>35</td>\n",
       "      <td>30</td>\n",
       "      <td>2</td>\n",
       "      <td>5</td>\n",
       "      <td>2</td>\n",
       "      <td>...</td>\n",
       "      <td>No Deposit</td>\n",
       "      <td>394.0</td>\n",
       "      <td>NaN</td>\n",
       "      <td>0</td>\n",
       "      <td>Transient</td>\n",
       "      <td>96.14</td>\n",
       "      <td>0</td>\n",
       "      <td>0</td>\n",
       "      <td>Check-Out</td>\n",
       "      <td>2017-09-06</td>\n",
       "    </tr>\n",
       "    <tr>\n",
       "      <th>119386</th>\n",
       "      <td>City Hotel</td>\n",
       "      <td>0</td>\n",
       "      <td>102</td>\n",
       "      <td>2017</td>\n",
       "      <td>August</td>\n",
       "      <td>35</td>\n",
       "      <td>31</td>\n",
       "      <td>2</td>\n",
       "      <td>5</td>\n",
       "      <td>3</td>\n",
       "      <td>...</td>\n",
       "      <td>No Deposit</td>\n",
       "      <td>9.0</td>\n",
       "      <td>NaN</td>\n",
       "      <td>0</td>\n",
       "      <td>Transient</td>\n",
       "      <td>225.43</td>\n",
       "      <td>0</td>\n",
       "      <td>2</td>\n",
       "      <td>Check-Out</td>\n",
       "      <td>2017-09-07</td>\n",
       "    </tr>\n",
       "    <tr>\n",
       "      <th>119387</th>\n",
       "      <td>City Hotel</td>\n",
       "      <td>0</td>\n",
       "      <td>34</td>\n",
       "      <td>2017</td>\n",
       "      <td>August</td>\n",
       "      <td>35</td>\n",
       "      <td>31</td>\n",
       "      <td>2</td>\n",
       "      <td>5</td>\n",
       "      <td>2</td>\n",
       "      <td>...</td>\n",
       "      <td>No Deposit</td>\n",
       "      <td>9.0</td>\n",
       "      <td>NaN</td>\n",
       "      <td>0</td>\n",
       "      <td>Transient</td>\n",
       "      <td>157.71</td>\n",
       "      <td>0</td>\n",
       "      <td>4</td>\n",
       "      <td>Check-Out</td>\n",
       "      <td>2017-09-07</td>\n",
       "    </tr>\n",
       "    <tr>\n",
       "      <th>119388</th>\n",
       "      <td>City Hotel</td>\n",
       "      <td>0</td>\n",
       "      <td>109</td>\n",
       "      <td>2017</td>\n",
       "      <td>August</td>\n",
       "      <td>35</td>\n",
       "      <td>31</td>\n",
       "      <td>2</td>\n",
       "      <td>5</td>\n",
       "      <td>2</td>\n",
       "      <td>...</td>\n",
       "      <td>No Deposit</td>\n",
       "      <td>89.0</td>\n",
       "      <td>NaN</td>\n",
       "      <td>0</td>\n",
       "      <td>Transient</td>\n",
       "      <td>104.40</td>\n",
       "      <td>0</td>\n",
       "      <td>0</td>\n",
       "      <td>Check-Out</td>\n",
       "      <td>2017-09-07</td>\n",
       "    </tr>\n",
       "    <tr>\n",
       "      <th>119389</th>\n",
       "      <td>City Hotel</td>\n",
       "      <td>0</td>\n",
       "      <td>205</td>\n",
       "      <td>2017</td>\n",
       "      <td>August</td>\n",
       "      <td>35</td>\n",
       "      <td>29</td>\n",
       "      <td>2</td>\n",
       "      <td>7</td>\n",
       "      <td>2</td>\n",
       "      <td>...</td>\n",
       "      <td>No Deposit</td>\n",
       "      <td>9.0</td>\n",
       "      <td>NaN</td>\n",
       "      <td>0</td>\n",
       "      <td>Transient</td>\n",
       "      <td>151.20</td>\n",
       "      <td>0</td>\n",
       "      <td>2</td>\n",
       "      <td>Check-Out</td>\n",
       "      <td>2017-09-07</td>\n",
       "    </tr>\n",
       "  </tbody>\n",
       "</table>\n",
       "<p>119390 rows × 32 columns</p>\n",
       "</div>"
      ],
      "text/plain": [
       "               hotel  is_canceled  lead_time  arrival_date_year  \\\n",
       "0       Resort Hotel            0        342               2015   \n",
       "1       Resort Hotel            0        737               2015   \n",
       "2       Resort Hotel            0          7               2015   \n",
       "3       Resort Hotel            0         13               2015   \n",
       "4       Resort Hotel            0         14               2015   \n",
       "...              ...          ...        ...                ...   \n",
       "119385    City Hotel            0         23               2017   \n",
       "119386    City Hotel            0        102               2017   \n",
       "119387    City Hotel            0         34               2017   \n",
       "119388    City Hotel            0        109               2017   \n",
       "119389    City Hotel            0        205               2017   \n",
       "\n",
       "       arrival_date_month  arrival_date_week_number  \\\n",
       "0                    July                        27   \n",
       "1                    July                        27   \n",
       "2                    July                        27   \n",
       "3                    July                        27   \n",
       "4                    July                        27   \n",
       "...                   ...                       ...   \n",
       "119385             August                        35   \n",
       "119386             August                        35   \n",
       "119387             August                        35   \n",
       "119388             August                        35   \n",
       "119389             August                        35   \n",
       "\n",
       "        arrival_date_day_of_month  stays_in_weekend_nights  \\\n",
       "0                               1                        0   \n",
       "1                               1                        0   \n",
       "2                               1                        0   \n",
       "3                               1                        0   \n",
       "4                               1                        0   \n",
       "...                           ...                      ...   \n",
       "119385                         30                        2   \n",
       "119386                         31                        2   \n",
       "119387                         31                        2   \n",
       "119388                         31                        2   \n",
       "119389                         29                        2   \n",
       "\n",
       "        stays_in_week_nights  adults  ...  deposit_type  agent company  \\\n",
       "0                          0       2  ...    No Deposit    NaN     NaN   \n",
       "1                          0       2  ...    No Deposit    NaN     NaN   \n",
       "2                          1       1  ...    No Deposit    NaN     NaN   \n",
       "3                          1       1  ...    No Deposit  304.0     NaN   \n",
       "4                          2       2  ...    No Deposit  240.0     NaN   \n",
       "...                      ...     ...  ...           ...    ...     ...   \n",
       "119385                     5       2  ...    No Deposit  394.0     NaN   \n",
       "119386                     5       3  ...    No Deposit    9.0     NaN   \n",
       "119387                     5       2  ...    No Deposit    9.0     NaN   \n",
       "119388                     5       2  ...    No Deposit   89.0     NaN   \n",
       "119389                     7       2  ...    No Deposit    9.0     NaN   \n",
       "\n",
       "       days_in_waiting_list customer_type     adr  \\\n",
       "0                         0     Transient    0.00   \n",
       "1                         0     Transient    0.00   \n",
       "2                         0     Transient   75.00   \n",
       "3                         0     Transient   75.00   \n",
       "4                         0     Transient   98.00   \n",
       "...                     ...           ...     ...   \n",
       "119385                    0     Transient   96.14   \n",
       "119386                    0     Transient  225.43   \n",
       "119387                    0     Transient  157.71   \n",
       "119388                    0     Transient  104.40   \n",
       "119389                    0     Transient  151.20   \n",
       "\n",
       "        required_car_parking_spaces  total_of_special_requests  \\\n",
       "0                                 0                          0   \n",
       "1                                 0                          0   \n",
       "2                                 0                          0   \n",
       "3                                 0                          0   \n",
       "4                                 0                          1   \n",
       "...                             ...                        ...   \n",
       "119385                            0                          0   \n",
       "119386                            0                          2   \n",
       "119387                            0                          4   \n",
       "119388                            0                          0   \n",
       "119389                            0                          2   \n",
       "\n",
       "        reservation_status reservation_status_date  \n",
       "0                Check-Out              2015-07-01  \n",
       "1                Check-Out              2015-07-01  \n",
       "2                Check-Out              2015-07-02  \n",
       "3                Check-Out              2015-07-02  \n",
       "4                Check-Out              2015-07-03  \n",
       "...                    ...                     ...  \n",
       "119385           Check-Out              2017-09-06  \n",
       "119386           Check-Out              2017-09-07  \n",
       "119387           Check-Out              2017-09-07  \n",
       "119388           Check-Out              2017-09-07  \n",
       "119389           Check-Out              2017-09-07  \n",
       "\n",
       "[119390 rows x 32 columns]"
      ]
     },
     "execution_count": 61,
     "metadata": {},
     "output_type": "execute_result"
    }
   ],
   "source": [
    "df"
   ]
  },
  {
   "cell_type": "code",
   "execution_count": 4,
   "id": "397711ed",
   "metadata": {},
   "outputs": [
    {
     "name": "stdout",
     "output_type": "stream",
     "text": [
      "<class 'pandas.core.frame.DataFrame'>\n",
      "RangeIndex: 119390 entries, 0 to 119389\n",
      "Data columns (total 32 columns):\n",
      " #   Column                          Non-Null Count   Dtype  \n",
      "---  ------                          --------------   -----  \n",
      " 0   hotel                           119390 non-null  object \n",
      " 1   is_canceled                     119390 non-null  int64  \n",
      " 2   lead_time                       119390 non-null  int64  \n",
      " 3   arrival_date_year               119390 non-null  int64  \n",
      " 4   arrival_date_month              119390 non-null  object \n",
      " 5   arrival_date_week_number        119390 non-null  int64  \n",
      " 6   arrival_date_day_of_month       119390 non-null  int64  \n",
      " 7   stays_in_weekend_nights         119390 non-null  int64  \n",
      " 8   stays_in_week_nights            119390 non-null  int64  \n",
      " 9   adults                          119390 non-null  int64  \n",
      " 10  children                        119386 non-null  float64\n",
      " 11  babies                          119390 non-null  int64  \n",
      " 12  meal                            119390 non-null  object \n",
      " 13  country                         118902 non-null  object \n",
      " 14  market_segment                  119390 non-null  object \n",
      " 15  distribution_channel            119390 non-null  object \n",
      " 16  is_repeated_guest               119390 non-null  int64  \n",
      " 17  previous_cancellations          119390 non-null  int64  \n",
      " 18  previous_bookings_not_canceled  119390 non-null  int64  \n",
      " 19  reserved_room_type              119390 non-null  object \n",
      " 20  assigned_room_type              119390 non-null  object \n",
      " 21  booking_changes                 119390 non-null  int64  \n",
      " 22  deposit_type                    119390 non-null  object \n",
      " 23  agent                           103050 non-null  float64\n",
      " 24  company                         6797 non-null    float64\n",
      " 25  days_in_waiting_list            119390 non-null  int64  \n",
      " 26  customer_type                   119390 non-null  object \n",
      " 27  adr                             119390 non-null  float64\n",
      " 28  required_car_parking_spaces     119390 non-null  int64  \n",
      " 29  total_of_special_requests       119390 non-null  int64  \n",
      " 30  reservation_status              119390 non-null  object \n",
      " 31  reservation_status_date         119390 non-null  object \n",
      "dtypes: float64(4), int64(16), object(12)\n",
      "memory usage: 29.1+ MB\n"
     ]
    }
   ],
   "source": [
    "#查看列信息\n",
    "df.info()\n",
    "#lead_time 从预约到入住的天数\n",
    "#stays_in_week_nights，周内留宿，weekend周末留宿"
   ]
  },
  {
   "cell_type": "code",
   "execution_count": 5,
   "id": "5795ec92",
   "metadata": {},
   "outputs": [
    {
     "data": {
      "text/plain": [
       "array(['Transient', 'Contract', 'Transient-Party', 'Group'], dtype=object)"
      ]
     },
     "execution_count": 5,
     "metadata": {},
     "output_type": "execute_result"
    }
   ],
   "source": [
    "df.customer_type.unique()"
   ]
  },
  {
   "cell_type": "markdown",
   "id": "708f4a5c",
   "metadata": {},
   "source": [
    "## 分析酒店回头客特征"
   ]
  },
  {
   "cell_type": "markdown",
   "id": "42b51375",
   "metadata": {},
   "source": [
    "两中酒店回头客构成情况"
   ]
  },
  {
   "cell_type": "markdown",
   "id": "ef498a9b",
   "metadata": {},
   "source": [
    "查询出度假酒店中旅客为回头客的数据"
   ]
  },
  {
   "cell_type": "code",
   "execution_count": 6,
   "id": "256a48f6",
   "metadata": {},
   "outputs": [],
   "source": [
    "#所有酒店来店2次以上的顾客数据\n",
    "repeated=df.query('is_repeated_guest==1')"
   ]
  },
  {
   "cell_type": "code",
   "execution_count": 7,
   "id": "5a6ce977",
   "metadata": {},
   "outputs": [
    {
     "data": {
      "text/html": [
       "<div>\n",
       "<style scoped>\n",
       "    .dataframe tbody tr th:only-of-type {\n",
       "        vertical-align: middle;\n",
       "    }\n",
       "\n",
       "    .dataframe tbody tr th {\n",
       "        vertical-align: top;\n",
       "    }\n",
       "\n",
       "    .dataframe thead th {\n",
       "        text-align: right;\n",
       "    }\n",
       "</style>\n",
       "<table border=\"1\" class=\"dataframe\">\n",
       "  <thead>\n",
       "    <tr style=\"text-align: right;\">\n",
       "      <th></th>\n",
       "      <th>hotel</th>\n",
       "      <th>is_canceled</th>\n",
       "      <th>lead_time</th>\n",
       "      <th>arrival_date_year</th>\n",
       "      <th>arrival_date_month</th>\n",
       "      <th>arrival_date_week_number</th>\n",
       "      <th>arrival_date_day_of_month</th>\n",
       "      <th>stays_in_weekend_nights</th>\n",
       "      <th>stays_in_week_nights</th>\n",
       "      <th>adults</th>\n",
       "      <th>...</th>\n",
       "      <th>deposit_type</th>\n",
       "      <th>agent</th>\n",
       "      <th>company</th>\n",
       "      <th>days_in_waiting_list</th>\n",
       "      <th>customer_type</th>\n",
       "      <th>adr</th>\n",
       "      <th>required_car_parking_spaces</th>\n",
       "      <th>total_of_special_requests</th>\n",
       "      <th>reservation_status</th>\n",
       "      <th>reservation_status_date</th>\n",
       "    </tr>\n",
       "  </thead>\n",
       "  <tbody>\n",
       "    <tr>\n",
       "      <th>13937</th>\n",
       "      <td>Resort Hotel</td>\n",
       "      <td>0</td>\n",
       "      <td>6</td>\n",
       "      <td>2016</td>\n",
       "      <td>April</td>\n",
       "      <td>17</td>\n",
       "      <td>20</td>\n",
       "      <td>0</td>\n",
       "      <td>2</td>\n",
       "      <td>1</td>\n",
       "      <td>...</td>\n",
       "      <td>No Deposit</td>\n",
       "      <td>5.0</td>\n",
       "      <td>NaN</td>\n",
       "      <td>0</td>\n",
       "      <td>Transient</td>\n",
       "      <td>0.00</td>\n",
       "      <td>1</td>\n",
       "      <td>0</td>\n",
       "      <td>Check-Out</td>\n",
       "      <td>2016-04-22</td>\n",
       "    </tr>\n",
       "    <tr>\n",
       "      <th>14681</th>\n",
       "      <td>Resort Hotel</td>\n",
       "      <td>1</td>\n",
       "      <td>202</td>\n",
       "      <td>2015</td>\n",
       "      <td>July</td>\n",
       "      <td>30</td>\n",
       "      <td>22</td>\n",
       "      <td>2</td>\n",
       "      <td>5</td>\n",
       "      <td>2</td>\n",
       "      <td>...</td>\n",
       "      <td>No Deposit</td>\n",
       "      <td>156.0</td>\n",
       "      <td>NaN</td>\n",
       "      <td>0</td>\n",
       "      <td>Contract</td>\n",
       "      <td>90.95</td>\n",
       "      <td>0</td>\n",
       "      <td>0</td>\n",
       "      <td>Canceled</td>\n",
       "      <td>2015-01-01</td>\n",
       "    </tr>\n",
       "    <tr>\n",
       "      <th>14777</th>\n",
       "      <td>Resort Hotel</td>\n",
       "      <td>1</td>\n",
       "      <td>187</td>\n",
       "      <td>2015</td>\n",
       "      <td>August</td>\n",
       "      <td>32</td>\n",
       "      <td>4</td>\n",
       "      <td>0</td>\n",
       "      <td>5</td>\n",
       "      <td>2</td>\n",
       "      <td>...</td>\n",
       "      <td>No Deposit</td>\n",
       "      <td>240.0</td>\n",
       "      <td>NaN</td>\n",
       "      <td>0</td>\n",
       "      <td>Transient</td>\n",
       "      <td>66.00</td>\n",
       "      <td>0</td>\n",
       "      <td>2</td>\n",
       "      <td>Canceled</td>\n",
       "      <td>2015-01-29</td>\n",
       "    </tr>\n",
       "    <tr>\n",
       "      <th>14817</th>\n",
       "      <td>Resort Hotel</td>\n",
       "      <td>1</td>\n",
       "      <td>202</td>\n",
       "      <td>2015</td>\n",
       "      <td>September</td>\n",
       "      <td>36</td>\n",
       "      <td>1</td>\n",
       "      <td>2</td>\n",
       "      <td>8</td>\n",
       "      <td>2</td>\n",
       "      <td>...</td>\n",
       "      <td>No Deposit</td>\n",
       "      <td>156.0</td>\n",
       "      <td>NaN</td>\n",
       "      <td>0</td>\n",
       "      <td>Contract</td>\n",
       "      <td>55.68</td>\n",
       "      <td>0</td>\n",
       "      <td>1</td>\n",
       "      <td>Canceled</td>\n",
       "      <td>2015-02-11</td>\n",
       "    </tr>\n",
       "    <tr>\n",
       "      <th>14823</th>\n",
       "      <td>Resort Hotel</td>\n",
       "      <td>1</td>\n",
       "      <td>173</td>\n",
       "      <td>2015</td>\n",
       "      <td>August</td>\n",
       "      <td>34</td>\n",
       "      <td>16</td>\n",
       "      <td>2</td>\n",
       "      <td>5</td>\n",
       "      <td>2</td>\n",
       "      <td>...</td>\n",
       "      <td>No Deposit</td>\n",
       "      <td>250.0</td>\n",
       "      <td>NaN</td>\n",
       "      <td>0</td>\n",
       "      <td>Transient</td>\n",
       "      <td>130.90</td>\n",
       "      <td>0</td>\n",
       "      <td>0</td>\n",
       "      <td>Canceled</td>\n",
       "      <td>2015-02-24</td>\n",
       "    </tr>\n",
       "  </tbody>\n",
       "</table>\n",
       "<p>5 rows × 32 columns</p>\n",
       "</div>"
      ],
      "text/plain": [
       "              hotel  is_canceled  lead_time  arrival_date_year  \\\n",
       "13937  Resort Hotel            0          6               2016   \n",
       "14681  Resort Hotel            1        202               2015   \n",
       "14777  Resort Hotel            1        187               2015   \n",
       "14817  Resort Hotel            1        202               2015   \n",
       "14823  Resort Hotel            1        173               2015   \n",
       "\n",
       "      arrival_date_month  arrival_date_week_number  arrival_date_day_of_month  \\\n",
       "13937              April                        17                         20   \n",
       "14681               July                        30                         22   \n",
       "14777             August                        32                          4   \n",
       "14817          September                        36                          1   \n",
       "14823             August                        34                         16   \n",
       "\n",
       "       stays_in_weekend_nights  stays_in_week_nights  adults  ...  \\\n",
       "13937                        0                     2       1  ...   \n",
       "14681                        2                     5       2  ...   \n",
       "14777                        0                     5       2  ...   \n",
       "14817                        2                     8       2  ...   \n",
       "14823                        2                     5       2  ...   \n",
       "\n",
       "       deposit_type  agent company days_in_waiting_list customer_type     adr  \\\n",
       "13937    No Deposit    5.0     NaN                    0     Transient    0.00   \n",
       "14681    No Deposit  156.0     NaN                    0      Contract   90.95   \n",
       "14777    No Deposit  240.0     NaN                    0     Transient   66.00   \n",
       "14817    No Deposit  156.0     NaN                    0      Contract   55.68   \n",
       "14823    No Deposit  250.0     NaN                    0     Transient  130.90   \n",
       "\n",
       "       required_car_parking_spaces  total_of_special_requests  \\\n",
       "13937                            1                          0   \n",
       "14681                            0                          0   \n",
       "14777                            0                          2   \n",
       "14817                            0                          1   \n",
       "14823                            0                          0   \n",
       "\n",
       "       reservation_status reservation_status_date  \n",
       "13937           Check-Out              2016-04-22  \n",
       "14681            Canceled              2015-01-01  \n",
       "14777            Canceled              2015-01-29  \n",
       "14817            Canceled              2015-02-11  \n",
       "14823            Canceled              2015-02-24  \n",
       "\n",
       "[5 rows x 32 columns]"
      ]
     },
     "execution_count": 7,
     "metadata": {},
     "output_type": "execute_result"
    }
   ],
   "source": [
    "repeated.head()"
   ]
  },
  {
   "cell_type": "code",
   "execution_count": 8,
   "id": "cd3dd5e7",
   "metadata": {},
   "outputs": [
    {
     "data": {
      "text/html": [
       "<div>\n",
       "<style scoped>\n",
       "    .dataframe tbody tr th:only-of-type {\n",
       "        vertical-align: middle;\n",
       "    }\n",
       "\n",
       "    .dataframe tbody tr th {\n",
       "        vertical-align: top;\n",
       "    }\n",
       "\n",
       "    .dataframe thead th {\n",
       "        text-align: right;\n",
       "    }\n",
       "</style>\n",
       "<table border=\"1\" class=\"dataframe\">\n",
       "  <thead>\n",
       "    <tr style=\"text-align: right;\">\n",
       "      <th></th>\n",
       "      <th>is_canceled</th>\n",
       "      <th>lead_time</th>\n",
       "      <th>arrival_date_year</th>\n",
       "      <th>arrival_date_week_number</th>\n",
       "      <th>arrival_date_day_of_month</th>\n",
       "      <th>stays_in_weekend_nights</th>\n",
       "      <th>stays_in_week_nights</th>\n",
       "      <th>adults</th>\n",
       "      <th>children</th>\n",
       "      <th>babies</th>\n",
       "      <th>is_repeated_guest</th>\n",
       "      <th>previous_cancellations</th>\n",
       "      <th>previous_bookings_not_canceled</th>\n",
       "      <th>booking_changes</th>\n",
       "      <th>agent</th>\n",
       "      <th>company</th>\n",
       "      <th>days_in_waiting_list</th>\n",
       "      <th>adr</th>\n",
       "      <th>required_car_parking_spaces</th>\n",
       "      <th>total_of_special_requests</th>\n",
       "    </tr>\n",
       "    <tr>\n",
       "      <th>hotel</th>\n",
       "      <th></th>\n",
       "      <th></th>\n",
       "      <th></th>\n",
       "      <th></th>\n",
       "      <th></th>\n",
       "      <th></th>\n",
       "      <th></th>\n",
       "      <th></th>\n",
       "      <th></th>\n",
       "      <th></th>\n",
       "      <th></th>\n",
       "      <th></th>\n",
       "      <th></th>\n",
       "      <th></th>\n",
       "      <th></th>\n",
       "      <th></th>\n",
       "      <th></th>\n",
       "      <th></th>\n",
       "      <th></th>\n",
       "      <th></th>\n",
       "    </tr>\n",
       "  </thead>\n",
       "  <tbody>\n",
       "    <tr>\n",
       "      <th>City Hotel</th>\n",
       "      <td>0.217028</td>\n",
       "      <td>35.900591</td>\n",
       "      <td>2016.050689</td>\n",
       "      <td>27.405512</td>\n",
       "      <td>15.141732</td>\n",
       "      <td>0.355807</td>\n",
       "      <td>1.337106</td>\n",
       "      <td>1.325295</td>\n",
       "      <td>0.025098</td>\n",
       "      <td>0.003937</td>\n",
       "      <td>1.0</td>\n",
       "      <td>0.767224</td>\n",
       "      <td>4.852854</td>\n",
       "      <td>0.241142</td>\n",
       "      <td>34.668061</td>\n",
       "      <td>90.417766</td>\n",
       "      <td>0.168307</td>\n",
       "      <td>64.234793</td>\n",
       "      <td>0.113189</td>\n",
       "      <td>0.633858</td>\n",
       "    </tr>\n",
       "    <tr>\n",
       "      <th>Resort Hotel</th>\n",
       "      <td>0.062430</td>\n",
       "      <td>24.941507</td>\n",
       "      <td>2016.363892</td>\n",
       "      <td>22.052306</td>\n",
       "      <td>15.911699</td>\n",
       "      <td>0.552868</td>\n",
       "      <td>1.639483</td>\n",
       "      <td>1.462317</td>\n",
       "      <td>0.039370</td>\n",
       "      <td>0.002250</td>\n",
       "      <td>1.0</td>\n",
       "      <td>0.129921</td>\n",
       "      <td>2.136108</td>\n",
       "      <td>0.291339</td>\n",
       "      <td>196.060440</td>\n",
       "      <td>223.365854</td>\n",
       "      <td>0.164229</td>\n",
       "      <td>64.687373</td>\n",
       "      <td>0.227784</td>\n",
       "      <td>0.622047</td>\n",
       "    </tr>\n",
       "  </tbody>\n",
       "</table>\n",
       "</div>"
      ],
      "text/plain": [
       "              is_canceled  lead_time  arrival_date_year  \\\n",
       "hotel                                                     \n",
       "City Hotel       0.217028  35.900591        2016.050689   \n",
       "Resort Hotel     0.062430  24.941507        2016.363892   \n",
       "\n",
       "              arrival_date_week_number  arrival_date_day_of_month  \\\n",
       "hotel                                                               \n",
       "City Hotel                   27.405512                  15.141732   \n",
       "Resort Hotel                 22.052306                  15.911699   \n",
       "\n",
       "              stays_in_weekend_nights  stays_in_week_nights    adults  \\\n",
       "hotel                                                                   \n",
       "City Hotel                   0.355807              1.337106  1.325295   \n",
       "Resort Hotel                 0.552868              1.639483  1.462317   \n",
       "\n",
       "              children    babies  is_repeated_guest  previous_cancellations  \\\n",
       "hotel                                                                         \n",
       "City Hotel    0.025098  0.003937                1.0                0.767224   \n",
       "Resort Hotel  0.039370  0.002250                1.0                0.129921   \n",
       "\n",
       "              previous_bookings_not_canceled  booking_changes       agent  \\\n",
       "hotel                                                                       \n",
       "City Hotel                          4.852854         0.241142   34.668061   \n",
       "Resort Hotel                        2.136108         0.291339  196.060440   \n",
       "\n",
       "                 company  days_in_waiting_list        adr  \\\n",
       "hotel                                                       \n",
       "City Hotel     90.417766              0.168307  64.234793   \n",
       "Resort Hotel  223.365854              0.164229  64.687373   \n",
       "\n",
       "              required_car_parking_spaces  total_of_special_requests  \n",
       "hotel                                                                 \n",
       "City Hotel                       0.113189                   0.633858  \n",
       "Resort Hotel                     0.227784                   0.622047  "
      ]
     },
     "execution_count": 8,
     "metadata": {},
     "output_type": "execute_result"
    }
   ],
   "source": [
    "repeated.groupby('hotel').mean()"
   ]
  },
  {
   "cell_type": "markdown",
   "id": "ea2e5908",
   "metadata": {},
   "source": [
    "对比两种酒店的平均数可以看出：\n",
    "\n",
    "    度假酒店的订单的取消率更高\n",
    "\n",
    "    城市酒店成功入住次数更多\n",
    "\n",
    "    两种酒店的平均每日房价相差不大"
   ]
  },
  {
   "cell_type": "code",
   "execution_count": 9,
   "id": "23c4d273",
   "metadata": {},
   "outputs": [],
   "source": [
    "rh_repeated=repeated.groupby('hotel')"
   ]
  },
  {
   "cell_type": "code",
   "execution_count": 10,
   "id": "39773fad",
   "metadata": {},
   "outputs": [
    {
     "data": {
      "text/html": [
       "<div>\n",
       "<style scoped>\n",
       "    .dataframe tbody tr th:only-of-type {\n",
       "        vertical-align: middle;\n",
       "    }\n",
       "\n",
       "    .dataframe tbody tr th {\n",
       "        vertical-align: top;\n",
       "    }\n",
       "\n",
       "    .dataframe thead th {\n",
       "        text-align: right;\n",
       "    }\n",
       "</style>\n",
       "<table border=\"1\" class=\"dataframe\">\n",
       "  <thead>\n",
       "    <tr style=\"text-align: right;\">\n",
       "      <th></th>\n",
       "      <th>hotel</th>\n",
       "      <th>is_canceled</th>\n",
       "      <th>lead_time</th>\n",
       "      <th>arrival_date_year</th>\n",
       "      <th>arrival_date_month</th>\n",
       "      <th>arrival_date_week_number</th>\n",
       "      <th>arrival_date_day_of_month</th>\n",
       "      <th>stays_in_weekend_nights</th>\n",
       "      <th>stays_in_week_nights</th>\n",
       "      <th>adults</th>\n",
       "      <th>...</th>\n",
       "      <th>deposit_type</th>\n",
       "      <th>agent</th>\n",
       "      <th>company</th>\n",
       "      <th>days_in_waiting_list</th>\n",
       "      <th>customer_type</th>\n",
       "      <th>adr</th>\n",
       "      <th>required_car_parking_spaces</th>\n",
       "      <th>total_of_special_requests</th>\n",
       "      <th>reservation_status</th>\n",
       "      <th>reservation_status_date</th>\n",
       "    </tr>\n",
       "  </thead>\n",
       "  <tbody>\n",
       "    <tr>\n",
       "      <th>13937</th>\n",
       "      <td>Resort Hotel</td>\n",
       "      <td>0</td>\n",
       "      <td>6</td>\n",
       "      <td>2016</td>\n",
       "      <td>April</td>\n",
       "      <td>17</td>\n",
       "      <td>20</td>\n",
       "      <td>0</td>\n",
       "      <td>2</td>\n",
       "      <td>1</td>\n",
       "      <td>...</td>\n",
       "      <td>No Deposit</td>\n",
       "      <td>5.0</td>\n",
       "      <td>NaN</td>\n",
       "      <td>0</td>\n",
       "      <td>Transient</td>\n",
       "      <td>0.00</td>\n",
       "      <td>1</td>\n",
       "      <td>0</td>\n",
       "      <td>Check-Out</td>\n",
       "      <td>2016-04-22</td>\n",
       "    </tr>\n",
       "    <tr>\n",
       "      <th>14681</th>\n",
       "      <td>Resort Hotel</td>\n",
       "      <td>1</td>\n",
       "      <td>202</td>\n",
       "      <td>2015</td>\n",
       "      <td>July</td>\n",
       "      <td>30</td>\n",
       "      <td>22</td>\n",
       "      <td>2</td>\n",
       "      <td>5</td>\n",
       "      <td>2</td>\n",
       "      <td>...</td>\n",
       "      <td>No Deposit</td>\n",
       "      <td>156.0</td>\n",
       "      <td>NaN</td>\n",
       "      <td>0</td>\n",
       "      <td>Contract</td>\n",
       "      <td>90.95</td>\n",
       "      <td>0</td>\n",
       "      <td>0</td>\n",
       "      <td>Canceled</td>\n",
       "      <td>2015-01-01</td>\n",
       "    </tr>\n",
       "    <tr>\n",
       "      <th>14777</th>\n",
       "      <td>Resort Hotel</td>\n",
       "      <td>1</td>\n",
       "      <td>187</td>\n",
       "      <td>2015</td>\n",
       "      <td>August</td>\n",
       "      <td>32</td>\n",
       "      <td>4</td>\n",
       "      <td>0</td>\n",
       "      <td>5</td>\n",
       "      <td>2</td>\n",
       "      <td>...</td>\n",
       "      <td>No Deposit</td>\n",
       "      <td>240.0</td>\n",
       "      <td>NaN</td>\n",
       "      <td>0</td>\n",
       "      <td>Transient</td>\n",
       "      <td>66.00</td>\n",
       "      <td>0</td>\n",
       "      <td>2</td>\n",
       "      <td>Canceled</td>\n",
       "      <td>2015-01-29</td>\n",
       "    </tr>\n",
       "    <tr>\n",
       "      <th>14817</th>\n",
       "      <td>Resort Hotel</td>\n",
       "      <td>1</td>\n",
       "      <td>202</td>\n",
       "      <td>2015</td>\n",
       "      <td>September</td>\n",
       "      <td>36</td>\n",
       "      <td>1</td>\n",
       "      <td>2</td>\n",
       "      <td>8</td>\n",
       "      <td>2</td>\n",
       "      <td>...</td>\n",
       "      <td>No Deposit</td>\n",
       "      <td>156.0</td>\n",
       "      <td>NaN</td>\n",
       "      <td>0</td>\n",
       "      <td>Contract</td>\n",
       "      <td>55.68</td>\n",
       "      <td>0</td>\n",
       "      <td>1</td>\n",
       "      <td>Canceled</td>\n",
       "      <td>2015-02-11</td>\n",
       "    </tr>\n",
       "    <tr>\n",
       "      <th>14823</th>\n",
       "      <td>Resort Hotel</td>\n",
       "      <td>1</td>\n",
       "      <td>173</td>\n",
       "      <td>2015</td>\n",
       "      <td>August</td>\n",
       "      <td>34</td>\n",
       "      <td>16</td>\n",
       "      <td>2</td>\n",
       "      <td>5</td>\n",
       "      <td>2</td>\n",
       "      <td>...</td>\n",
       "      <td>No Deposit</td>\n",
       "      <td>250.0</td>\n",
       "      <td>NaN</td>\n",
       "      <td>0</td>\n",
       "      <td>Transient</td>\n",
       "      <td>130.90</td>\n",
       "      <td>0</td>\n",
       "      <td>0</td>\n",
       "      <td>Canceled</td>\n",
       "      <td>2015-02-24</td>\n",
       "    </tr>\n",
       "    <tr>\n",
       "      <th>73714</th>\n",
       "      <td>City Hotel</td>\n",
       "      <td>1</td>\n",
       "      <td>265</td>\n",
       "      <td>2015</td>\n",
       "      <td>July</td>\n",
       "      <td>28</td>\n",
       "      <td>9</td>\n",
       "      <td>0</td>\n",
       "      <td>2</td>\n",
       "      <td>2</td>\n",
       "      <td>...</td>\n",
       "      <td>No Deposit</td>\n",
       "      <td>1.0</td>\n",
       "      <td>NaN</td>\n",
       "      <td>0</td>\n",
       "      <td>Transient-Party</td>\n",
       "      <td>62.80</td>\n",
       "      <td>0</td>\n",
       "      <td>0</td>\n",
       "      <td>Canceled</td>\n",
       "      <td>2014-10-17</td>\n",
       "    </tr>\n",
       "    <tr>\n",
       "      <th>73715</th>\n",
       "      <td>City Hotel</td>\n",
       "      <td>1</td>\n",
       "      <td>258</td>\n",
       "      <td>2015</td>\n",
       "      <td>July</td>\n",
       "      <td>27</td>\n",
       "      <td>2</td>\n",
       "      <td>0</td>\n",
       "      <td>2</td>\n",
       "      <td>2</td>\n",
       "      <td>...</td>\n",
       "      <td>No Deposit</td>\n",
       "      <td>1.0</td>\n",
       "      <td>NaN</td>\n",
       "      <td>0</td>\n",
       "      <td>Transient-Party</td>\n",
       "      <td>62.80</td>\n",
       "      <td>0</td>\n",
       "      <td>0</td>\n",
       "      <td>Canceled</td>\n",
       "      <td>2014-10-17</td>\n",
       "    </tr>\n",
       "    <tr>\n",
       "      <th>73716</th>\n",
       "      <td>City Hotel</td>\n",
       "      <td>1</td>\n",
       "      <td>258</td>\n",
       "      <td>2015</td>\n",
       "      <td>July</td>\n",
       "      <td>27</td>\n",
       "      <td>2</td>\n",
       "      <td>0</td>\n",
       "      <td>2</td>\n",
       "      <td>2</td>\n",
       "      <td>...</td>\n",
       "      <td>No Deposit</td>\n",
       "      <td>1.0</td>\n",
       "      <td>NaN</td>\n",
       "      <td>0</td>\n",
       "      <td>Transient-Party</td>\n",
       "      <td>62.80</td>\n",
       "      <td>0</td>\n",
       "      <td>0</td>\n",
       "      <td>Canceled</td>\n",
       "      <td>2014-10-17</td>\n",
       "    </tr>\n",
       "    <tr>\n",
       "      <th>73717</th>\n",
       "      <td>City Hotel</td>\n",
       "      <td>1</td>\n",
       "      <td>258</td>\n",
       "      <td>2015</td>\n",
       "      <td>July</td>\n",
       "      <td>27</td>\n",
       "      <td>2</td>\n",
       "      <td>0</td>\n",
       "      <td>2</td>\n",
       "      <td>2</td>\n",
       "      <td>...</td>\n",
       "      <td>No Deposit</td>\n",
       "      <td>1.0</td>\n",
       "      <td>NaN</td>\n",
       "      <td>0</td>\n",
       "      <td>Transient-Party</td>\n",
       "      <td>62.80</td>\n",
       "      <td>0</td>\n",
       "      <td>0</td>\n",
       "      <td>Canceled</td>\n",
       "      <td>2014-10-17</td>\n",
       "    </tr>\n",
       "    <tr>\n",
       "      <th>73718</th>\n",
       "      <td>City Hotel</td>\n",
       "      <td>1</td>\n",
       "      <td>258</td>\n",
       "      <td>2015</td>\n",
       "      <td>July</td>\n",
       "      <td>27</td>\n",
       "      <td>2</td>\n",
       "      <td>0</td>\n",
       "      <td>2</td>\n",
       "      <td>2</td>\n",
       "      <td>...</td>\n",
       "      <td>No Deposit</td>\n",
       "      <td>1.0</td>\n",
       "      <td>NaN</td>\n",
       "      <td>0</td>\n",
       "      <td>Transient-Party</td>\n",
       "      <td>62.80</td>\n",
       "      <td>0</td>\n",
       "      <td>0</td>\n",
       "      <td>Canceled</td>\n",
       "      <td>2014-10-17</td>\n",
       "    </tr>\n",
       "  </tbody>\n",
       "</table>\n",
       "<p>10 rows × 32 columns</p>\n",
       "</div>"
      ],
      "text/plain": [
       "              hotel  is_canceled  lead_time  arrival_date_year  \\\n",
       "13937  Resort Hotel            0          6               2016   \n",
       "14681  Resort Hotel            1        202               2015   \n",
       "14777  Resort Hotel            1        187               2015   \n",
       "14817  Resort Hotel            1        202               2015   \n",
       "14823  Resort Hotel            1        173               2015   \n",
       "73714    City Hotel            1        265               2015   \n",
       "73715    City Hotel            1        258               2015   \n",
       "73716    City Hotel            1        258               2015   \n",
       "73717    City Hotel            1        258               2015   \n",
       "73718    City Hotel            1        258               2015   \n",
       "\n",
       "      arrival_date_month  arrival_date_week_number  arrival_date_day_of_month  \\\n",
       "13937              April                        17                         20   \n",
       "14681               July                        30                         22   \n",
       "14777             August                        32                          4   \n",
       "14817          September                        36                          1   \n",
       "14823             August                        34                         16   \n",
       "73714               July                        28                          9   \n",
       "73715               July                        27                          2   \n",
       "73716               July                        27                          2   \n",
       "73717               July                        27                          2   \n",
       "73718               July                        27                          2   \n",
       "\n",
       "       stays_in_weekend_nights  stays_in_week_nights  adults  ...  \\\n",
       "13937                        0                     2       1  ...   \n",
       "14681                        2                     5       2  ...   \n",
       "14777                        0                     5       2  ...   \n",
       "14817                        2                     8       2  ...   \n",
       "14823                        2                     5       2  ...   \n",
       "73714                        0                     2       2  ...   \n",
       "73715                        0                     2       2  ...   \n",
       "73716                        0                     2       2  ...   \n",
       "73717                        0                     2       2  ...   \n",
       "73718                        0                     2       2  ...   \n",
       "\n",
       "       deposit_type  agent company days_in_waiting_list    customer_type  \\\n",
       "13937    No Deposit    5.0     NaN                    0        Transient   \n",
       "14681    No Deposit  156.0     NaN                    0         Contract   \n",
       "14777    No Deposit  240.0     NaN                    0        Transient   \n",
       "14817    No Deposit  156.0     NaN                    0         Contract   \n",
       "14823    No Deposit  250.0     NaN                    0        Transient   \n",
       "73714    No Deposit    1.0     NaN                    0  Transient-Party   \n",
       "73715    No Deposit    1.0     NaN                    0  Transient-Party   \n",
       "73716    No Deposit    1.0     NaN                    0  Transient-Party   \n",
       "73717    No Deposit    1.0     NaN                    0  Transient-Party   \n",
       "73718    No Deposit    1.0     NaN                    0  Transient-Party   \n",
       "\n",
       "          adr  required_car_parking_spaces  total_of_special_requests  \\\n",
       "13937    0.00                            1                          0   \n",
       "14681   90.95                            0                          0   \n",
       "14777   66.00                            0                          2   \n",
       "14817   55.68                            0                          1   \n",
       "14823  130.90                            0                          0   \n",
       "73714   62.80                            0                          0   \n",
       "73715   62.80                            0                          0   \n",
       "73716   62.80                            0                          0   \n",
       "73717   62.80                            0                          0   \n",
       "73718   62.80                            0                          0   \n",
       "\n",
       "       reservation_status reservation_status_date  \n",
       "13937           Check-Out              2016-04-22  \n",
       "14681            Canceled              2015-01-01  \n",
       "14777            Canceled              2015-01-29  \n",
       "14817            Canceled              2015-02-11  \n",
       "14823            Canceled              2015-02-24  \n",
       "73714            Canceled              2014-10-17  \n",
       "73715            Canceled              2014-10-17  \n",
       "73716            Canceled              2014-10-17  \n",
       "73717            Canceled              2014-10-17  \n",
       "73718            Canceled              2014-10-17  \n",
       "\n",
       "[10 rows x 32 columns]"
      ]
     },
     "execution_count": 10,
     "metadata": {},
     "output_type": "execute_result"
    }
   ],
   "source": [
    "rh_repeated.head()"
   ]
  },
  {
   "cell_type": "code",
   "execution_count": 161,
   "id": "decb0ccb",
   "metadata": {},
   "outputs": [],
   "source": [
    "#度假酒店的回头客数据\n",
    "resort=rh_repeated.get_group('Resort Hotel').count()"
   ]
  },
  {
   "cell_type": "code",
   "execution_count": 12,
   "id": "0b3d19c6",
   "metadata": {},
   "outputs": [],
   "source": [
    "#城市酒店的回头客数据\n",
    "city=rh_repeated.get_group('City Hotel').count()"
   ]
  },
  {
   "cell_type": "code",
   "execution_count": 13,
   "id": "c337f607",
   "metadata": {},
   "outputs": [
    {
     "data": {
      "text/plain": [
       "hotel                             2032\n",
       "is_canceled                       2032\n",
       "lead_time                         2032\n",
       "arrival_date_year                 2032\n",
       "arrival_date_month                2032\n",
       "arrival_date_week_number          2032\n",
       "arrival_date_day_of_month         2032\n",
       "stays_in_weekend_nights           2032\n",
       "stays_in_week_nights              2032\n",
       "adults                            2032\n",
       "children                          2032\n",
       "babies                            2032\n",
       "meal                              2032\n",
       "country                           2032\n",
       "market_segment                    2032\n",
       "distribution_channel              2032\n",
       "is_repeated_guest                 2032\n",
       "previous_cancellations            2032\n",
       "previous_bookings_not_canceled    2032\n",
       "reserved_room_type                2032\n",
       "assigned_room_type                2032\n",
       "booking_changes                   2032\n",
       "deposit_type                      2032\n",
       "agent                              717\n",
       "company                           1137\n",
       "days_in_waiting_list              2032\n",
       "customer_type                     2032\n",
       "adr                               2032\n",
       "required_car_parking_spaces       2032\n",
       "total_of_special_requests         2032\n",
       "reservation_status                2032\n",
       "reservation_status_date           2032\n",
       "dtype: int64"
      ]
     },
     "execution_count": 13,
     "metadata": {},
     "output_type": "execute_result"
    }
   ],
   "source": [
    "city"
   ]
  },
  {
   "cell_type": "code",
   "execution_count": 162,
   "id": "1fe166e9",
   "metadata": {},
   "outputs": [
    {
     "data": {
      "text/plain": [
       "hotel                             1778\n",
       "is_canceled                       1778\n",
       "lead_time                         1778\n",
       "arrival_date_year                 1778\n",
       "arrival_date_month                1778\n",
       "arrival_date_week_number          1778\n",
       "arrival_date_day_of_month         1778\n",
       "stays_in_weekend_nights           1778\n",
       "stays_in_week_nights              1778\n",
       "adults                            1778\n",
       "children                          1778\n",
       "babies                            1778\n",
       "meal                              1778\n",
       "country                           1774\n",
       "market_segment                    1778\n",
       "distribution_channel              1778\n",
       "is_repeated_guest                 1778\n",
       "previous_cancellations            1778\n",
       "previous_bookings_not_canceled    1778\n",
       "reserved_room_type                1778\n",
       "assigned_room_type                1778\n",
       "booking_changes                   1778\n",
       "deposit_type                      1778\n",
       "agent                              728\n",
       "company                            533\n",
       "days_in_waiting_list              1778\n",
       "customer_type                     1778\n",
       "adr                               1778\n",
       "required_car_parking_spaces       1778\n",
       "total_of_special_requests         1778\n",
       "reservation_status                1778\n",
       "reservation_status_date           1778\n",
       "dtype: int64"
      ]
     },
     "execution_count": 162,
     "metadata": {},
     "output_type": "execute_result"
    }
   ],
   "source": [
    "resort"
   ]
  },
  {
   "cell_type": "code",
   "execution_count": 16,
   "id": "c0e74e71",
   "metadata": {},
   "outputs": [],
   "source": [
    "x=['city hotel','resort hotel']"
   ]
  },
  {
   "cell_type": "code",
   "execution_count": 25,
   "id": "10be99ac",
   "metadata": {},
   "outputs": [],
   "source": [
    "height=[2031,1778]"
   ]
  },
  {
   "cell_type": "code",
   "execution_count": 26,
   "id": "5327370c",
   "metadata": {},
   "outputs": [
    {
     "data": {
      "text/plain": [
       "Text(0.5, 1.0, 'repeated guest comp')"
      ]
     },
     "execution_count": 26,
     "metadata": {},
     "output_type": "execute_result"
    },
    {
     "data": {
      "image/png": "[encoded data removed]",
      "text/plain": [
       "<Figure size 432x288 with 1 Axes>"
      ]
     },
     "metadata": {
      "needs_background": "light"
     },
     "output_type": "display_data"
    }
   ],
   "source": [
    "plt.bar(x,height,width = 0.5)\n",
    "plt.title('repeated guest comp')"
   ]
  },
  {
   "cell_type": "markdown",
   "id": "09b8716f",
   "metadata": {},
   "source": [
    "城市酒店的回头客略多于度假酒店"
   ]
  },
  {
   "cell_type": "markdown",
   "id": "7b7b1726",
   "metadata": {},
   "source": [
    "## city hotel的回头客都来自哪里\n",
    "\n",
    "#### 数据整理"
   ]
  },
  {
   "cell_type": "code",
   "execution_count": 110,
   "id": "b20dd92b",
   "metadata": {},
   "outputs": [
    {
     "data": {
      "text/plain": [
       "29"
      ]
     },
     "execution_count": 110,
     "metadata": {},
     "output_type": "execute_result"
    }
   ],
   "source": [
    "#在数据中共出现多少个的国家(其中一个是nan)\n",
    "len(c_resort['country'].unique())"
   ]
  },
  {
   "cell_type": "code",
   "execution_count": 111,
   "id": "e7908808",
   "metadata": {},
   "outputs": [
    {
     "data": {
      "text/plain": [
       "array(['PRT', 'ESP', nan, 'GBR', 'IRL', 'ITA', 'USA', 'FRA', 'DEU', 'NLD',\n",
       "       'NOR', 'AUT', 'AUS', 'RUS', 'JPN', 'CHN', 'BEL', 'POL', 'FIN',\n",
       "       'PRI', 'CN', 'LBN', 'LUX', 'BRA', 'SWE', 'ISL', 'AGO', 'CHE',\n",
       "       'MAR'], dtype=object)"
      ]
     },
     "execution_count": 111,
     "metadata": {},
     "output_type": "execute_result"
    }
   ],
   "source": [
    "c_resort['country'].unique()"
   ]
  },
  {
   "cell_type": "code",
   "execution_count": 91,
   "id": "15bbb627",
   "metadata": {},
   "outputs": [],
   "source": [
    "c_resort=rh_repeated.get_group('Resort Hotel')\n",
    "c_city=rh_repeated.get_group('City Hotel')"
   ]
  },
  {
   "cell_type": "code",
   "execution_count": 95,
   "id": "c52be6bc",
   "metadata": {},
   "outputs": [],
   "source": [
    "x1=c_resort['country']\n",
    "x2=c_city['country']"
   ]
  },
  {
   "cell_type": "code",
   "execution_count": 152,
   "id": "eb4cffd4",
   "metadata": {},
   "outputs": [],
   "source": [
    "#将国家顺序的字符串传入city_sort\n",
    "city_sort=x2.value_counts().index"
   ]
  },
  {
   "cell_type": "code",
   "execution_count": 153,
   "id": "e380304d",
   "metadata": {},
   "outputs": [
    {
     "data": {
      "text/plain": [
       "Index(['PRT', 'FRA', 'ESP', 'DEU', 'ITA', 'GBR', 'AGO', 'USA', 'BEL', 'TUR',\n",
       "       'BRA', 'AUT', 'SWE', 'NLD', 'GRC', 'POL', 'ISR', 'LUX', 'IRL', 'JPN',\n",
       "       'CHN', 'DZA', 'SVN', 'DNK', 'TUN', 'NGA', 'ARG', 'ARE', 'MOZ', 'CHE',\n",
       "       'ZAF', 'MAR', 'RUS', 'AUS', 'PER', 'KOR', 'NOR'],\n",
       "      dtype='object')"
      ]
     },
     "execution_count": 153,
     "metadata": {},
     "output_type": "execute_result"
    }
   ],
   "source": [
    "city_sort"
   ]
  },
  {
   "cell_type": "code",
   "execution_count": 167,
   "id": "a25f9ac5",
   "metadata": {},
   "outputs": [],
   "source": [
    "##将国家顺序的字符串传入resort_sort\n",
    "resort_sort=x1.value_counts().index"
   ]
  },
  {
   "cell_type": "code",
   "execution_count": 168,
   "id": "7ba88e6d",
   "metadata": {},
   "outputs": [
    {
     "data": {
      "text/plain": [
       "Index(['PRT', 'GBR', 'ESP', 'IRL', 'ITA', 'FRA', 'NLD', 'USA', 'BRA', 'BEL',\n",
       "       'PRI', 'CHN', 'DEU', 'CN', 'AUT', 'SWE', 'AGO', 'RUS', 'POL', 'FIN',\n",
       "       'CHE', 'JPN', 'AUS', 'NOR', 'LBN', 'LUX', 'ISL', 'MAR'],\n",
       "      dtype='object')"
      ]
     },
     "execution_count": 168,
     "metadata": {},
     "output_type": "execute_result"
    }
   ],
   "source": [
    "resort_sort"
   ]
  },
  {
   "cell_type": "markdown",
   "id": "b1dc4cef",
   "metadata": {},
   "source": [
    "#### 可视化"
   ]
  },
  {
   "cell_type": "code",
   "execution_count": 164,
   "id": "23742cab",
   "metadata": {},
   "outputs": [],
   "source": [
    "resort=rh_repeated.get_group('Resort Hotel')"
   ]
  },
  {
   "cell_type": "code",
   "execution_count": 165,
   "id": "9fb3cf96",
   "metadata": {},
   "outputs": [],
   "source": [
    "city=rh_repeated.get_group('City Hotel')"
   ]
  },
  {
   "cell_type": "code",
   "execution_count": 166,
   "id": "0e18b02b",
   "metadata": {},
   "outputs": [
    {
     "data": {
      "text/plain": [
       "<AxesSubplot:xlabel='count', ylabel='country'>"
      ]
     },
     "execution_count": 166,
     "metadata": {},
     "output_type": "execute_result"
    },
    {
     "data": {
      "image/png": "[encoded data removed]",
      "text/plain": [
       "<Figure size 3600x576 with 1 Axes>"
      ]
     },
     "metadata": {},
     "output_type": "display_data"
    }
   ],
   "source": [
    "#城市酒店回头客所属地可视化\n",
    "sns.countplot(y='country',data=city,order=city_sort)"
   ]
  },
  {
   "cell_type": "code",
   "execution_count": 176,
   "id": "4cb94426",
   "metadata": {},
   "outputs": [
    {
     "data": {
      "text/plain": [
       "PRT    1756\n",
       "FRA      62\n",
       "ESP      53\n",
       "DEU      19\n",
       "ITA      18\n",
       "Name: country, dtype: int64"
      ]
     },
     "execution_count": 176,
     "metadata": {},
     "output_type": "execute_result"
    }
   ],
   "source": [
    "#城市酒店出现频率前五的国家\n",
    "x2.value_counts()[:5]"
   ]
  },
  {
   "cell_type": "code",
   "execution_count": 169,
   "id": "af8fc6d1",
   "metadata": {},
   "outputs": [
    {
     "data": {
      "text/plain": [
       "<AxesSubplot:xlabel='count', ylabel='country'>"
      ]
     },
     "execution_count": 169,
     "metadata": {},
     "output_type": "execute_result"
    },
    {
     "data": {
      "image/png": "[encoded data removed]",
      "text/plain": [
       "<Figure size 3600x576 with 1 Axes>"
      ]
     },
     "metadata": {},
     "output_type": "display_data"
    }
   ],
   "source": [
    "#度假酒店回头客所属地可视化\n",
    "sns.countplot(y='country',data=resort,order=resort_sort)"
   ]
  },
  {
   "cell_type": "code",
   "execution_count": 175,
   "id": "b2c02eae",
   "metadata": {},
   "outputs": [
    {
     "data": {
      "text/plain": [
       "PRT    1494\n",
       "GBR      92\n",
       "ESP      37\n",
       "IRL      28\n",
       "ITA      22\n",
       "Name: country, dtype: int64"
      ]
     },
     "execution_count": 175,
     "metadata": {},
     "output_type": "execute_result"
    }
   ],
   "source": [
    "#度假酒店出现频率前五的国家\n",
    "x1.value_counts()[:5]"
   ]
  },
  {
   "cell_type": "code",
   "execution_count": 174,
   "id": "17f82eb6",
   "metadata": {
    "scrolled": true
   },
   "outputs": [
    {
     "data": {
      "text/plain": [
       "<AxesSubplot:xlabel='count', ylabel='country'>"
      ]
     },
     "execution_count": 174,
     "metadata": {},
     "output_type": "execute_result"
    },
    {
     "data": {
      "image/png": "[encoded data removed]",
      "text/plain": [
       "<Figure size 3600x576 with 1 Axes>"
      ]
     },
     "metadata": {},
     "output_type": "display_data"
    }
   ],
   "source": [
    "#蓝色为度假酒店，橘黄色为城市酒店\n",
    "#以度假酒店为基准对比了两种酒店回头客的国家差异\n",
    "sns.countplot(y='country',data=repeated,hue='hotel',order=resort_sort)"
   ]
  },
  {
   "cell_type": "markdown",
   "id": "2e6a54b4",
   "metadata": {},
   "source": [
    "我们可以看出来，由于两家酒店都在葡萄牙本土，所以无论是哪个酒店，回头客大部分来自葡萄牙，当然第一次光顾的客人大部分也为葡萄牙本土游客。而其他顾客也都来自于葡萄牙周边的地区。\n",
    "\n",
    "度假酒店的德国顾客更多，城市酒店的法国顾客更多"
   ]
  },
  {
   "cell_type": "code",
   "execution_count": 271,
   "id": "ac3e0806",
   "metadata": {},
   "outputs": [
    {
     "data": {
      "text/plain": [
       "101"
      ]
     },
     "execution_count": 271,
     "metadata": {},
     "output_type": "execute_result"
    }
   ],
   "source": [
    "#取出前5,并将其他占比较少的国家设置为其他\n",
    "#度假酒店resort\n",
    "resort_other_sum=x1.value_counts()[5::].sum()\n",
    "resort_other_sum"
   ]
  },
  {
   "cell_type": "code",
   "execution_count": 257,
   "id": "8b12433b",
   "metadata": {},
   "outputs": [
    {
     "data": {
      "text/plain": [
       "PRT    1494\n",
       "GBR      92\n",
       "ESP      37\n",
       "IRL      28\n",
       "ITA      22\n",
       "Name: country, dtype: int64"
      ]
     },
     "execution_count": 257,
     "metadata": {},
     "output_type": "execute_result"
    }
   ],
   "source": [
    "resort_pie=pd.DataFrame()\n",
    "resort_pie=(x1.value_counts()[:5])\n",
    "resort_pie"
   ]
  },
  {
   "cell_type": "code",
   "execution_count": 272,
   "id": "6a1beb45",
   "metadata": {},
   "outputs": [
    {
     "data": {
      "text/plain": [
       "PRT       1494\n",
       "GBR         92\n",
       "ESP         37\n",
       "IRL         28\n",
       "ITA         22\n",
       "others     101\n",
       "Name: country, dtype: int64"
      ]
     },
     "execution_count": 272,
     "metadata": {},
     "output_type": "execute_result"
    }
   ],
   "source": [
    "resort_pie['others']=101\n",
    "resort_pie"
   ]
  },
  {
   "cell_type": "code",
   "execution_count": 283,
   "id": "b7879ebe",
   "metadata": {},
   "outputs": [
    {
     "data": {
      "text/plain": [
       "Text(0.5, 1.0, 'pie of resort hotel about country')"
      ]
     },
     "execution_count": 283,
     "metadata": {},
     "output_type": "execute_result"
    },
    {
     "data": {
      "image/png": "[encoded data removed]",
      "text/plain": [
       "<Figure size 3600x576 with 1 Axes>"
      ]
     },
     "metadata": {},
     "output_type": "display_data"
    }
   ],
   "source": [
    "plt.pie(resort_pie,\n",
    "       labels=['PRT','GBR','ESP','IRL','ITA','others'],\n",
    "         autopct='%.1f%%')\n",
    "plt.title('pie of resort hotel about country')"
   ]
  },
  {
   "cell_type": "code",
   "execution_count": 278,
   "id": "fd644330",
   "metadata": {},
   "outputs": [
    {
     "data": {
      "text/plain": [
       "124"
      ]
     },
     "execution_count": 278,
     "metadata": {},
     "output_type": "execute_result"
    }
   ],
   "source": [
    "#取出前5,并将其他占比较少的国家设置为其他\n",
    "#城市酒店city\n",
    "city_other_sum=x2.value_counts()[5::].sum()\n",
    "city_other_sum"
   ]
  },
  {
   "cell_type": "code",
   "execution_count": 279,
   "id": "22ad2f5a",
   "metadata": {},
   "outputs": [
    {
     "data": {
      "text/plain": [
       "PRT    1756\n",
       "FRA      62\n",
       "ESP      53\n",
       "DEU      19\n",
       "ITA      18\n",
       "Name: country, dtype: int64"
      ]
     },
     "execution_count": 279,
     "metadata": {},
     "output_type": "execute_result"
    }
   ],
   "source": [
    "city_pie=pd.DataFrame()\n",
    "city_pie=(x2.value_counts()[:5])\n",
    "city_pie"
   ]
  },
  {
   "cell_type": "code",
   "execution_count": 280,
   "id": "16dbd902",
   "metadata": {},
   "outputs": [
    {
     "data": {
      "text/plain": [
       "PRT       1756\n",
       "FRA         62\n",
       "ESP         53\n",
       "DEU         19\n",
       "ITA         18\n",
       "others     124\n",
       "Name: country, dtype: int64"
      ]
     },
     "execution_count": 280,
     "metadata": {},
     "output_type": "execute_result"
    }
   ],
   "source": [
    "city_pie['others']=124\n",
    "city_pie"
   ]
  },
  {
   "cell_type": "code",
   "execution_count": 282,
   "id": "ba4230de",
   "metadata": {},
   "outputs": [
    {
     "data": {
      "text/plain": [
       "Text(0.5, 1.0, 'pie of city hotel about country')"
      ]
     },
     "execution_count": 282,
     "metadata": {},
     "output_type": "execute_result"
    },
    {
     "data": {
      "image/png": "[encoded data removed]",
      "text/plain": [
       "<Figure size 3600x576 with 1 Axes>"
      ]
     },
     "metadata": {},
     "output_type": "display_data"
    }
   ],
   "source": [
    "plt.pie(city_pie,\n",
    "       labels=['PRT','FRA','ESP','DEU','ITA','others'],\n",
    "         autopct='%.1f%%')\n",
    "plt.title('pie of city hotel about country')"
   ]
  },
  {
   "cell_type": "markdown",
   "id": "e37a778f",
   "metadata": {},
   "source": [
    "对于度假酒店来说，葡萄牙回头客占总体的84.22%。其他相对较多的地区为德国，占了总体的5.2%。度假酒店来自德国的回头客远远多于城市酒店，度假酒店可能有一些受德国人喜爱特点，可能度假酒店有更全面的德语服务，具体原因可以做进一步的定性调查。\n",
    "\n",
    "对于城市酒店来说，同样是葡萄牙回头客，占了总体的86.4%。其余地区相对占比较多的为法国和西班牙，分别占了3.1%和2.6%。其中西班牙回头客的占比是度假酒店所没有的，城市酒店可能在西班牙顾客中更受欢迎。\n",
    "\n",
    "从地理位置上来看西班牙离葡萄牙更近，推测两个酒店的西班牙回头客人数应该差不多，但事实并不是如此，从数据上来看西班牙回头客更偏爱城市酒店。可能西班牙客户更偏爱城市生活。\n",
    "\n",
    "德国相比西班牙和法国，离葡萄牙相对较远，但是度假酒店的德国回头客人数却接近城市酒店的西班牙法国回头客加起来的人数。\n",
    "\n",
    "城市酒店的葡萄牙本土回头客要多于度假酒店的，可以通过分析本土顾客的预定渠道、订单人数、顾客类型等来分析顾客是否因为本土的商务因素而频繁的预定城市酒店"
   ]
  },
  {
   "cell_type": "code",
   "execution_count": null,
   "id": "e3f238b3",
   "metadata": {},
   "outputs": [],
   "source": [
    "葡萄牙顾客的"
   ]
  },
  {
   "cell_type": "markdown",
   "id": "2a6ac547",
   "metadata": {},
   "source": [
    "### city hotel和resort hotel的回头客们都预定了什么房间"
   ]
  },
  {
   "cell_type": "markdown",
   "id": "70dcf2aa",
   "metadata": {},
   "source": [
    "### 以某年为例，访客量的变化以及当时的房价变化"
   ]
  },
  {
   "cell_type": "markdown",
   "id": "76632d35",
   "metadata": {},
   "source": [
    "### 他们是以哪种方式来的"
   ]
  },
  {
   "cell_type": "code",
   "execution_count": null,
   "id": "726f38e0",
   "metadata": {},
   "outputs": [],
   "source": []
  },
  {
   "cell_type": "code",
   "execution_count": 14,
   "id": "a48723cc",
   "metadata": {},
   "outputs": [],
   "source": [
    "resort=rh_repeated.get_group('Resort Hotel')"
   ]
  },
  {
   "cell_type": "code",
   "execution_count": 15,
   "id": "21e60c3b",
   "metadata": {},
   "outputs": [],
   "source": [
    "city=rh_repeated.get_group('City Hotel')"
   ]
  },
  {
   "cell_type": "code",
   "execution_count": 16,
   "id": "9f111d04",
   "metadata": {},
   "outputs": [
    {
     "data": {
      "text/html": [
       "<div>\n",
       "<style scoped>\n",
       "    .dataframe tbody tr th:only-of-type {\n",
       "        vertical-align: middle;\n",
       "    }\n",
       "\n",
       "    .dataframe tbody tr th {\n",
       "        vertical-align: top;\n",
       "    }\n",
       "\n",
       "    .dataframe thead th {\n",
       "        text-align: right;\n",
       "    }\n",
       "</style>\n",
       "<table border=\"1\" class=\"dataframe\">\n",
       "  <thead>\n",
       "    <tr style=\"text-align: right;\">\n",
       "      <th></th>\n",
       "      <th>hotel</th>\n",
       "      <th>is_canceled</th>\n",
       "      <th>lead_time</th>\n",
       "      <th>arrival_date_year</th>\n",
       "      <th>arrival_date_month</th>\n",
       "      <th>arrival_date_week_number</th>\n",
       "      <th>arrival_date_day_of_month</th>\n",
       "      <th>stays_in_weekend_nights</th>\n",
       "      <th>stays_in_week_nights</th>\n",
       "      <th>adults</th>\n",
       "      <th>...</th>\n",
       "      <th>deposit_type</th>\n",
       "      <th>agent</th>\n",
       "      <th>company</th>\n",
       "      <th>days_in_waiting_list</th>\n",
       "      <th>customer_type</th>\n",
       "      <th>adr</th>\n",
       "      <th>required_car_parking_spaces</th>\n",
       "      <th>total_of_special_requests</th>\n",
       "      <th>reservation_status</th>\n",
       "      <th>reservation_status_date</th>\n",
       "    </tr>\n",
       "  </thead>\n",
       "  <tbody>\n",
       "    <tr>\n",
       "      <th>13937</th>\n",
       "      <td>Resort Hotel</td>\n",
       "      <td>0</td>\n",
       "      <td>6</td>\n",
       "      <td>2016</td>\n",
       "      <td>April</td>\n",
       "      <td>17</td>\n",
       "      <td>20</td>\n",
       "      <td>0</td>\n",
       "      <td>2</td>\n",
       "      <td>1</td>\n",
       "      <td>...</td>\n",
       "      <td>No Deposit</td>\n",
       "      <td>5.0</td>\n",
       "      <td>NaN</td>\n",
       "      <td>0</td>\n",
       "      <td>Transient</td>\n",
       "      <td>0.00</td>\n",
       "      <td>1</td>\n",
       "      <td>0</td>\n",
       "      <td>Check-Out</td>\n",
       "      <td>2016-04-22</td>\n",
       "    </tr>\n",
       "    <tr>\n",
       "      <th>14681</th>\n",
       "      <td>Resort Hotel</td>\n",
       "      <td>1</td>\n",
       "      <td>202</td>\n",
       "      <td>2015</td>\n",
       "      <td>July</td>\n",
       "      <td>30</td>\n",
       "      <td>22</td>\n",
       "      <td>2</td>\n",
       "      <td>5</td>\n",
       "      <td>2</td>\n",
       "      <td>...</td>\n",
       "      <td>No Deposit</td>\n",
       "      <td>156.0</td>\n",
       "      <td>NaN</td>\n",
       "      <td>0</td>\n",
       "      <td>Contract</td>\n",
       "      <td>90.95</td>\n",
       "      <td>0</td>\n",
       "      <td>0</td>\n",
       "      <td>Canceled</td>\n",
       "      <td>2015-01-01</td>\n",
       "    </tr>\n",
       "    <tr>\n",
       "      <th>14777</th>\n",
       "      <td>Resort Hotel</td>\n",
       "      <td>1</td>\n",
       "      <td>187</td>\n",
       "      <td>2015</td>\n",
       "      <td>August</td>\n",
       "      <td>32</td>\n",
       "      <td>4</td>\n",
       "      <td>0</td>\n",
       "      <td>5</td>\n",
       "      <td>2</td>\n",
       "      <td>...</td>\n",
       "      <td>No Deposit</td>\n",
       "      <td>240.0</td>\n",
       "      <td>NaN</td>\n",
       "      <td>0</td>\n",
       "      <td>Transient</td>\n",
       "      <td>66.00</td>\n",
       "      <td>0</td>\n",
       "      <td>2</td>\n",
       "      <td>Canceled</td>\n",
       "      <td>2015-01-29</td>\n",
       "    </tr>\n",
       "    <tr>\n",
       "      <th>14817</th>\n",
       "      <td>Resort Hotel</td>\n",
       "      <td>1</td>\n",
       "      <td>202</td>\n",
       "      <td>2015</td>\n",
       "      <td>September</td>\n",
       "      <td>36</td>\n",
       "      <td>1</td>\n",
       "      <td>2</td>\n",
       "      <td>8</td>\n",
       "      <td>2</td>\n",
       "      <td>...</td>\n",
       "      <td>No Deposit</td>\n",
       "      <td>156.0</td>\n",
       "      <td>NaN</td>\n",
       "      <td>0</td>\n",
       "      <td>Contract</td>\n",
       "      <td>55.68</td>\n",
       "      <td>0</td>\n",
       "      <td>1</td>\n",
       "      <td>Canceled</td>\n",
       "      <td>2015-02-11</td>\n",
       "    </tr>\n",
       "    <tr>\n",
       "      <th>14823</th>\n",
       "      <td>Resort Hotel</td>\n",
       "      <td>1</td>\n",
       "      <td>173</td>\n",
       "      <td>2015</td>\n",
       "      <td>August</td>\n",
       "      <td>34</td>\n",
       "      <td>16</td>\n",
       "      <td>2</td>\n",
       "      <td>5</td>\n",
       "      <td>2</td>\n",
       "      <td>...</td>\n",
       "      <td>No Deposit</td>\n",
       "      <td>250.0</td>\n",
       "      <td>NaN</td>\n",
       "      <td>0</td>\n",
       "      <td>Transient</td>\n",
       "      <td>130.90</td>\n",
       "      <td>0</td>\n",
       "      <td>0</td>\n",
       "      <td>Canceled</td>\n",
       "      <td>2015-02-24</td>\n",
       "    </tr>\n",
       "  </tbody>\n",
       "</table>\n",
       "<p>5 rows × 32 columns</p>\n",
       "</div>"
      ],
      "text/plain": [
       "              hotel  is_canceled  lead_time  arrival_date_year  \\\n",
       "13937  Resort Hotel            0          6               2016   \n",
       "14681  Resort Hotel            1        202               2015   \n",
       "14777  Resort Hotel            1        187               2015   \n",
       "14817  Resort Hotel            1        202               2015   \n",
       "14823  Resort Hotel            1        173               2015   \n",
       "\n",
       "      arrival_date_month  arrival_date_week_number  arrival_date_day_of_month  \\\n",
       "13937              April                        17                         20   \n",
       "14681               July                        30                         22   \n",
       "14777             August                        32                          4   \n",
       "14817          September                        36                          1   \n",
       "14823             August                        34                         16   \n",
       "\n",
       "       stays_in_weekend_nights  stays_in_week_nights  adults  ...  \\\n",
       "13937                        0                     2       1  ...   \n",
       "14681                        2                     5       2  ...   \n",
       "14777                        0                     5       2  ...   \n",
       "14817                        2                     8       2  ...   \n",
       "14823                        2                     5       2  ...   \n",
       "\n",
       "       deposit_type  agent company days_in_waiting_list customer_type     adr  \\\n",
       "13937    No Deposit    5.0     NaN                    0     Transient    0.00   \n",
       "14681    No Deposit  156.0     NaN                    0      Contract   90.95   \n",
       "14777    No Deposit  240.0     NaN                    0     Transient   66.00   \n",
       "14817    No Deposit  156.0     NaN                    0      Contract   55.68   \n",
       "14823    No Deposit  250.0     NaN                    0     Transient  130.90   \n",
       "\n",
       "       required_car_parking_spaces  total_of_special_requests  \\\n",
       "13937                            1                          0   \n",
       "14681                            0                          0   \n",
       "14777                            0                          2   \n",
       "14817                            0                          1   \n",
       "14823                            0                          0   \n",
       "\n",
       "       reservation_status reservation_status_date  \n",
       "13937           Check-Out              2016-04-22  \n",
       "14681            Canceled              2015-01-01  \n",
       "14777            Canceled              2015-01-29  \n",
       "14817            Canceled              2015-02-11  \n",
       "14823            Canceled              2015-02-24  \n",
       "\n",
       "[5 rows x 32 columns]"
      ]
     },
     "execution_count": 16,
     "metadata": {},
     "output_type": "execute_result"
    }
   ],
   "source": [
    "resort.head()"
   ]
  },
  {
   "cell_type": "markdown",
   "id": "6a73320d",
   "metadata": {},
   "source": [
    "## 预测顾客是否是回头客"
   ]
  },
  {
   "cell_type": "code",
   "execution_count": 5,
   "id": "8ddff86e",
   "metadata": {},
   "outputs": [],
   "source": [
    "#载入数据\n",
    "df = pd.read_csv('hotel_bookings.csv')"
   ]
  },
  {
   "cell_type": "code",
   "execution_count": 13,
   "id": "3e57f35f",
   "metadata": {},
   "outputs": [],
   "source": [
    "#设定目的变数和说明变数\n",
    "y=df['is_repeated_guest']\n",
    "x=df[['hotel','is_canceled','lead_time','arrival_date_month','stays_in_weekend_nights','stays_in_week_nights',\n",
    "    'adults','children','babies','country','market_segment','previous_cancellations',\n",
    "     'adr','previous_bookings_not_canceled','customer_type','reserved_room_type']]"
   ]
  },
  {
   "cell_type": "code",
   "execution_count": 38,
   "id": "22aa7b77",
   "metadata": {},
   "outputs": [],
   "source": [
    "x = x.fillna(0)"
   ]
  },
  {
   "cell_type": "code",
   "execution_count": 39,
   "id": "9bf3aeda",
   "metadata": {},
   "outputs": [],
   "source": [
    "#文字列处理\n",
    "x=pd.get_dummies(x)"
   ]
  },
  {
   "cell_type": "code",
   "execution_count": 41,
   "id": "dc0c5426",
   "metadata": {},
   "outputs": [],
   "source": [
    "#标准化\n",
    "from sklearn.preprocessing import StandardScaler\n",
    "scaler = StandardScaler()\n",
    "x=pd.DataFrame(scaler.fit_transform(x),\n",
    "            columns=x.columns)"
   ]
  },
  {
   "cell_type": "code",
   "execution_count": 71,
   "id": "6025a752",
   "metadata": {},
   "outputs": [],
   "source": [
    " z=pd.concat([x, y],axis=1)"
   ]
  },
  {
   "cell_type": "code",
   "execution_count": 75,
   "id": "28b0d7ba",
   "metadata": {},
   "outputs": [
    {
     "data": {
      "text/plain": [
       "array([0, 1], dtype=int64)"
      ]
     },
     "execution_count": 75,
     "metadata": {},
     "output_type": "execute_result"
    }
   ],
   "source": [
    "z['is_repeated_guest'].unique()"
   ]
  },
  {
   "cell_type": "code",
   "execution_count": 42,
   "id": "c919deee",
   "metadata": {},
   "outputs": [],
   "source": [
    "#训练集，测试集分割\n",
    "from sklearn.model_selection import train_test_split\n",
    "train_x, test_x, train_y, test_y = train_test_split(x, y, random_state=1)"
   ]
  },
  {
   "cell_type": "code",
   "execution_count": 51,
   "id": "0ddeecaf",
   "metadata": {},
   "outputs": [],
   "source": [
    "from sklearn.linear_model import LogisticRegression\n",
    "model = LogisticRegression(random_state=1,max_iter=5000)"
   ]
  },
  {
   "cell_type": "code",
   "execution_count": 52,
   "id": "4e160136",
   "metadata": {},
   "outputs": [
    {
     "data": {
      "text/plain": [
       "LogisticRegression(max_iter=5000, random_state=1)"
      ]
     },
     "execution_count": 52,
     "metadata": {},
     "output_type": "execute_result"
    }
   ],
   "source": [
    "model.fit(train_x,train_y)"
   ]
  },
  {
   "cell_type": "code",
   "execution_count": 57,
   "id": "229d8fbd",
   "metadata": {},
   "outputs": [
    {
     "data": {
      "text/plain": [
       "0.9788814187755467"
      ]
     },
     "execution_count": 57,
     "metadata": {},
     "output_type": "execute_result"
    }
   ],
   "source": [
    "model.score(train_x, train_y)"
   ]
  },
  {
   "cell_type": "code",
   "execution_count": 55,
   "id": "bcb59b26",
   "metadata": {},
   "outputs": [],
   "source": [
    "#预测\n",
    "pred=model.predict_proba(test_x)"
   ]
  },
  {
   "cell_type": "code",
   "execution_count": 60,
   "id": "2017a706",
   "metadata": {},
   "outputs": [
    {
     "data": {
      "text/plain": [
       "0.9776534441168587"
      ]
     },
     "execution_count": 60,
     "metadata": {},
     "output_type": "execute_result"
    }
   ],
   "source": [
    "#预测精度\n",
    "model.score(test_x, test_y)"
   ]
  },
  {
   "cell_type": "code",
   "execution_count": 53,
   "id": "54fb5f09",
   "metadata": {},
   "outputs": [],
   "source": [
    "df_coef = pd.DataFrame(model.coef_.T, index=x.columns, columns=['coef'])"
   ]
  },
  {
   "cell_type": "code",
   "execution_count": 82,
   "id": "0cdcee4a",
   "metadata": {},
   "outputs": [],
   "source": [
    "data=df[['is_repeated_guest','hotel','is_canceled','lead_time','arrival_date_month','stays_in_weekend_nights','stays_in_week_nights',\n",
    "    'adults','children','babies','market_segment','previous_cancellations',\n",
    "     'adr','previous_bookings_not_canceled','customer_type','reserved_room_type']]"
   ]
  },
  {
   "cell_type": "code",
   "execution_count": 83,
   "id": "cccf0d18",
   "metadata": {},
   "outputs": [],
   "source": [
    "data=data.fillna(0)"
   ]
  },
  {
   "cell_type": "code",
   "execution_count": 84,
   "id": "7588ae7c",
   "metadata": {},
   "outputs": [],
   "source": [
    "data=pd.get_dummies(data)"
   ]
  },
  {
   "cell_type": "code",
   "execution_count": 86,
   "id": "5a46637f",
   "metadata": {},
   "outputs": [],
   "source": [
    "#标准化\n",
    "\n",
    "scaler = StandardScaler()\n",
    "data=pd.DataFrame(scaler.fit_transform(data),\n",
    "            columns=data.columns)"
   ]
  },
  {
   "cell_type": "code",
   "execution_count": 89,
   "id": "a3e6f176",
   "metadata": {},
   "outputs": [
    {
     "data": {
      "text/plain": [
       "Index(['is_repeated_guest', 'is_canceled', 'lead_time',\n",
       "       'stays_in_weekend_nights', 'stays_in_week_nights', 'adults', 'children',\n",
       "       'babies', 'previous_cancellations', 'adr',\n",
       "       'previous_bookings_not_canceled', 'hotel_City Hotel',\n",
       "       'hotel_Resort Hotel', 'arrival_date_month_April',\n",
       "       'arrival_date_month_August', 'arrival_date_month_December',\n",
       "       'arrival_date_month_February', 'arrival_date_month_January',\n",
       "       'arrival_date_month_July', 'arrival_date_month_June',\n",
       "       'arrival_date_month_March', 'arrival_date_month_May',\n",
       "       'arrival_date_month_November', 'arrival_date_month_October',\n",
       "       'arrival_date_month_September', 'market_segment_Aviation',\n",
       "       'market_segment_Complementary', 'market_segment_Corporate',\n",
       "       'market_segment_Direct', 'market_segment_Groups',\n",
       "       'market_segment_Offline TA/TO', 'market_segment_Online TA',\n",
       "       'market_segment_Undefined', 'customer_type_Contract',\n",
       "       'customer_type_Group', 'customer_type_Transient',\n",
       "       'customer_type_Transient-Party', 'reserved_room_type_A',\n",
       "       'reserved_room_type_B', 'reserved_room_type_C', 'reserved_room_type_D',\n",
       "       'reserved_room_type_E', 'reserved_room_type_F', 'reserved_room_type_G',\n",
       "       'reserved_room_type_H', 'reserved_room_type_L', 'reserved_room_type_P'],\n",
       "      dtype='object')"
      ]
     },
     "execution_count": 89,
     "metadata": {},
     "output_type": "execute_result"
    }
   ],
   "source": [
    "data.columns"
   ]
  },
  {
   "cell_type": "code",
   "execution_count": 95,
   "id": "dcf308c2",
   "metadata": {},
   "outputs": [
    {
     "name": "stderr",
     "output_type": "stream",
     "text": [
      "D:\\anaconda\\lib\\site-packages\\statsmodels\\genmod\\families\\links.py:188: RuntimeWarning: overflow encountered in exp\n",
      "  t = np.exp(-z)\n"
     ]
    }
   ],
   "source": [
    "import statsmodels.formula.api as smf\n",
    "import statsmodels.api as sm\n",
    "formula= \"is_repeated_guest ~ is_canceled+is_canceled+lead_time+\\\n",
    "      stays_in_weekend_nights+stays_in_week_nights+adults+children\"\n",
    "\n",
    "logistic_model = smf.glm(formula=formula,\n",
    "                         data=data,\n",
    "                         family=sm.families.Binomial(link=sm.genmod.families.links.logit())\n",
    "                        )\n",
    "\n",
    "logistic_result = logistic_model.fit() "
   ]
  },
  {
   "cell_type": "code",
   "execution_count": null,
   "id": "f4797ee1",
   "metadata": {},
   "outputs": [],
   "source": []
  }
 ],
 "metadata": {
  "kernelspec": {
   "display_name": "Python 3 (ipykernel)",
   "language": "python",
   "name": "python3"
  },
  "language_info": {
   "codemirror_mode": {
    "name": "ipython",
    "version": 3
   },
   "file_extension": ".py",
   "mimetype": "text/x-python",
   "name": "python",
   "nbconvert_exporter": "python",
   "pygments_lexer": "ipython3",
   "version": "3.9.12"
  }
 },
 "nbformat": 4,
 "nbformat_minor": 5
}

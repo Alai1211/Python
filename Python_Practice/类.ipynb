{
 "cells": [
  {
   "cell_type": "markdown",
   "id": "89dc49e6",
   "metadata": {},
   "source": [
    "### 类\n",
    "\n",
    "#### 创建dog类\n",
    "\n",
    "    "
   ]
  },
  {
   "cell_type": "markdown",
   "id": "82090ee8",
   "metadata": {},
   "source": [
    "方法 _init_()\n",
    "\n",
    "     在这个方法的名称中，开头和末尾各有两个下划线，这是一种约定，旨在避免Python默认方法与普通方法发生名称冲突\n",
    "     \n",
    "     形参self必不可少，而且必须位于其他形参的前面。\n",
    "     \n",
    "     和普通的函数相比，在类中定义的函数只有一点不同，就是第一个参数永远是实例变量self，并且，调用时，不用传递该参数。除此之外，类的方法和普通函数没有什么区别，所以，你仍然可以用默认参数、可变参数、关键字参数和命名关键字参数。"
   ]
  },
  {
   "cell_type": "code",
   "execution_count": 55,
   "id": "4dd9a647",
   "metadata": {},
   "outputs": [],
   "source": [
    "class Dog:\n",
    "    \n",
    "    def __init__(self,name,age):\n",
    "        #获取与形参name相关联的值，并将其赋给变量name\n",
    "        self.name = name\n",
    "        self.age = age\n",
    "        #像这样可以通过实例访问的变量成为属性\n",
    "        \n",
    "    def sit(self):\n",
    "        '''模拟小狗收到命令时蹲下'''\n",
    "        print(f\"[={self.name} is now siting]\")\n",
    "        \n",
    "        \n",
    "    def roll_over(self):\n",
    "        '''模拟小狗收到命令时打滚'''\n",
    "        print(f\"{self.name} is now rolling over\")"
   ]
  },
  {
   "cell_type": "markdown",
   "id": "95054796",
   "metadata": {},
   "source": [
    "dog类定义了另外两个方法：sit()和roll_over()"
   ]
  },
  {
   "cell_type": "code",
   "execution_count": 42,
   "id": "6f6c64f9",
   "metadata": {},
   "outputs": [],
   "source": [
    "    "
   ]
  },
  {
   "cell_type": "code",
   "execution_count": 43,
   "id": "375be632",
   "metadata": {},
   "outputs": [],
   "source": [
    "    "
   ]
  },
  {
   "cell_type": "markdown",
   "id": "8dba5a41",
   "metadata": {},
   "source": [
    "创建一个表示特定小狗的实例"
   ]
  },
  {
   "cell_type": "code",
   "execution_count": 57,
   "id": "1acfb927",
   "metadata": {},
   "outputs": [],
   "source": [
    "my_dog = Dog('bunny',5)"
   ]
  },
  {
   "cell_type": "code",
   "execution_count": 36,
   "id": "b6512522",
   "metadata": {},
   "outputs": [
    {
     "data": {
      "text/plain": [
       "<__main__.Dog at 0x1719451d0a0>"
      ]
     },
     "execution_count": 36,
     "metadata": {},
     "output_type": "execute_result"
    }
   ],
   "source": [
    "my_dog"
   ]
  },
  {
   "cell_type": "code",
   "execution_count": 38,
   "id": "65d6dafe",
   "metadata": {},
   "outputs": [
    {
     "name": "stdout",
     "output_type": "stream",
     "text": [
      "bunny\n",
      "5\n"
     ]
    }
   ],
   "source": [
    "print(my_dog.name)\n",
    "print(my_dog.age)"
   ]
  },
  {
   "cell_type": "markdown",
   "id": "6a78f6ca",
   "metadata": {},
   "source": [
    "#### 访问属性"
   ]
  },
  {
   "cell_type": "code",
   "execution_count": 44,
   "id": "7f841bb4",
   "metadata": {},
   "outputs": [
    {
     "data": {
      "text/plain": [
       "'bunny'"
      ]
     },
     "execution_count": 44,
     "metadata": {},
     "output_type": "execute_result"
    }
   ],
   "source": [
    "my_dog.name"
   ]
  },
  {
   "cell_type": "markdown",
   "id": "538cbc52",
   "metadata": {},
   "source": [
    "#### 调用方法\n",
    "\n",
    "根据Dog类创建实例后，就能使用句点表示法来调用Dog类中定义的任何方法了"
   ]
  },
  {
   "cell_type": "code",
   "execution_count": 59,
   "id": "31b24b34",
   "metadata": {},
   "outputs": [
    {
     "name": "stdout",
     "output_type": "stream",
     "text": [
      "[=bunny is now siting]\n"
     ]
    }
   ],
   "source": [
    "my_dog.sit()\n",
    "#使用前要重新运行一遍my_dog=Dog('XX')"
   ]
  },
  {
   "cell_type": "code",
   "execution_count": 58,
   "id": "bee1c7fd",
   "metadata": {},
   "outputs": [
    {
     "name": "stdout",
     "output_type": "stream",
     "text": [
      "bunny is now rolling over\n"
     ]
    }
   ],
   "source": [
    "my_dog.roll_over()"
   ]
  },
  {
   "cell_type": "markdown",
   "id": "c96ef6d9",
   "metadata": {},
   "source": [
    "#### 创建多个实例"
   ]
  },
  {
   "cell_type": "code",
   "execution_count": 64,
   "id": "170e2318",
   "metadata": {},
   "outputs": [],
   "source": [
    "#定义新实例\n",
    "your_dog = Dog('lucy',3)"
   ]
  },
  {
   "cell_type": "code",
   "execution_count": 61,
   "id": "af6a3060",
   "metadata": {},
   "outputs": [
    {
     "name": "stdout",
     "output_type": "stream",
     "text": [
      "[=lucy is now siting]\n"
     ]
    }
   ],
   "source": [
    "your_dog.sit()"
   ]
  },
  {
   "cell_type": "code",
   "execution_count": 62,
   "id": "de80d144",
   "metadata": {},
   "outputs": [
    {
     "name": "stdout",
     "output_type": "stream",
     "text": [
      "[=bunny is now siting]\n"
     ]
    }
   ],
   "source": [
    "my_dog.sit()"
   ]
  },
  {
   "cell_type": "code",
   "execution_count": 63,
   "id": "9a8150b8",
   "metadata": {},
   "outputs": [
    {
     "data": {
      "text/plain": [
       "'lucy'"
      ]
     },
     "execution_count": 63,
     "metadata": {},
     "output_type": "execute_result"
    }
   ],
   "source": [
    "your_dog.name"
   ]
  },
  {
   "cell_type": "markdown",
   "id": "bb52f24f",
   "metadata": {},
   "source": [
    "#### 创建一个car类的实例\n",
    "\n",
    "给属性指定默认值\n",
    "\n",
    "    此处指定初始里程数为0\n",
    "    \n",
    "创建一个可以修改属性值的方法\n",
    "\n",
    "    update_odometer()\n",
    "    \n",
    "创建一个可以约束修改属性值的方法\n",
    "\n",
    "    update_odometers()在修改属性前检查指定的读数是否合理\n",
    "\n",
    "创建一个方法对属性的值进行递增\n",
    "\n",
    "     新增的方法increment_odometer()接受一个单位为英里的数，并将其加入self.odometer_reading中"
   ]
  },
  {
   "cell_type": "code",
   "execution_count": 140,
   "id": "a8fba2da",
   "metadata": {},
   "outputs": [],
   "source": [
    "class Car:\n",
    "    def __init__ (self,make,model,year):\n",
    "        self.make = make\n",
    "        self.model =model\n",
    "        self.year=year\n",
    "        self.odometer_reading = 0\n",
    "        \n",
    "    def get_descriptive_name(self):\n",
    "        long_name = f\"{self.year}{self.make}{self.model}\"\n",
    "        return long_name.title()\n",
    "    #定义一个方法来记录里程数\n",
    "    def read_odometer(self):\n",
    "        print(f\"this car has {self.odometer_reading} miles on it.\")\n",
    "     #定义一个方法用来修改里程数   \n",
    "    def update_odometer(self,mileage):\n",
    "        self.odometer_reading = mileage\n",
    "    #定义一个方法来对修改的里程数进行约束\n",
    "    def update_odometers(self,mileage):\n",
    "        '''将里程数设置为指定值，并且禁止回调'''\n",
    "        if mileage >=self.odometer_reading:\n",
    "            self.odometer_reading = mileage\n",
    "        else:\n",
    "            print(\"you can't roll back an odometer\")\n",
    "    #定义一个对里程数进行增值的方法\n",
    "    def increment_odometer(self,miles):\n",
    "        self.odometer_reading += miles\n"
   ]
  },
  {
   "cell_type": "markdown",
   "id": "55b823d3",
   "metadata": {},
   "source": [
    "指定参数"
   ]
  },
  {
   "cell_type": "code",
   "execution_count": 141,
   "id": "9df981f3",
   "metadata": {},
   "outputs": [],
   "source": [
    "my_new_car = Car('audi','a6',2077)"
   ]
  },
  {
   "cell_type": "code",
   "execution_count": 142,
   "id": "081a9646",
   "metadata": {},
   "outputs": [
    {
     "data": {
      "text/plain": [
       "<__main__.Car at 0x17194610970>"
      ]
     },
     "execution_count": 142,
     "metadata": {},
     "output_type": "execute_result"
    }
   ],
   "source": [
    "my_new_car"
   ]
  },
  {
   "cell_type": "markdown",
   "id": "4b311c09",
   "metadata": {},
   "source": [
    "调用方法get_descriptive_name()，指出我们拥有一辆什么样的汽车"
   ]
  },
  {
   "cell_type": "code",
   "execution_count": 89,
   "id": "4eaca7a4",
   "metadata": {},
   "outputs": [
    {
     "data": {
      "text/plain": [
       "'2077Audia6'"
      ]
     },
     "execution_count": 89,
     "metadata": {},
     "output_type": "execute_result"
    }
   ],
   "source": [
    "my_new_car.get_descriptive_name()"
   ]
  },
  {
   "cell_type": "code",
   "execution_count": 90,
   "id": "14b9aab9",
   "metadata": {},
   "outputs": [
    {
     "name": "stdout",
     "output_type": "stream",
     "text": [
      "2077Audia6\n"
     ]
    }
   ],
   "source": [
    "print(my_new_car.get_descriptive_name())"
   ]
  },
  {
   "cell_type": "markdown",
   "id": "6619e122",
   "metadata": {},
   "source": [
    "读取车的里程数"
   ]
  },
  {
   "cell_type": "code",
   "execution_count": 94,
   "id": "ab72b66e",
   "metadata": {},
   "outputs": [
    {
     "name": "stdout",
     "output_type": "stream",
     "text": [
      "this car has 0 miles on it.\n"
     ]
    }
   ],
   "source": [
    "my_new_car.read_odometer()"
   ]
  },
  {
   "cell_type": "markdown",
   "id": "84748333",
   "metadata": {},
   "source": [
    "#### 修改属性的值\n",
    "  \n",
    "   ##### 直接修改属性的值"
   ]
  },
  {
   "cell_type": "code",
   "execution_count": 96,
   "id": "0ac55f11",
   "metadata": {},
   "outputs": [],
   "source": [
    "my_new_car.odometer_reading = 23"
   ]
  },
  {
   "cell_type": "code",
   "execution_count": 98,
   "id": "08e26c20",
   "metadata": {},
   "outputs": [
    {
     "name": "stdout",
     "output_type": "stream",
     "text": [
      "this car has 23 miles on it.\n"
     ]
    }
   ],
   "source": [
    "my_new_car.read_odometer()"
   ]
  },
  {
   "cell_type": "markdown",
   "id": "b592b9e2",
   "metadata": {},
   "source": [
    "##### 通过方法修改属性的值"
   ]
  },
  {
   "cell_type": "code",
   "execution_count": 127,
   "id": "6b15cd41",
   "metadata": {},
   "outputs": [],
   "source": [
    "my_new_car = Car('audi', 'a4', 2019)"
   ]
  },
  {
   "cell_type": "code",
   "execution_count": 120,
   "id": "72961fbb",
   "metadata": {},
   "outputs": [],
   "source": [
    "#使用方法修改里程数\n",
    "my_new_car.update_odometer(23)"
   ]
  },
  {
   "cell_type": "code",
   "execution_count": 121,
   "id": "9927e110",
   "metadata": {},
   "outputs": [
    {
     "name": "stdout",
     "output_type": "stream",
     "text": [
      "this car has 23 miles on it.\n"
     ]
    }
   ],
   "source": [
    "my_new_car.read_odometer()"
   ]
  },
  {
   "cell_type": "code",
   "execution_count": 131,
   "id": "f81bc11c",
   "metadata": {},
   "outputs": [],
   "source": [
    "my_new_car.update_odometers(5)"
   ]
  },
  {
   "cell_type": "code",
   "execution_count": 133,
   "id": "f14e71cb",
   "metadata": {},
   "outputs": [
    {
     "name": "stdout",
     "output_type": "stream",
     "text": [
      "you can't roll back an odometer\n"
     ]
    }
   ],
   "source": [
    "#方法update_odometers禁止回调\n",
    "my_new_car.update_odometers(3)"
   ]
  },
  {
   "cell_type": "markdown",
   "id": "d6da0ebf",
   "metadata": {},
   "source": [
    "##### 通过方法对属性的值进行递增"
   ]
  },
  {
   "cell_type": "code",
   "execution_count": 137,
   "id": "e4258843",
   "metadata": {},
   "outputs": [],
   "source": [
    "#创建一辆二手车\n",
    "my_used_car = Car('subaru','outback',2015)"
   ]
  },
  {
   "cell_type": "code",
   "execution_count": 143,
   "id": "7072d364",
   "metadata": {},
   "outputs": [
    {
     "data": {
      "text/plain": [
       "<__main__.Car at 0x1719463bf40>"
      ]
     },
     "execution_count": 143,
     "metadata": {},
     "output_type": "execute_result"
    }
   ],
   "source": [
    "my_used_car"
   ]
  },
  {
   "cell_type": "code",
   "execution_count": 146,
   "id": "3580a57a",
   "metadata": {},
   "outputs": [
    {
     "data": {
      "text/plain": [
       "'2015Subaruoutback'"
      ]
     },
     "execution_count": 146,
     "metadata": {},
     "output_type": "execute_result"
    }
   ],
   "source": [
    "my_used_car.get_descriptive_name()"
   ]
  },
  {
   "cell_type": "code",
   "execution_count": 149,
   "id": "d8ce0a2d",
   "metadata": {},
   "outputs": [],
   "source": [
    "#输入里程数\n",
    "my_used_car.update_odometer(23_500)\n",
    "#此处的23_500是数字分位符号，方便阅读。与23500一个意思"
   ]
  },
  {
   "cell_type": "code",
   "execution_count": 150,
   "id": "f9262ec6",
   "metadata": {},
   "outputs": [
    {
     "name": "stdout",
     "output_type": "stream",
     "text": [
      "this car has 23500 miles on it.\n"
     ]
    }
   ],
   "source": [
    "my_used_car.read_odometer()"
   ]
  },
  {
   "cell_type": "code",
   "execution_count": 151,
   "id": "24847ba5",
   "metadata": {},
   "outputs": [],
   "source": [
    "#调用增加里程数的方法\n",
    "my_used_car.increment_odometer(100)"
   ]
  },
  {
   "cell_type": "code",
   "execution_count": 152,
   "id": "e003276b",
   "metadata": {},
   "outputs": [
    {
     "name": "stdout",
     "output_type": "stream",
     "text": [
      "this car has 23600 miles on it.\n"
     ]
    }
   ],
   "source": [
    "my_used_car.read_odometer()"
   ]
  },
  {
   "cell_type": "markdown",
   "id": "c2564a70",
   "metadata": {},
   "source": [
    "#### 继承\n",
    "\n",
    "编写类时，并非总是要从空白开始\n",
    "\n",
    "如果要编写的类是另一个现成类的特殊版本，可使用继承。一个类继承另一个类时，将自动获得另一个类的所有属性和方法。\n",
    "\n",
    "原有的类称为父类，而新类称为子类\n",
    "\n",
    "子类继承了父类的所有属性和方法，同时还可以定义自己的属性和方法。\n",
    "\n",
    "父类不能用子类的方法，子类可以用父类的"
   ]
  },
  {
   "cell_type": "markdown",
   "id": "5d1e68fd",
   "metadata": {},
   "source": [
    "##### 继承前面从Car类\n",
    "\n",
    "编写一个Car的子类ElectricCar\n",
    "\n",
    "创建子类时，父类必须包含在当前文件中，且位于子类前面。\n",
    "\n",
    "定义子类时，必须在圆括号内指定父类的名称。\n",
    "\n",
    "方法__init__()接受创建Car实例所需的信息\n",
    "\n",
    "    super()是一个特殊函数，让你能够调用父类的方法。"
   ]
  },
  {
   "cell_type": "markdown",
   "id": "29753883",
   "metadata": {},
   "source": [
    "##### 可以在子类中重写父类发方法\n",
    "\n",
    "如果要重新一个父类存在的方法，只需要在子类里用同样的名字修改它\n",
    "\n",
    "当你调用这个方法时，python只会关注你在子类中定义的相应方法\n",
    "\n",
    "如果有人对电动汽车调用方法fill_gas_tank()，Python将忽略Car类中的方法fill_gas_tank()，转而运行上述代码。"
   ]
  },
  {
   "cell_type": "code",
   "execution_count": 166,
   "id": "8818f9b9",
   "metadata": {},
   "outputs": [],
   "source": [
    "class ElectricCar(Car):\n",
    "    def __init__(self,make,model,year):\n",
    "        super().__init__(make,model,year)\n",
    "        self.battery_size = 75\n",
    "        #父类也称为超类（superclass），名称super由此而来\n",
    "   \n",
    "   #创建一个查询电池量的方法\n",
    "    def describe_battery(self):\n",
    "        print(f\"this car has a {self.battery_size}-kWh battery.\")\n",
    "        \n",
    "    def fill_gas_tank(self):\n",
    "        \"\"\"电动汽车没有油箱。\"\"\"\n",
    "        print(\"This car doesn't need a gas tank!\")"
   ]
  },
  {
   "cell_type": "code",
   "execution_count": 164,
   "id": "cde26b0c",
   "metadata": {},
   "outputs": [],
   "source": [
    "my_tesla = ElectricCar('tesla','bike',2019)"
   ]
  },
  {
   "cell_type": "code",
   "execution_count": 157,
   "id": "9e4727f9",
   "metadata": {},
   "outputs": [
    {
     "data": {
      "text/plain": [
       "'2019Teslabike'"
      ]
     },
     "execution_count": 157,
     "metadata": {},
     "output_type": "execute_result"
    }
   ],
   "source": [
    "my_tesla.get_descriptive_name()"
   ]
  },
  {
   "cell_type": "code",
   "execution_count": 165,
   "id": "724b4a8f",
   "metadata": {},
   "outputs": [
    {
     "name": "stdout",
     "output_type": "stream",
     "text": [
      "this car has a 75-kWh battery.\n"
     ]
    }
   ],
   "source": [
    "#调用查询电池量的方法\n",
    "my_tesla.describe_battery()"
   ]
  },
  {
   "cell_type": "markdown",
   "id": "51d9c37e",
   "metadata": {},
   "source": [
    "将独立出来的方法写成一个新类，不用继承，在类里可以直接调用"
   ]
  },
  {
   "cell_type": "code",
   "execution_count": null,
   "id": "1f4ad9e0",
   "metadata": {},
   "outputs": [],
   "source": [
    "class Car:\n",
    "      --snip--\n",
    "\n",
    "class Battery:\n",
    "      \"\"\"一次模拟电动汽车电瓶的简单尝试。\"\"\"\n",
    "\n",
    "     def __init__(self, battery_size=75):\n",
    "          \"\"\"初始化电瓶的属性。\"\"\"\n",
    "          self.battery_size = battery_size\n",
    "\n",
    "     def describe_battery(self):\n",
    "          \"\"\"打印一条描述电瓶容量的消息。\"\"\"\n",
    "          print(f\"This car has a {self.battery_size}-kWh battery.\")\n",
    "class ElectricCar(Car):\n",
    "      \"\"\"电动汽车的独特之处。\"\"\"\n",
    "\n",
    "      def __init__(self, make, model, year):\n",
    "          \"\"\"\n",
    "          初始化父类的属性。\n",
    "          再初始化电动汽车特有的属性。\n",
    "          \"\"\"\n",
    "          super().__init__(make, model, year)\n",
    "        self.battery = Battery()\n",
    "\n",
    "my_tesla = ElectricCar('tesla', 'model s', 2019)\n",
    "\n",
    "print(my_tesla.get_descriptive_name())\n",
    "my_tesla.battery.describe_battery()"
   ]
  },
  {
   "cell_type": "markdown",
   "id": "6f2c8832",
   "metadata": {},
   "source": [
    "#### 导入类\n",
    "\n",
    "方法和导入函数、文件一样"
   ]
  },
  {
   "cell_type": "code",
   "execution_count": null,
   "id": "34da6792",
   "metadata": {},
   "outputs": [],
   "source": [
    "from car(文件名) import (Car类名)\n",
    "my_new_car = Car('audi', 'a4', 2019)"
   ]
  },
  {
   "cell_type": "markdown",
   "id": "4f68b3d6",
   "metadata": {},
   "source": [
    "从一个文件中导入多个类"
   ]
  },
  {
   "cell_type": "code",
   "execution_count": null,
   "id": "2ddb5a85",
   "metadata": {},
   "outputs": [],
   "source": [
    " from car(文件名) import Car, ElectricCar"
   ]
  },
  {
   "cell_type": "markdown",
   "id": "f803cde0",
   "metadata": {},
   "source": [
    "导入整个模块\n",
    "\n",
    "使用语法module_name.ClassName访问需要的类。"
   ]
  },
  {
   "cell_type": "code",
   "execution_count": null,
   "id": "e0b0798a",
   "metadata": {},
   "outputs": [],
   "source": [
    "import car(文件名)\n",
    "my_beetle = car.Car('volkswagen', 'beetle', 2019)\n",
    "  print(my_beetle.get_descriptive_name())"
   ]
  },
  {
   "cell_type": "markdown",
   "id": "9d75135c",
   "metadata": {},
   "source": [
    "导入模块中的所有类\n",
    "\n",
    "需要使用句点调用"
   ]
  },
  {
   "cell_type": "code",
   "execution_count": null,
   "id": "c551c538",
   "metadata": {},
   "outputs": [],
   "source": [
    "from module_name import *"
   ]
  },
  {
   "cell_type": "markdown",
   "id": "b0f70ee7",
   "metadata": {},
   "source": [
    "#### 使用别名 as"
   ]
  },
  {
   "cell_type": "code",
   "execution_count": null,
   "id": "3cb589f5",
   "metadata": {},
   "outputs": [],
   "source": [
    "from electric_car import ElectricCar as EC"
   ]
  }
 ],
 "metadata": {
  "kernelspec": {
   "display_name": "Python 3 (ipykernel)",
   "language": "python",
   "name": "python3"
  },
  "language_info": {
   "codemirror_mode": {
    "name": "ipython",
    "version": 3
   },
   "file_extension": ".py",
   "mimetype": "text/x-python",
   "name": "python",
   "nbconvert_exporter": "python",
   "pygments_lexer": "ipython3",
   "version": "3.9.7"
  }
 },
 "nbformat": 4,
 "nbformat_minor": 5
}

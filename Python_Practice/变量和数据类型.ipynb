{
 "cells": [
  {
   "cell_type": "markdown",
   "id": "bf324cac",
   "metadata": {},
   "source": [
    "### Print函数的用法"
   ]
  },
  {
   "cell_type": "code",
   "execution_count": 6,
   "id": "82b6873c",
   "metadata": {},
   "outputs": [
    {
     "name": "stdout",
     "output_type": "stream",
     "text": [
      "hello Python world\n"
     ]
    }
   ],
   "source": [
    "print('hello Python world')"
   ]
  },
  {
   "cell_type": "markdown",
   "id": "59062ecd",
   "metadata": {},
   "source": [
    "### 变量"
   ]
  },
  {
   "cell_type": "code",
   "execution_count": 3,
   "id": "c433b93a",
   "metadata": {},
   "outputs": [
    {
     "name": "stdout",
     "output_type": "stream",
     "text": [
      "hello Python world\n",
      "hello Python  crash world\n"
     ]
    }
   ],
   "source": [
    "#变量\n",
    "message = 'hello Python world'\n",
    "print(message)\n",
    "\n",
    "message = 'hello Python  crash world'\n",
    "print(message)"
   ]
  },
  {
   "cell_type": "code",
   "execution_count": 4,
   "id": "82ab6cd3",
   "metadata": {},
   "outputs": [
    {
     "name": "stdout",
     "output_type": "stream",
     "text": [
      "hello Python  crash world\n"
     ]
    }
   ],
   "source": [
    "print(message)"
   ]
  },
  {
   "cell_type": "markdown",
   "id": "2ea5b64e",
   "metadata": {},
   "source": [
    "### 字符串"
   ]
  },
  {
   "cell_type": "markdown",
   "id": "d4781904",
   "metadata": {},
   "source": [
    "#### 修改字符串大小写 【方法title()、】\n",
    "title()  以首字母大写的方式显示每个单词\n",
    "\n",
    "upper()  全部大写\n",
    "\n",
    "lower()  全部小写"
   ]
  },
  {
   "cell_type": "code",
   "execution_count": 7,
   "id": "746d5f80",
   "metadata": {},
   "outputs": [
    {
     "name": "stdout",
     "output_type": "stream",
     "text": [
      "Ada Lovelace\n"
     ]
    }
   ],
   "source": [
    "#让python对name执行方法 title()\n",
    "\n",
    "name = \"ada lovelace\"\n",
    "print(name.title())"
   ]
  },
  {
   "cell_type": "markdown",
   "id": "486c02d4",
   "metadata": {},
   "source": [
    "#### 连接字符串\n",
    "format\"\""
   ]
  },
  {
   "cell_type": "code",
   "execution_count": 14,
   "id": "6871e076",
   "metadata": {},
   "outputs": [
    {
     "name": "stdout",
     "output_type": "stream",
     "text": [
      "Hello, Adalovelace!\n"
     ]
    }
   ],
   "source": [
    "  first_name = \"ada\"\n",
    "  last_name = \"lovelace\"\n",
    "#用花括号连接两个被字符串赋值的变量名,f为format的简写\n",
    "  full_name = f\"{first_name}{last_name}\"\n",
    "print(f\"Hello, {full_name.title()}!\")"
   ]
  },
  {
   "cell_type": "markdown",
   "id": "5a74c865",
   "metadata": {},
   "source": [
    "#### 在字符串中添加空白、删除空白\n",
    "在字符串中添加制表符，可使用字符组合\\t\n",
    "\n",
    "要在字符串中添加换行符，可使用字符组合\\n\n",
    "\n",
    "剔除字符串开头的空白 可使用方法lstrip()\n",
    "\n",
    "剔除字符串末尾的空白，可使用方法rstrip()\n",
    "\n",
    "剔除字符串两边的空白 可使用方法strip()"
   ]
  },
  {
   "cell_type": "code",
   "execution_count": 17,
   "id": "4509245f",
   "metadata": {},
   "outputs": [
    {
     "name": "stdout",
     "output_type": "stream",
     "text": [
      "Languages:\n",
      "\tPython\n",
      "\tC\n",
      "\tJavaScript\n"
     ]
    }
   ],
   "source": [
    "print(\"Languages:\\n\\tPython\\n\\tC\\n\\tJavaScript\")"
   ]
  },
  {
   "cell_type": "code",
   "execution_count": 19,
   "id": "a6bbf892",
   "metadata": {},
   "outputs": [
    {
     "data": {
      "text/plain": [
       "'python '"
      ]
     },
     "execution_count": 19,
     "metadata": {},
     "output_type": "execute_result"
    }
   ],
   "source": [
    "favorite_language = 'python '\n",
    "favorite_language"
   ]
  },
  {
   "cell_type": "code",
   "execution_count": 20,
   "id": "2acfb2e8",
   "metadata": {},
   "outputs": [
    {
     "data": {
      "text/plain": [
       "'python'"
      ]
     },
     "execution_count": 20,
     "metadata": {},
     "output_type": "execute_result"
    }
   ],
   "source": [
    "#使用方法restrip()来去除字符串中多余的空白\n",
    "favorite_language.rstrip()"
   ]
  },
  {
   "cell_type": "markdown",
   "id": "b0d32325",
   "metadata": {},
   "source": [
    "### 数\n",
    "\n",
    "整数\n",
    "\n",
    "浮点数（小数）\n",
    "\n",
    "     1、运算符 + - * /   **(平方)\n",
    "     1、用下划线 _ 可以分割数，清晰易读"
   ]
  },
  {
   "cell_type": "code",
   "execution_count": 21,
   "id": "fd12f484",
   "metadata": {},
   "outputs": [
    {
     "name": "stdout",
     "output_type": "stream",
     "text": [
      "14000000000\n"
     ]
    }
   ],
   "source": [
    "universe_age = 14_000_000_000\n",
    "print(universe_age)\n",
    "#Python不会打印其中的下划线"
   ]
  },
  {
   "cell_type": "code",
   "execution_count": null,
   "id": "e0ba290a",
   "metadata": {},
   "outputs": [],
   "source": []
  }
 ],
 "metadata": {
  "kernelspec": {
   "display_name": "Python 3 (ipykernel)",
   "language": "python",
   "name": "python3"
  },
  "language_info": {
   "codemirror_mode": {
    "name": "ipython",
    "version": 3
   },
   "file_extension": ".py",
   "mimetype": "text/x-python",
   "name": "python",
   "nbconvert_exporter": "python",
   "pygments_lexer": "ipython3",
   "version": "3.9.7"
  }
 },
 "nbformat": 4,
 "nbformat_minor": 5
}

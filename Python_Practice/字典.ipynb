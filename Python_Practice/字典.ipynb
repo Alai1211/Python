{
 "cells": [
  {
   "cell_type": "markdown",
   "id": "ddecf8dd",
   "metadata": {},
   "source": [
    "## 字典\n",
    "\n",
    "一个key对应一个值 组成的\n",
    "\n",
    "'color':'blue'称为键值对"
   ]
  },
  {
   "cell_type": "code",
   "execution_count": 6,
   "id": "cd15a9b1",
   "metadata": {},
   "outputs": [
    {
     "name": "stdout",
     "output_type": "stream",
     "text": [
      "blue\n",
      "5\n"
     ]
    }
   ],
   "source": [
    "al = {'color':'blue','point':5}\n",
    "\n",
    "print(al['color'])\n",
    "print(al['point'])"
   ]
  },
  {
   "cell_type": "markdown",
   "id": "6a7c6e1e",
   "metadata": {},
   "source": [
    "方法get()\n",
    "\n",
    "指定的键有可能不存在，应考虑使用方法get()\n",
    "\n",
    "get(指定键，指定键不存在时要返回的值)"
   ]
  },
  {
   "cell_type": "markdown",
   "id": "c2c1f191",
   "metadata": {},
   "source": [
    "### 遍历字典\n",
    "\n",
    "使用for循环，需要声明两个变量分别存储键值对中的键和值\n",
    "\n",
    "字典不能直接解包，遍历\n",
    "\n",
    "用items方法可以将字典转换为列表，该列表的每一项是一个键值对，此时可以在for循环中进行解包。\n",
    "\n",
    "\n",
    "方法item()\n",
    "\n",
    "      返回一个键值对列表"
   ]
  },
  {
   "cell_type": "code",
   "execution_count": 7,
   "id": "af37d5e4",
   "metadata": {},
   "outputs": [
    {
     "ename": "ValueError",
     "evalue": "too many values to unpack (expected 2)",
     "output_type": "error",
     "traceback": [
      "\u001b[1;31m---------------------------------------------------------------------------\u001b[0m",
      "\u001b[1;31mValueError\u001b[0m                                Traceback (most recent call last)",
      "\u001b[1;32m~\\AppData\\Local\\Temp/ipykernel_7752/159751098.py\u001b[0m in \u001b[0;36m<module>\u001b[1;34m\u001b[0m\n\u001b[0;32m      5\u001b[0m           }\n\u001b[0;32m      6\u001b[0m \u001b[1;31m#此处声明了key和value两个变量\u001b[0m\u001b[1;33m\u001b[0m\u001b[1;33m\u001b[0m\u001b[0m\n\u001b[1;32m----> 7\u001b[1;33m \u001b[1;32mfor\u001b[0m \u001b[0mkey\u001b[0m\u001b[1;33m,\u001b[0m \u001b[0mvalue\u001b[0m \u001b[1;32min\u001b[0m \u001b[0muser_0\u001b[0m\u001b[1;33m:\u001b[0m\u001b[1;33m\u001b[0m\u001b[1;33m\u001b[0m\u001b[0m\n\u001b[0m\u001b[0;32m      8\u001b[0m     \u001b[0mprint\u001b[0m\u001b[1;33m(\u001b[0m \u001b[1;34mf\"\\nkey:{key}\"\u001b[0m\u001b[1;33m)\u001b[0m\u001b[1;33m\u001b[0m\u001b[1;33m\u001b[0m\u001b[0m\n\u001b[0;32m      9\u001b[0m     \u001b[0mprint\u001b[0m\u001b[1;33m(\u001b[0m \u001b[1;34mf\"value:{value}\"\u001b[0m\u001b[1;33m)\u001b[0m\u001b[1;33m\u001b[0m\u001b[1;33m\u001b[0m\u001b[0m\n",
      "\u001b[1;31mValueError\u001b[0m: too many values to unpack (expected 2)"
     ]
    }
   ],
   "source": [
    "user_0 = {\n",
    "          'username': 'efermi',\n",
    "          'first': 'enrico',\n",
    "          'last': 'fermi',\n",
    "          }\n",
    "#此处声明了key和value两个变量\n",
    "for key, value in user_0:\n",
    "    print( f\"\\nkey:{key}\")\n",
    "    print( f\"value:{value}\")\n",
    "    \n",
    "#字典不能直接解包！！"
   ]
  },
  {
   "cell_type": "markdown",
   "id": "2c9fe109",
   "metadata": {},
   "source": [
    "用type函数可以知道数据类型，只有列表可以被遍历"
   ]
  },
  {
   "cell_type": "code",
   "execution_count": 9,
   "id": "7827e680",
   "metadata": {},
   "outputs": [
    {
     "data": {
      "text/plain": [
       "dict"
      ]
     },
     "execution_count": 9,
     "metadata": {},
     "output_type": "execute_result"
    }
   ],
   "source": [
    "type(user_0)"
   ]
  },
  {
   "cell_type": "code",
   "execution_count": 10,
   "id": "0a18a9b0",
   "metadata": {},
   "outputs": [
    {
     "data": {
      "text/plain": [
       "dict_items"
      ]
     },
     "execution_count": 10,
     "metadata": {},
     "output_type": "execute_result"
    }
   ],
   "source": [
    "type(user_0.items())"
   ]
  },
  {
   "cell_type": "code",
   "execution_count": 11,
   "id": "fc692843",
   "metadata": {},
   "outputs": [
    {
     "data": {
      "text/plain": [
       "dict_items([('username', 'efermi'), ('first', 'enrico'), ('last', 'fermi')])"
      ]
     },
     "execution_count": 11,
     "metadata": {},
     "output_type": "execute_result"
    }
   ],
   "source": [
    "#items方法将字典中的键值对变成含有两列值的列表\n",
    "user_0.items()"
   ]
  },
  {
   "cell_type": "code",
   "execution_count": 13,
   "id": "767f3a54",
   "metadata": {},
   "outputs": [
    {
     "name": "stdout",
     "output_type": "stream",
     "text": [
      "\n",
      "key:username\n",
      "value:efermi\n",
      "\n",
      "key:first\n",
      "value:enrico\n",
      "\n",
      "key:last\n",
      "value:fermi\n"
     ]
    }
   ],
   "source": [
    "user_0 = {\n",
    "          'username': 'efermi',\n",
    "          'first': 'enrico',\n",
    "          'last': 'fermi',\n",
    "          }\n",
    "for key, value in user_0.items():\n",
    "    print( f\"\\nkey:{key}\")\n",
    "    print( f\"value:{value}\")"
   ]
  },
  {
   "cell_type": "markdown",
   "id": "e2894284",
   "metadata": {},
   "source": [
    "keys()\n",
    " \n",
    "     方法keys() 提取字典中的键并建立成列表\n",
    "        \n",
    "     常用于for循环中\n",
    "     \n",
    "values()\n",
    "     \n",
    "     方法values() 提取字典中的值并建立成列表"
   ]
  },
  {
   "cell_type": "markdown",
   "id": "ae7acef4",
   "metadata": {},
   "source": [
    "### 集合\n",
    "\n",
    "  set()\n",
    "   \n",
    "     集合中每个元素都必须是独一无二的\n",
    "      \n",
    "     去重  剔除重复项\n",
    "   \n",
    "     对含有重复元素的列表使用set()，可以找出列表中独一无二的元素\n",
    " \n"
   ]
  },
  {
   "cell_type": "code",
   "execution_count": 14,
   "id": "4ccb638c",
   "metadata": {},
   "outputs": [
    {
     "name": "stdout",
     "output_type": "stream",
     "text": [
      "Ruby\n",
      "Python\n",
      "C\n"
     ]
    }
   ],
   "source": [
    "favorite_languages = {\n",
    "    'jen': 'python',\n",
    "    'sarah': 'c',\n",
    "    'edward': 'ruby',\n",
    "    'phil': 'ruby',\n",
    "    'john':'c'\n",
    "    }\n",
    "for language in set(favorite_languages.values()):\n",
    "    print(language.title())"
   ]
  },
  {
   "cell_type": "markdown",
   "id": "959c3092",
   "metadata": {},
   "source": [
    " 集合的创建\n",
    "    \n",
    "    用一对花括号直接创建集合\n",
    "    "
   ]
  },
  {
   "cell_type": "code",
   "execution_count": 15,
   "id": "0dab1068",
   "metadata": {},
   "outputs": [
    {
     "data": {
      "text/plain": [
       "{'c', 'python', 'ruby'}"
      ]
     },
     "execution_count": 15,
     "metadata": {},
     "output_type": "execute_result"
    }
   ],
   "source": [
    "languages = {'python', 'ruby', 'python', 'c'}\n",
    "languages"
   ]
  },
  {
   "cell_type": "markdown",
   "id": "1196eb39",
   "metadata": {},
   "source": [
    "### 字典列表\n",
    "\n",
    "将很多个字典存在一个列表中，可以通过遍历列表来访问各个字典"
   ]
  },
  {
   "cell_type": "code",
   "execution_count": 17,
   "id": "46c058a3",
   "metadata": {},
   "outputs": [
    {
     "name": "stdout",
     "output_type": "stream",
     "text": [
      "{'color': 'green', 'points': 5}\n",
      "{'color': 'yellow', 'points': 10}\n",
      "{'color': 'red', 'points': 15}\n"
     ]
    }
   ],
   "source": [
    "alien_0 = {'color': 'green', 'points': 5}\n",
    "alien_1 = {'color': 'yellow', 'points': 10}\n",
    "alien_2 = {'color': 'red', 'points': 15}\n",
    "\n",
    "aliens = [alien_0, alien_1, alien_2]\n",
    "\n",
    "for alien in aliens:\n",
    "  print(alien)"
   ]
  },
  {
   "cell_type": "markdown",
   "id": "46ed0f29",
   "metadata": {},
   "source": [
    "利用循环创建含有多个字典列表"
   ]
  },
  {
   "cell_type": "code",
   "execution_count": 23,
   "id": "8dc0acc0",
   "metadata": {
    "scrolled": true
   },
   "outputs": [
    {
     "name": "stdout",
     "output_type": "stream",
     "text": [
      "{'color': 'red', 'point': 6, 'speed': 'fast'}\n",
      "{'color': 'red', 'point': 6, 'speed': 'fast'}\n",
      "{'color': 'red', 'point': 6, 'speed': 'fast'}\n",
      "{'color': 'red', 'point': 6, 'speed': 'fast'}\n",
      "{'color': 'red', 'point': 6, 'speed': 'fast'}\n",
      "{'color': 'red', 'point': 6, 'speed': 'fast'}\n",
      "{'color': 'red', 'point': 6, 'speed': 'fast'}\n",
      "{'color': 'red', 'point': 6, 'speed': 'fast'}\n",
      "{'color': 'red', 'point': 6, 'speed': 'fast'}\n",
      "{'color': 'red', 'point': 6, 'speed': 'fast'}\n"
     ]
    }
   ],
   "source": [
    "aliens = []\n",
    "\n",
    "#创建30个红色外星人\n",
    "#range这里创建了一个数值列表0-29，提示循环要循环30次\n",
    "for alien_number in range(30):\n",
    "     new_alien={'color':'red','point': 6,'speed':'fast'}\n",
    "     aliens.append(new_alien)\n",
    "\n",
    "#显示前10个外星人\n",
    "for alien in aliens[:10]:\n",
    "    print(alien)   "
   ]
  },
  {
   "cell_type": "code",
   "execution_count": 24,
   "id": "19544246",
   "metadata": {},
   "outputs": [
    {
     "data": {
      "text/plain": [
       "{'color': 'red', 'point': 6, 'speed': 'fast'}"
      ]
     },
     "execution_count": 24,
     "metadata": {},
     "output_type": "execute_result"
    }
   ],
   "source": [
    "aliens[1]"
   ]
  },
  {
   "cell_type": "code",
   "execution_count": 26,
   "id": "206ed72b",
   "metadata": {},
   "outputs": [
    {
     "data": {
      "text/plain": [
       "30"
      ]
     },
     "execution_count": 26,
     "metadata": {},
     "output_type": "execute_result"
    }
   ],
   "source": [
    "len(aliens)"
   ]
  },
  {
   "cell_type": "code",
   "execution_count": 29,
   "id": "0ebf2097",
   "metadata": {
    "scrolled": true
   },
   "outputs": [
    {
     "name": "stdout",
     "output_type": "stream",
     "text": [
      "{'color': 'green', 'point': 10, 'speed': 'slow'}\n",
      "{'color': 'green', 'point': 10, 'speed': 'slow'}\n",
      "{'color': 'green', 'point': 10, 'speed': 'slow'}\n",
      "{'color': 'green', 'point': 10, 'speed': 'slow'}\n",
      "{'color': 'green', 'point': 10, 'speed': 'slow'}\n",
      "{'color': 'red', 'point': 6, 'speed': 'fast'}\n",
      "{'color': 'red', 'point': 6, 'speed': 'fast'}\n",
      "{'color': 'red', 'point': 6, 'speed': 'fast'}\n",
      "{'color': 'red', 'point': 6, 'speed': 'fast'}\n",
      "{'color': 'red', 'point': 6, 'speed': 'fast'}\n"
     ]
    }
   ],
   "source": [
    "for alien in aliens[:5]:\n",
    "    if alien['color']== 'red':\n",
    "        alien['color']='green'\n",
    "        alien['point']=10\n",
    "        alien['speed']='slow'\n",
    "for alien in aliens[:10]:\n",
    "    print(alien)\n",
    "\n",
    "    \n"
   ]
  },
  {
   "cell_type": "code",
   "execution_count": null,
   "id": "0c9b5dae",
   "metadata": {},
   "outputs": [],
   "source": []
  }
 ],
 "metadata": {
  "kernelspec": {
   "display_name": "Python 3 (ipykernel)",
   "language": "python",
   "name": "python3"
  },
  "language_info": {
   "codemirror_mode": {
    "name": "ipython",
    "version": 3
   },
   "file_extension": ".py",
   "mimetype": "text/x-python",
   "name": "python",
   "nbconvert_exporter": "python",
   "pygments_lexer": "ipython3",
   "version": "3.9.7"
  }
 },
 "nbformat": 4,
 "nbformat_minor": 5
}

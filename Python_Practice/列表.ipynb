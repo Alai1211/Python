{
 "cells": [
  {
   "cell_type": "markdown",
   "id": "26489db5",
   "metadata": {},
   "source": [
    "## 列表"
   ]
  },
  {
   "cell_type": "markdown",
   "id": "b762388d",
   "metadata": {},
   "source": [
    "### 创建列表"
   ]
  },
  {
   "cell_type": "code",
   "execution_count": 13,
   "id": "3f2b9ae5",
   "metadata": {},
   "outputs": [
    {
     "name": "stdout",
     "output_type": "stream",
     "text": [
      "['mark', 'jogn', 'fat', 'miki']\n"
     ]
    }
   ],
   "source": [
    "a=['mark','jogn','fat','miki']\n",
    "print(a)"
   ]
  },
  {
   "cell_type": "markdown",
   "id": "326759e7",
   "metadata": {},
   "source": [
    "### 修改、添加、删除列表元素"
   ]
  },
  {
   "cell_type": "markdown",
   "id": "dfd6924b",
   "metadata": {},
   "source": [
    "#### 修改列表中元素"
   ]
  },
  {
   "cell_type": "markdown",
   "id": "40275ca6",
   "metadata": {},
   "source": [
    "insert()"
   ]
  },
  {
   "cell_type": "markdown",
   "id": "affcaebb",
   "metadata": {},
   "source": [
    "#### 删除列表中元素"
   ]
  },
  {
   "cell_type": "markdown",
   "id": "b4dc4cd2",
   "metadata": {},
   "source": [
    "del() \n",
    "\n",
    "    删除后不再使用"
   ]
  },
  {
   "cell_type": "code",
   "execution_count": 4,
   "id": "207c4be9",
   "metadata": {},
   "outputs": [
    {
     "name": "stdout",
     "output_type": "stream",
     "text": [
      "['honda', 'yamaha', 'suzuki']\n",
      "['yamaha', 'suzuki']\n"
     ]
    }
   ],
   "source": [
    "motorcycles = ['honda', 'yamaha', 'suzuki']\n",
    "print(motorcycles)\n",
    "#指定位置删除元素\n",
    "del motorcycles[0]\n",
    "print(motorcycles)"
   ]
  },
  {
   "cell_type": "markdown",
   "id": "792f7285",
   "metadata": {},
   "source": [
    "pop()\n",
    "\n",
    "     在删除后还继续使用\n",
    "\n",
    "     不指定索引时，弹出列表中最后一列的元素；\n",
    "\n",
    "     可在()中指定索引，指定后将索引位置的元素弹出。"
   ]
  },
  {
   "cell_type": "code",
   "execution_count": 1,
   "id": "c1f0c8b4",
   "metadata": {},
   "outputs": [
    {
     "name": "stdout",
     "output_type": "stream",
     "text": [
      "The first motorcycle I owned was a Honda.\n"
     ]
    }
   ],
   "source": [
    "motorcycles = ['honda', 'yamaha', 'suzuki']\n",
    "#弹出第一个字符串，并引用被弹出的字符串\n",
    "first_owned = motorcycles.pop(0)\n",
    "print(f\"The first motorcycle I owned was a {first_owned.title()}.\")"
   ]
  },
  {
   "cell_type": "markdown",
   "id": "8a43b545",
   "metadata": {},
   "source": [
    "remove()\n",
    "\n",
    "     根据值删除一个指定的元素\n",
    "     \n",
    "     删除后仍可调用"
   ]
  },
  {
   "cell_type": "code",
   "execution_count": 5,
   "id": "199e0722",
   "metadata": {},
   "outputs": [
    {
     "name": "stdout",
     "output_type": "stream",
     "text": [
      "['suzuki']\n"
     ]
    }
   ],
   "source": [
    "motorcycles.remove('yamaha')\n",
    "print(motorcycles)"
   ]
  },
  {
   "cell_type": "markdown",
   "id": "c644f149",
   "metadata": {},
   "source": [
    "### 列表排序"
   ]
  },
  {
   "cell_type": "markdown",
   "id": "ffc77cf0",
   "metadata": {},
   "source": [
    "sort()\n",
    "   \n",
    "     永久性排序\n",
    "     \n",
    "     按字母顺序排序\n",
    "     \n",
    "     传递参数 reverse = ture 字母顺序反向排序"
   ]
  },
  {
   "cell_type": "code",
   "execution_count": 6,
   "id": "e099ab1c",
   "metadata": {},
   "outputs": [
    {
     "name": "stdout",
     "output_type": "stream",
     "text": [
      "['audi', 'bmw', 'subaru', 'toyota']\n"
     ]
    }
   ],
   "source": [
    "cars = ['bmw', 'audi', 'toyota', 'subaru']\n",
    "cars.sort()\n",
    "print(cars)"
   ]
  },
  {
   "cell_type": "code",
   "execution_count": 8,
   "id": "f80051be",
   "metadata": {},
   "outputs": [
    {
     "name": "stdout",
     "output_type": "stream",
     "text": [
      "['toyota', 'subaru', 'bmw', 'audi']\n"
     ]
    }
   ],
   "source": [
    "#反向排序\n",
    "cars.sort(reverse=True)\n",
    "print(cars)"
   ]
  },
  {
   "cell_type": "markdown",
   "id": "33a05282",
   "metadata": {},
   "source": [
    "sorted()\n",
    "  \n",
    "       临时排序\n",
    "       \n",
    "       特定顺序显示列表元素，同时不影响它们在列表中的原始排列顺序\n",
    "       \n",
    "       "
   ]
  },
  {
   "cell_type": "code",
   "execution_count": 9,
   "id": "680316e0",
   "metadata": {},
   "outputs": [
    {
     "name": "stdout",
     "output_type": "stream",
     "text": [
      "Here is the original list:\n",
      "['bmw', 'audi', 'toyota', 'subaru']\n",
      "\n",
      "Here is the sorted list:\n",
      "['audi', 'bmw', 'subaru', 'toyota']\n",
      "\n",
      "Here is the original list again:\n",
      "['bmw', 'audi', 'toyota', 'subaru']\n"
     ]
    }
   ],
   "source": [
    "cars = ['bmw', 'audi', 'toyota', 'subaru']\n",
    "\n",
    "print(\"Here is the original list:\")\n",
    "print(cars)\n",
    "\n",
    "print(\"\\nHere is the sorted list:\")\n",
    "print(sorted(cars))\n",
    "\n",
    "print(\"\\nHere is the original list again:\")\n",
    "print(cars)"
   ]
  },
  {
   "cell_type": "markdown",
   "id": "275503d7",
   "metadata": {},
   "source": [
    "reverse()\n",
    "\n",
    "      永久性排序\n",
    "  \n",
    "      倒着打印表，从最后一个元素往前打印"
   ]
  },
  {
   "cell_type": "code",
   "execution_count": 11,
   "id": "a4eb3513",
   "metadata": {},
   "outputs": [
    {
     "name": "stdout",
     "output_type": "stream",
     "text": [
      "['subaru', 'toyota', 'audi', 'bmw']\n"
     ]
    }
   ],
   "source": [
    "cars.reverse()\n",
    "print(cars)"
   ]
  },
  {
   "cell_type": "markdown",
   "id": "bf0b76e5",
   "metadata": {},
   "source": [
    "len()\n",
    "  \n",
    "     获取列表长度"
   ]
  },
  {
   "cell_type": "code",
   "execution_count": 12,
   "id": "701a39ba",
   "metadata": {},
   "outputs": [
    {
     "data": {
      "text/plain": [
       "4"
      ]
     },
     "execution_count": 12,
     "metadata": {},
     "output_type": "execute_result"
    }
   ],
   "source": [
    "len(cars)"
   ]
  },
  {
   "cell_type": "code",
   "execution_count": null,
   "id": "d5715919",
   "metadata": {},
   "outputs": [],
   "source": []
  },
  {
   "cell_type": "markdown",
   "id": "f596e1a3",
   "metadata": {},
   "source": [
    "## 操作列表"
   ]
  },
  {
   "cell_type": "markdown",
   "id": "826520e7",
   "metadata": {},
   "source": [
    "遍历列表\n",
    "\n",
    "for循环\n",
    "   \n",
    "     注意冒号\n",
    "     \n",
    "     每个缩进的代码都是循环的一部分\n",
    "     \n",
    "    "
   ]
  },
  {
   "cell_type": "code",
   "execution_count": 21,
   "id": "0fda543f",
   "metadata": {},
   "outputs": [
    {
     "name": "stdout",
     "output_type": "stream",
     "text": [
      "alice\n",
      "david\n",
      "carolina\n"
     ]
    }
   ],
   "source": [
    "#从magicians中以此取值赋给magician，然后打印magiian，重复操作直到列表中元素被取完\n",
    "magicians = ['alice', 'david', 'carolina']\n",
    "for magician in magicians:\n",
    "    print(magician)"
   ]
  },
  {
   "cell_type": "markdown",
   "id": "1b81fe34",
   "metadata": {},
   "source": [
    "错误缩进的情况\n",
    "\n",
    "for循环的结果magician最终值为carolina。则只显示for循环的最终值"
   ]
  },
  {
   "cell_type": "code",
   "execution_count": 22,
   "id": "39b07dc1",
   "metadata": {},
   "outputs": [
    {
     "name": "stdout",
     "output_type": "stream",
     "text": [
      "Alice, that was a great trick!\n",
      "David, that was a great trick!\n",
      "Carolina, that was a great trick!\n",
      "I can't wait to see your next trick, Carolina.\n",
      "\n"
     ]
    }
   ],
   "source": [
    "magicians = ['alice', 'david', 'carolina']\n",
    "for magician in magicians:\n",
    "      print(f\"{magician.title()}, that was a great trick!\")\n",
    "print(f\"I can't wait to see your next trick, {magician.title()}.\\n\")"
   ]
  },
  {
   "cell_type": "markdown",
   "id": "016f2dda",
   "metadata": {},
   "source": [
    "### 生成数值列表\n",
    "\n",
    "range()\n",
    "\n",
    "     函数range()让Python从指定的第一个值开始数，并在到达你指定的第二个值时停止(不包括)\n",
    "     \n",
    "     不给定范围的话就默认从0开始生成"
   ]
  },
  {
   "cell_type": "code",
   "execution_count": 24,
   "id": "86e047b3",
   "metadata": {},
   "outputs": [
    {
     "name": "stdout",
     "output_type": "stream",
     "text": [
      "1\n",
      "2\n",
      "3\n",
      "4\n",
      "5\n"
     ]
    }
   ],
   "source": [
    "#指定2个参数\n",
    "for value in range(1,6):\n",
    "  print(value)"
   ]
  },
  {
   "cell_type": "code",
   "execution_count": 25,
   "id": "5fc38557",
   "metadata": {},
   "outputs": [
    {
     "name": "stdout",
     "output_type": "stream",
     "text": [
      "0\n",
      "1\n",
      "2\n",
      "3\n",
      "4\n",
      "5\n",
      "6\n",
      "7\n"
     ]
    }
   ],
   "source": [
    "#指定一个参数\n",
    "for value in range(8):\n",
    "  print(value)"
   ]
  },
  {
   "cell_type": "code",
   "execution_count": 29,
   "id": "1e4d8546",
   "metadata": {},
   "outputs": [
    {
     "name": "stdout",
     "output_type": "stream",
     "text": [
      "3\n",
      "5\n",
      "7\n",
      "9\n",
      "11\n",
      "13\n"
     ]
    }
   ],
   "source": [
    "#指定三个参数 range(起始数，结尾数，间隔)\n",
    "for value in range(3,14,2):\n",
    "    print(value)\n"
   ]
  },
  {
   "cell_type": "markdown",
   "id": "7f0ec995",
   "metadata": {},
   "source": [
    "list()\n",
    "\n",
    "      将数值转换为列表"
   ]
  },
  {
   "cell_type": "code",
   "execution_count": 26,
   "id": "cb4742be",
   "metadata": {},
   "outputs": [
    {
     "name": "stdout",
     "output_type": "stream",
     "text": [
      "[0, 1, 2, 3, 4]\n"
     ]
    }
   ],
   "source": [
    "a=list(range(5))\n",
    "print(a)"
   ]
  },
  {
   "cell_type": "markdown",
   "id": "04e06bca",
   "metadata": {},
   "source": [
    "### 对列表进行聚合计算"
   ]
  },
  {
   "cell_type": "code",
   "execution_count": 33,
   "id": "5f642bbf",
   "metadata": {},
   "outputs": [
    {
     "data": {
      "text/plain": [
       "0"
      ]
     },
     "execution_count": 33,
     "metadata": {},
     "output_type": "execute_result"
    }
   ],
   "source": [
    "digits = [1, 2, 3, 4, 5, 6, 7, 8, 9, 0]\n",
    "min(digits)"
   ]
  },
  {
   "cell_type": "code",
   "execution_count": 32,
   "id": "479f41ee",
   "metadata": {},
   "outputs": [
    {
     "data": {
      "text/plain": [
       "9"
      ]
     },
     "execution_count": 32,
     "metadata": {},
     "output_type": "execute_result"
    }
   ],
   "source": [
    "max(digits)"
   ]
  },
  {
   "cell_type": "code",
   "execution_count": 34,
   "id": "783e8dcc",
   "metadata": {},
   "outputs": [
    {
     "data": {
      "text/plain": [
       "45"
      ]
     },
     "execution_count": 34,
     "metadata": {},
     "output_type": "execute_result"
    }
   ],
   "source": [
    "sum(digits)"
   ]
  },
  {
   "cell_type": "markdown",
   "id": "59a2fa10",
   "metadata": {},
   "source": [
    "### 列表解析\n",
    "\n",
    "用一行代码完成数值列表的生成\n"
   ]
  },
  {
   "cell_type": "code",
   "execution_count": 36,
   "id": "92e64ef1",
   "metadata": {},
   "outputs": [
    {
     "name": "stdout",
     "output_type": "stream",
     "text": [
      "[4, 9, 16, 25, 36, 49, 64, 81, 100]\n"
     ]
    }
   ],
   "source": [
    "#for循环为value提供值\n",
    "squares = [value**2 for value in range(2, 11)]\n",
    "print(squares)"
   ]
  },
  {
   "cell_type": "markdown",
   "id": "7550bdca",
   "metadata": {},
   "source": [
    "### 切片\n",
    "\n",
    "[a：b]\n",
    "\n",
    "[a：] 自动截止到结尾\n",
    "\n",
    "[：b] 自动从表头开始提取\n",
    "\n",
    "可在表示切片的方括号内指定第三个值。这个值告诉Python在指定范围内每隔多少元素提取一个\n",
    "\n",
    "Python在到达第二个索引之前的元素后停止"
   ]
  },
  {
   "cell_type": "code",
   "execution_count": 38,
   "id": "4829bffd",
   "metadata": {},
   "outputs": [
    {
     "name": "stdout",
     "output_type": "stream",
     "text": [
      "['charles', 'martina', 'michael']\n"
     ]
    }
   ],
   "source": [
    " players = ['charles', 'martina', 'michael', 'florence', 'eli']\n",
    "print(players[0:3])\n",
    "#输出0，1，2位的元素\n",
    " #Python在到达第二个索引之前的元素后停止"
   ]
  },
  {
   "cell_type": "code",
   "execution_count": 39,
   "id": "fc8b9891",
   "metadata": {},
   "outputs": [
    {
     "name": "stdout",
     "output_type": "stream",
     "text": [
      "['charles', 'martina', 'michael', 'florence']\n"
     ]
    }
   ],
   "source": [
    "players = ['charles', 'martina', 'michael', 'florence', 'eli']\n",
    "print(players[:4])"
   ]
  },
  {
   "cell_type": "code",
   "execution_count": 40,
   "id": "1439f27c",
   "metadata": {
    "scrolled": true
   },
   "outputs": [
    {
     "name": "stdout",
     "output_type": "stream",
     "text": [
      "['michael', 'florence', 'eli']\n"
     ]
    }
   ],
   "source": [
    "players = ['charles', 'martina', 'michael', 'florence', 'eli']\n",
    "print(players[2:])"
   ]
  },
  {
   "cell_type": "markdown",
   "id": "53782dc0",
   "metadata": {},
   "source": [
    "### 复制列表\n",
    "\n",
    "使用切片进行表复制"
   ]
  },
  {
   "cell_type": "code",
   "execution_count": 50,
   "id": "57a570e3",
   "metadata": {},
   "outputs": [
    {
     "name": "stdout",
     "output_type": "stream",
     "text": [
      "['pizza', 'falafel', 'carrot cake']\n",
      "['pizza', 'falafel', 'carrot cake']\n"
     ]
    }
   ],
   "source": [
    "my_foods=['pizza','falafel','carrot cake']\n",
    "my_foods_copy = my_foods[:]\n",
    "\n",
    "print(my_foods)\n",
    "\n",
    "print(my_foods_copy)"
   ]
  },
  {
   "cell_type": "markdown",
   "id": "da64a4b1",
   "metadata": {},
   "source": [
    "不使用切片进行表复制\n",
    "\n",
    "因为表相互关联，所以改动其中一个表另一个表也会跟着改动"
   ]
  },
  {
   "cell_type": "code",
   "execution_count": 51,
   "id": "836b4dae",
   "metadata": {},
   "outputs": [
    {
     "name": "stdout",
     "output_type": "stream",
     "text": [
      "['pizza', 'falafel', 'carrot cake', '肉夹馍']\n",
      "['pizza', 'falafel', 'carrot cake', '肉夹馍']\n"
     ]
    }
   ],
   "source": [
    "my_foods.append('肉夹馍')\n",
    "\n",
    "print(my_foods)\n",
    "\n",
    "my_food_copy=my_foods\n",
    "\n",
    "print(my_food_copy)"
   ]
  },
  {
   "cell_type": "markdown",
   "id": "f63e336e",
   "metadata": {},
   "source": [
    "### 元组\n",
    "\n",
    "不能修改的值称为不可变的，而不可变的列表被称为元组\n",
    "\n",
    "与列表区别在于，是用圆括号区分的\n",
    "\n",
    "如果你要定义只包含一个元素的元组，必须在这个元素后面加上逗号：my_t = (3,)"
   ]
  },
  {
   "cell_type": "code",
   "execution_count": 54,
   "id": "5685e147",
   "metadata": {},
   "outputs": [
    {
     "name": "stdout",
     "output_type": "stream",
     "text": [
      "210\n",
      "cat\n"
     ]
    }
   ],
   "source": [
    "dimensions = (210,20,'dog','cat')\n",
    "print(dimensions[0])\n",
    "print(dimensions[-1])"
   ]
  },
  {
   "cell_type": "code",
   "execution_count": 55,
   "id": "286f5824",
   "metadata": {},
   "outputs": [
    {
     "ename": "TypeError",
     "evalue": "'tuple' object does not support item assignment",
     "output_type": "error",
     "traceback": [
      "\u001b[1;31m---------------------------------------------------------------------------\u001b[0m",
      "\u001b[1;31mTypeError\u001b[0m                                 Traceback (most recent call last)",
      "\u001b[1;32m~\\AppData\\Local\\Temp/ipykernel_42324/1213693152.py\u001b[0m in \u001b[0;36m<module>\u001b[1;34m\u001b[0m\n\u001b[0;32m      1\u001b[0m \u001b[1;31m#元组禁止修改值\u001b[0m\u001b[1;33m\u001b[0m\u001b[1;33m\u001b[0m\u001b[0m\n\u001b[1;32m----> 2\u001b[1;33m \u001b[0mdimensions\u001b[0m\u001b[1;33m[\u001b[0m\u001b[1;36m0\u001b[0m\u001b[1;33m]\u001b[0m\u001b[1;33m=\u001b[0m\u001b[1;36m600\u001b[0m\u001b[1;33m\u001b[0m\u001b[1;33m\u001b[0m\u001b[0m\n\u001b[0m",
      "\u001b[1;31mTypeError\u001b[0m: 'tuple' object does not support item assignment"
     ]
    }
   ],
   "source": [
    "#元组禁止修改值\n",
    "dimensions[0]= 600"
   ]
  },
  {
   "cell_type": "markdown",
   "id": "f535de41",
   "metadata": {},
   "source": [
    "#### 如何修改元组的数值\n",
    "  \n",
    "      重新定义元组"
   ]
  },
  {
   "cell_type": "code",
   "execution_count": 62,
   "id": "cedc35cd",
   "metadata": {},
   "outputs": [
    {
     "name": "stdout",
     "output_type": "stream",
     "text": [
      "修改前的元组:\n",
      "200\n",
      "50\n",
      "\n",
      "修改后的元组:\n",
      "400\n",
      "100\n"
     ]
    }
   ],
   "source": [
    "ds = (200, 50)\n",
    "print(\"修改前的元组:\")\n",
    "for d in ds:\n",
    "      print(d)\n",
    "        \n",
    "ds = (400, 100)\n",
    "print(\"\\n修改后的元组:\")\n",
    "for d in ds:\n",
    "      print(d)"
   ]
  },
  {
   "cell_type": "code",
   "execution_count": null,
   "id": "d8fb4e57",
   "metadata": {},
   "outputs": [],
   "source": []
  }
 ],
 "metadata": {
  "kernelspec": {
   "display_name": "Python 3 (ipykernel)",
   "language": "python",
   "name": "python3"
  },
  "language_info": {
   "codemirror_mode": {
    "name": "ipython",
    "version": 3
   },
   "file_extension": ".py",
   "mimetype": "text/x-python",
   "name": "python",
   "nbconvert_exporter": "python",
   "pygments_lexer": "ipython3",
   "version": "3.9.7"
  }
 },
 "nbformat": 4,
 "nbformat_minor": 5
}

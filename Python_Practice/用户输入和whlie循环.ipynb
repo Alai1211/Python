{
 "cells": [
  {
   "cell_type": "markdown",
   "id": "478b97e8",
   "metadata": {},
   "source": [
    "### 用户输入 函数input()\n",
    "\n",
    "注意：仅仅是输入的量赋给message，其他本来存在的提示语句不会赋值给message"
   ]
  },
  {
   "cell_type": "code",
   "execution_count": 19,
   "id": "b391acd1",
   "metadata": {},
   "outputs": [
    {
     "name": "stdout",
     "output_type": "stream",
     "text": [
      "please input here:fsd\n",
      "fsd\n"
     ]
    }
   ],
   "source": [
    "message=input('please input here:')\n",
    "print(message)"
   ]
  },
  {
   "cell_type": "code",
   "execution_count": 26,
   "id": "28fd1ca5",
   "metadata": {},
   "outputs": [
    {
     "name": "stdout",
     "output_type": "stream",
     "text": [
      "If you tell us who you are, we can personalize the messages you see.\n",
      "符号+=可以在该变量的字符串末尾添加文本\n"
     ]
    }
   ],
   "source": [
    "prompt = \"If you tell us who you are, we can personalize the messages you see.\"\n",
    "prompt += '\\n符号+=可以在该变量的字符串末尾添加文本' \n",
    "print(prompt)"
   ]
  },
  {
   "cell_type": "code",
   "execution_count": 27,
   "id": "9ed7f7ef",
   "metadata": {},
   "outputs": [
    {
     "name": "stdout",
     "output_type": "stream",
     "text": [
      "If you tell us who you are, we can personalize the messages you see.\n",
      "符号+=可以在该变量的字符串末尾添加文本\n",
      "+\"\\n\" 表示新的输入会另起一行\n",
      "+\"\\n\" 表示新的输入会另起一行\n"
     ]
    }
   ],
   "source": [
    "name = input(prompt+\n",
    "             \"\\n\")\n",
    "print(name)\n"
   ]
  },
  {
   "cell_type": "markdown",
   "id": "d7af1c0f",
   "metadata": {},
   "source": [
    "#### 获取数值输入\n",
    "int()\n",
    "\n",
    "注意：用户输入数字时，被认为是字符串无法被调用，无法进行聚合运算\n",
    "\n",
    "       需要用int()来转换数据类型 从字符串转换为数值"
   ]
  },
  {
   "cell_type": "code",
   "execution_count": 30,
   "id": "7481cd54",
   "metadata": {},
   "outputs": [
    {
     "name": "stdout",
     "output_type": "stream",
     "text": [
      "输入一个数字30\n",
      "age >=20?\n"
     ]
    },
    {
     "data": {
      "text/plain": [
       "True"
      ]
     },
     "execution_count": 30,
     "metadata": {},
     "output_type": "execute_result"
    }
   ],
   "source": [
    "age = input('输入一个数字')\n",
    "\n",
    "age = int(age)\n",
    "\n",
    "print('age >=20?')\n",
    "age >= 20"
   ]
  },
  {
   "cell_type": "markdown",
   "id": "bd7ce480",
   "metadata": {},
   "source": [
    "### while 循环\n",
    "\n",
    "一直循环直到条件不满足为止\n",
    "\n",
    "逻辑条件：为True便会开始循环，为false停止循环\n",
    "\n",
    "注意冒号"
   ]
  },
  {
   "cell_type": "code",
   "execution_count": 32,
   "id": "bc0b2c09",
   "metadata": {},
   "outputs": [
    {
     "name": "stdout",
     "output_type": "stream",
     "text": [
      "1\n",
      "2\n",
      "3\n",
      "4\n",
      "5\n"
     ]
    }
   ],
   "source": [
    "current_number = 1\n",
    "while current_number <= 5:\n",
    "    print(current_number)\n",
    "    current_number += 1"
   ]
  },
  {
   "cell_type": "markdown",
   "id": "d763b61d",
   "metadata": {},
   "source": [
    "#### 应用：让用户选择何时退出\n",
    "\n",
    "python首次执行while代码时需要检查message的值，如果不先给message指定初始值就无法进行达到要求执行循环\n"
   ]
  },
  {
   "cell_type": "code",
   "execution_count": null,
   "id": "ac4ce741",
   "metadata": {},
   "outputs": [],
   "source": [
    "prompt = 'input quit to quit this game '\n",
    "#创建变量，用于记录用户输入的值\n",
    "\n",
    "message = ''\n",
    "while message != 'quit':\n",
    "    message = input(prompt)\n",
    "    print(message)"
   ]
  },
  {
   "cell_type": "markdown",
   "id": "6dd43b23",
   "metadata": {},
   "source": [
    " #### 使用标志\n",
    " \n",
    " 让程序在标志为True时继续运行，并在任何事件导致标志的值为False时让程序停止运行\n",
    " \n",
    " 简化while的判断逻辑的复杂程度\n",
    " \n",
    "在任意一个事件导致活动标志变成False时，循环将退出"
   ]
  },
  {
   "cell_type": "code",
   "execution_count": 6,
   "id": "5e1e7e9b",
   "metadata": {},
   "outputs": [
    {
     "name": "stdout",
     "output_type": "stream",
     "text": [
      "input quit to quit this game f\n",
      "imput quit please\n",
      "input quit to quit this game quit\n",
      "ready to quit\n"
     ]
    }
   ],
   "source": [
    "prompt = 'input quit to quit this game '\n",
    "active = True\n",
    "while active:\n",
    "    message = input(prompt)\n",
    "    \n",
    "    if message == 'quit':\n",
    "         print('ready to quit')\n",
    "         active = False\n",
    "    else:\n",
    "        print('imput quit please')\n"
   ]
  },
  {
   "cell_type": "markdown",
   "id": "7d556f33",
   "metadata": {},
   "source": [
    "#### break"
   ]
  },
  {
   "cell_type": "code",
   "execution_count": 51,
   "id": "611a65a0",
   "metadata": {},
   "outputs": [
    {
     "name": "stdout",
     "output_type": "stream",
     "text": [
      "\n",
      "Please enter the name of a city you have visited:\n",
      "(Enter 'quit' when you are finished.) u\n",
      "I'd love to go to U!\n",
      "\n",
      "Please enter the name of a city you have visited:\n",
      "(Enter 'quit' when you are finished.) u\n",
      "I'd love to go to U!\n",
      "\n",
      "Please enter the name of a city you have visited:\n",
      "(Enter 'quit' when you are finished.) quit\n"
     ]
    }
   ],
   "source": [
    "prompt = \"\\nPlease enter the name of a city you have visited:\"\n",
    "prompt += \"\\n(Enter 'quit' when you are finished.) \"\n",
    "\n",
    "while True:\n",
    "      city = input(prompt)\n",
    "\n",
    "      if city == 'quit':\n",
    "          break\n",
    "      else:\n",
    "          print(f\"I'd love to go to {city.title()}!\")"
   ]
  },
  {
   "cell_type": "code",
   "execution_count": 7,
   "id": "fb0b4a5b",
   "metadata": {},
   "outputs": [
    {
     "name": "stdout",
     "output_type": "stream",
     "text": [
      "input quit to quit this game i\n",
      "i\n",
      "input quit to quit this game shanghai\n"
     ]
    }
   ],
   "source": [
    "while True :\n",
    "    \n",
    "    city = input(prompt)\n",
    "    if city =='shanghai':\n",
    "        break\n",
    "    else :\n",
    "        print(city)\n"
   ]
  },
  {
   "cell_type": "markdown",
   "id": "58cf5153",
   "metadata": {},
   "source": [
    "#### continue \n",
    "\n",
    "返回循环开头，并根据if的结果决定是否回到循环开头\n",
    "\n",
    "可以让python忽略余下代码，返回循环开头"
   ]
  },
  {
   "cell_type": "code",
   "execution_count": 12,
   "id": "4b3fdbfa",
   "metadata": {},
   "outputs": [
    {
     "name": "stdout",
     "output_type": "stream",
     "text": [
      "1\n",
      "3\n",
      "5\n",
      "7\n",
      "9\n"
     ]
    }
   ],
   "source": [
    "current_number = 0\n",
    "while current_number < 10:\n",
    "      current_number += 1\n",
    "      if current_number % 2 == 0:\n",
    "            continue  \n",
    "      print(current_number)"
   ]
  },
  {
   "cell_type": "markdown",
   "id": "af6f1fb3",
   "metadata": {},
   "source": [
    "for循环通常用于遍历列表，而while可以用来修改列表"
   ]
  },
  {
   "cell_type": "code",
   "execution_count": 21,
   "id": "5eef87f2",
   "metadata": {},
   "outputs": [
    {
     "name": "stdout",
     "output_type": "stream",
     "text": [
      "验证完成的用户:candace\n",
      "验证完成的用户:brain\n",
      "验证完成的用户:alice\n",
      "\n",
      "已完成用户：\n",
      "Candace\n",
      "Brain\n",
      "Alice\n"
     ]
    }
   ],
   "source": [
    "unconfirmed_users = ['alice','brain','candace']\n",
    "confirmed_users = []\n",
    "\n",
    "#列表为空的时候不再循环\n",
    "while unconfirmed_users != []:\n",
    "#pop()方法以每次一个的方式从列表末尾删除一个数据    \n",
    "    current_user = unconfirmed_users.pop()\n",
    "    \n",
    "    print('验证完成的用户:'+current_user)\n",
    "#验证完的用户加入到 comfirmed_users中\n",
    "    confirmed_users.append(current_user)\n",
    "\n",
    "print('\\n已完成用户：')\n",
    "for confirmed_user in confirmed_users:\n",
    "    print(confirmed_user.title())"
   ]
  },
  {
   "cell_type": "markdown",
   "id": "e06700b5",
   "metadata": {},
   "source": [
    "#### 删除、修改特定值的【所有】列表元素"
   ]
  },
  {
   "cell_type": "code",
   "execution_count": 2,
   "id": "5c264d02",
   "metadata": {},
   "outputs": [
    {
     "name": "stdout",
     "output_type": "stream",
     "text": [
      "['dog', 'cat', 'dog', 'goldfish', 'cat', 'rabbit', 'cat']\n"
     ]
    }
   ],
   "source": [
    "pets = ['dog', 'cat', 'dog', 'goldfish', 'cat', 'rabbit', 'cat']\n",
    "print(pets)"
   ]
  },
  {
   "cell_type": "code",
   "execution_count": 5,
   "id": "c3838cfa",
   "metadata": {},
   "outputs": [
    {
     "name": "stdout",
     "output_type": "stream",
     "text": [
      "['dog', 'dog', 'goldfish', 'rabbit']\n"
     ]
    }
   ],
   "source": [
    "#以存在为逻辑判断条件\n",
    "while 'cat' in pets :\n",
    "    pets.remove('cat')\n",
    "\n",
    "print(pets)"
   ]
  },
  {
   "cell_type": "markdown",
   "id": "034752b5",
   "metadata": {},
   "source": [
    "#### 用户输入填充字典"
   ]
  },
  {
   "cell_type": "code",
   "execution_count": 16,
   "id": "56dbd965",
   "metadata": {},
   "outputs": [
    {
     "name": "stdout",
     "output_type": "stream",
     "text": [
      "\n",
      "输入你的姓名 lai\n",
      "最喜欢的颜色 red\n",
      "回答是否结束(yes/no) lailai\n",
      "\n",
      "输入你的姓名 black\n",
      "最喜欢的颜色 ii\n",
      "回答是否结束(yes/no) blue\n",
      "\n",
      "输入你的姓名 jj\n",
      "最喜欢的颜色 blue\n",
      "回答是否结束(yes/no) yes\n"
     ]
    }
   ],
   "source": [
    "#创建一个空字典\n",
    "responses = {}\n",
    "#设置一个标志\n",
    "p_active = True\n",
    "\n",
    "while p_active:\n",
    "    name = input('\\n输入你的姓名 ')\n",
    "    response = input('最喜欢的颜色 ')\n",
    "    #将回答存在字典中\n",
    "    responses[name] = response\n",
    "    \n",
    "    repeat = input('回答是否结束(yes/no) ')\n",
    "    if repeat == 'yes':\n",
    "        p_active = False\n",
    "\n",
    "        \n"
   ]
  },
  {
   "cell_type": "code",
   "execution_count": 20,
   "id": "e726240c",
   "metadata": {},
   "outputs": [
    {
     "name": "stdout",
     "output_type": "stream",
     "text": [
      "\n",
      " ---poll results----\n",
      "my name is lai 我最喜欢的颜色是 red\n",
      "my name is black 我最喜欢的颜色是 ii\n",
      "my name is jj 我最喜欢的颜色是 blue\n"
     ]
    }
   ],
   "source": [
    "print('\\n ---poll results----')\n",
    "#用for来遍历刚生成的字典\n",
    "for name,response in responses.items():\n",
    "    print('my name is '+name+' 我最喜欢的颜色是 '+response)"
   ]
  },
  {
   "cell_type": "code",
   "execution_count": null,
   "id": "f0ac3ebe",
   "metadata": {},
   "outputs": [],
   "source": []
  }
 ],
 "metadata": {
  "kernelspec": {
   "display_name": "Python 3 (ipykernel)",
   "language": "python",
   "name": "python3"
  },
  "language_info": {
   "codemirror_mode": {
    "name": "ipython",
    "version": 3
   },
   "file_extension": ".py",
   "mimetype": "text/x-python",
   "name": "python",
   "nbconvert_exporter": "python",
   "pygments_lexer": "ipython3",
   "version": "3.9.7"
  }
 },
 "nbformat": 4,
 "nbformat_minor": 5
}

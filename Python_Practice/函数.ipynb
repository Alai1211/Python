{
 "cells": [
  {
   "cell_type": "markdown",
   "id": "149a6389",
   "metadata": {},
   "source": [
    "### 函数\n",
    "\n",
    "#### 函数定义\n",
    "\n",
    "使用关键字 def 来告诉Python，你要定义一个函数"
   ]
  },
  {
   "cell_type": "code",
   "execution_count": 4,
   "id": "688a624c",
   "metadata": {},
   "outputs": [
    {
     "name": "stdout",
     "output_type": "stream",
     "text": [
      "i can succeed!\n"
     ]
    }
   ],
   "source": [
    "def great_user():\n",
    "    \"\"\"文档字符串，用来描述函数是做什么的\"\"\"\n",
    "    print('i can succeed!')\n",
    "\n",
    "great_user()"
   ]
  },
  {
   "cell_type": "markdown",
   "id": "6e8136d3",
   "metadata": {},
   "source": [
    "#### 向函数传递信息\n",
    "\n",
    "在调用函数时，向它提供执行函数内容所需要的参数\n",
    "\n",
    "形参：username.\n",
    "\n",
    "实参：‘lai’\n",
    "\n",
    "    此处将‘lai’这个值赋给了username"
   ]
  },
  {
   "cell_type": "code",
   "execution_count": 8,
   "id": "81d1a336",
   "metadata": {},
   "outputs": [
    {
     "name": "stdout",
     "output_type": "stream",
     "text": [
      "君のなは lai\n"
     ]
    }
   ],
   "source": [
    "def great_user(username):\n",
    "    print('君のなは '+ username)\n",
    "\n",
    "great_user('lai')"
   ]
  },
  {
   "cell_type": "markdown",
   "id": "30348b7e",
   "metadata": {},
   "source": [
    "#### 传递实参\n",
    "\n",
    "位置实参\n",
    "\n",
    "函数name(位置参数1，位置参数2)"
   ]
  },
  {
   "cell_type": "code",
   "execution_count": 10,
   "id": "7ebc13f7",
   "metadata": {},
   "outputs": [
    {
     "name": "stdout",
     "output_type": "stream",
     "text": [
      "pet name is bunny\n",
      "pet type is dog\n"
     ]
    }
   ],
   "source": [
    "def pet_inf(name,p_type):\n",
    "    print('pet name is '+ name )\n",
    "    print('pet type is '+ p_type)\n",
    "pet_inf('bunny','dog')"
   ]
  },
  {
   "cell_type": "markdown",
   "id": "fedc0253",
   "metadata": {},
   "source": [
    "关键字实参\n",
    "\n",
    "    关键字实参的顺序无关紧要，因为Python知道各个值该赋给哪个形参。"
   ]
  },
  {
   "cell_type": "code",
   "execution_count": 11,
   "id": "39aadeff",
   "metadata": {},
   "outputs": [
    {
     "name": "stdout",
     "output_type": "stream",
     "text": [
      "pet name is bunny\n",
      "pet type is dog\n"
     ]
    }
   ],
   "source": [
    "def pet_inf2(name,p_type):\n",
    "    print('pet name is '+ name )\n",
    "    print('pet type is '+ p_type)\n",
    "pet_inf2(name='bunny',p_type='dog')"
   ]
  },
  {
   "cell_type": "markdown",
   "id": "048c3990",
   "metadata": {},
   "source": [
    "#### 设置默认值\n",
    "\n",
    "在初始给定形参时，设定初始实参值\n",
    "\n",
    "调用时可以被修改"
   ]
  },
  {
   "cell_type": "code",
   "execution_count": 13,
   "id": "defc87d3",
   "metadata": {},
   "outputs": [
    {
     "name": "stdout",
     "output_type": "stream",
     "text": [
      "\n",
      "I have a dog.\n",
      "My dog's name is Willie.\n"
     ]
    }
   ],
   "source": [
    "def pet_inf3(name, p_type='dog'):\n",
    "    \"\"\"显示宠物的信息。\"\"\"\n",
    "    print(f\"\\nI have a {p_type}.\")\n",
    "    print(f\"My {p_type}'s name is {name.title()}.\")\n",
    "\n",
    "pet_inf3(name='willie')"
   ]
  },
  {
   "cell_type": "markdown",
   "id": "7debb9aa",
   "metadata": {},
   "source": [
    "#### 函数的返回值\n",
    "\n",
    "可以给函数设置返回值\n",
    "\n",
    "使用return()将值返回到调用函数的代码行"
   ]
  },
  {
   "cell_type": "code",
   "execution_count": 17,
   "id": "71c2b003",
   "metadata": {},
   "outputs": [
    {
     "data": {
      "text/plain": [
       "'Lai Jiarui'"
      ]
     },
     "execution_count": 17,
     "metadata": {},
     "output_type": "execute_result"
    }
   ],
   "source": [
    "def get_full_name(first_name,last_name):\n",
    "    \"\"\"返回全名\"\"\"\n",
    "    full_name = f'{first_name} {last_name}'\n",
    "    return full_name.title()\n",
    "get_full_name('lai','jiarui')\n",
    "#直接调用函数会带引号"
   ]
  },
  {
   "cell_type": "code",
   "execution_count": 18,
   "id": "7305b537",
   "metadata": {},
   "outputs": [
    {
     "name": "stdout",
     "output_type": "stream",
     "text": [
      "Lai Jiajia\n"
     ]
    }
   ],
   "source": [
    "name = get_full_name('lai','jiajia')\n",
    "print(name)"
   ]
  },
  {
   "cell_type": "markdown",
   "id": "d2ee6efc",
   "metadata": {},
   "source": [
    "判断其中一个形参是否缺失\n",
    "\n",
    "在很多情况下，有些形参我们可能不需要为它输入实参，这时就可以用if来添加这种没有被输入的情况下的输出"
   ]
  },
  {
   "cell_type": "code",
   "execution_count": 31,
   "id": "7542446b",
   "metadata": {},
   "outputs": [
    {
     "name": "stdout",
     "output_type": "stream",
     "text": [
      "Jimi Hendrix\n",
      "John Lee Hooker\n"
     ]
    }
   ],
   "source": [
    "def get_formatted_name(first_name, last_name, middle_name=''):\n",
    "      \"\"\"返回整洁的姓名。\"\"\"\n",
    "    \n",
    "      if middle_name:\n",
    "          full_name = f\"{first_name} {middle_name} {last_name}\"\n",
    "      else:\n",
    "          full_name = f\"{first_name} {last_name}\"\n",
    "      return full_name.title()\n",
    "\n",
    "musician = get_formatted_name('jimi', 'hendrix')\n",
    "print(musician)\n",
    "\n",
    "musician = get_formatted_name('john', 'hooker', 'lee')\n",
    "print(musician)"
   ]
  },
  {
   "cell_type": "markdown",
   "id": "c06506e6",
   "metadata": {},
   "source": [
    "返回一个字典"
   ]
  },
  {
   "cell_type": "code",
   "execution_count": 33,
   "id": "96b46646",
   "metadata": {},
   "outputs": [
    {
     "name": "stdout",
     "output_type": "stream",
     "text": [
      "{'first': 'lai', 'last': 'jiarui', 'age': 27}\n"
     ]
    }
   ],
   "source": [
    "#none相当于false\n",
    "def get_person(first_name,last_name,age=None):\n",
    "    person = {'first':first_name,'last':last_name}\n",
    "    if age :\n",
    "        person['age'] = age\n",
    "    return person\n",
    "musician = get_person('lai','jiarui',age=27)\n",
    "print(musician)"
   ]
  },
  {
   "cell_type": "code",
   "execution_count": 34,
   "id": "edcf34c4",
   "metadata": {},
   "outputs": [
    {
     "name": "stdout",
     "output_type": "stream",
     "text": [
      "{'first': 'lai', 'last': 'jiarui'}\n"
     ]
    }
   ],
   "source": [
    "musician = get_person('lai','jiarui')\n",
    "print(musician)"
   ]
  },
  {
   "cell_type": "markdown",
   "id": "bcd01e5f",
   "metadata": {},
   "source": [
    "传递一个列表\n",
    "\n",
    "此处需要用到循环\n",
    "\n",
    "将aisatu()定义为接受一个名字列表，并将其赋给形参names。"
   ]
  },
  {
   "cell_type": "code",
   "execution_count": 35,
   "id": "c421c3ba",
   "metadata": {},
   "outputs": [
    {
     "name": "stdout",
     "output_type": "stream",
     "text": [
      "hello,Lai\n",
      "hello,Wang\n",
      "hello,Zhang\n",
      "hello,Yang\n"
     ]
    }
   ],
   "source": [
    "def aisatu(names):\n",
    "    \n",
    "#从形参names中依次取name打印\n",
    "    for name in names:\n",
    "        msg = f\"hello,{name.title()}\"\n",
    "        print(msg)\n",
    "\n",
    "#定义一个名字列表\n",
    "aisatu_name=['lai','wang','zhang','yang']\n",
    "#调用aisatu，把列表传递给它\n",
    "aisatu(aisatu_name)"
   ]
  },
  {
   "cell_type": "markdown",
   "id": "839fee6b",
   "metadata": {},
   "source": [
    "#### 为列表创建副本，以便于在函数中随意修改\n",
    "\n",
    "切片表示法 [:] 创建列表的副本。"
   ]
  },
  {
   "cell_type": "code",
   "execution_count": 37,
   "id": "c1c3e1be",
   "metadata": {},
   "outputs": [
    {
     "name": "stdout",
     "output_type": "stream",
     "text": [
      "hello,Lai\n",
      "hello,Wang\n",
      "hello,Zhang\n",
      "hello,Yang\n"
     ]
    }
   ],
   "source": [
    "aisatu(aisatu_name[:])"
   ]
  },
  {
   "cell_type": "markdown",
   "id": "febdfce8",
   "metadata": {},
   "source": [
    "#### 传递任意数量的实参\n",
    "\n",
    "此处用到元组\n",
    "\n",
    "形参名*toppings中的星号让Python创建一个名为toppings的空元组\n",
    "\n"
   ]
  },
  {
   "cell_type": "code",
   "execution_count": 40,
   "id": "9e03c2b9",
   "metadata": {},
   "outputs": [
    {
     "name": "stdout",
     "output_type": "stream",
     "text": [
      "mushiroom\n",
      "青椒\n",
      "papper\n"
     ]
    }
   ],
   "source": [
    "def make_pizza(*toppings):\n",
    "    '''打印顾客点的所有配料'''\n",
    "    \n",
    "    for topping in toppings:\n",
    "        print(topping)\n",
    "    \n",
    "make_pizza('mushiroom','青椒','papper')"
   ]
  },
  {
   "cell_type": "markdown",
   "id": "a29cd334",
   "metadata": {},
   "source": [
    "如果要让函数接受不同类型的实参，必须在函数定义中将接纳任意数量实参的形参放在最后\n",
    "\n",
    "如果前面的函数还需要一个表示比萨尺寸的形参，必须将其放在形参*toppings的前面\n",
    "\n",
    "Python将收到的第一个值赋给形参size，并将其他所有值都存储在元组toppings中"
   ]
  },
  {
   "cell_type": "code",
   "execution_count": 41,
   "id": "e91f6f94",
   "metadata": {},
   "outputs": [
    {
     "name": "stdout",
     "output_type": "stream",
     "text": [
      "for making a 24-inch pizza with following toppings:\n",
      "papper\n",
      "mushromm\n",
      "more cheese\n"
     ]
    }
   ],
   "source": [
    "def make_pizza(size,*toppings):\n",
    "    print(f'for making a {size}-inch pizza with following toppings:')\n",
    "    for topping in toppings:\n",
    "        print(topping)\n",
    "        \n",
    "make_pizza(24,'papper','mushromm','more cheese')"
   ]
  },
  {
   "cell_type": "markdown",
   "id": "e8faeb7e",
   "metadata": {},
   "source": [
    "#### 使用任意数量的关键字实参 \n",
    "\n",
    "能够接受任意数量的键值对——调用语句提供了多少就接受多少。\n",
    "\n",
    "形参**user_info中的两个星号让Python创建一个名为user_info的空字典，并将收到的所有名称值对都放到这个字典中。\n",
    "\n",
    "**X 接受为字典格式"
   ]
  },
  {
   "cell_type": "code",
   "execution_count": 46,
   "id": "9e6f9cfa",
   "metadata": {},
   "outputs": [
    {
     "name": "stdout",
     "output_type": "stream",
     "text": [
      "{'location': 'princeton', 'field': 'physics'}\n"
     ]
    }
   ],
   "source": [
    "def build_profile(first,last,**user_info):\n",
    "    #user_info['first_name']=first\n",
    "    #user_info['last_name']=last\n",
    "    return user_info\n",
    "#此处user_profile相当于一个字典\n",
    "#first/last是后加入函数里的2个键值对\n",
    "user_profile = build_profile('albert','elnstein',\n",
    "                            location='princeton',field='physics')\n",
    "print(user_profile)\n"
   ]
  },
  {
   "cell_type": "code",
   "execution_count": null,
   "id": "a1b71e4d",
   "metadata": {},
   "outputs": [],
   "source": []
  },
  {
   "cell_type": "markdown",
   "id": "6477a594",
   "metadata": {},
   "source": [
    "### 将函数存储在模块中\n",
    "\n",
    "在同一个目录下存放写着函数的.py文件，可以通过直接调用模块来调用里面的函数\n",
    "\n",
    "用import导入pizza.py\n",
    "\n",
    "导入模块中的函数时需要用句点分割"
   ]
  },
  {
   "cell_type": "code",
   "execution_count": null,
   "id": "359c79d5",
   "metadata": {},
   "outputs": [],
   "source": [
    "import pizza\n",
    "pizza.make_pizza()"
   ]
  },
  {
   "cell_type": "markdown",
   "id": "48ac7e51",
   "metadata": {},
   "source": [
    "#### 导入特定的函数\n"
   ]
  },
  {
   "cell_type": "code",
   "execution_count": null,
   "id": "58461c15",
   "metadata": {},
   "outputs": [],
   "source": [
    "from module_name import function_name"
   ]
  },
  {
   "cell_type": "markdown",
   "id": "a1855ffa",
   "metadata": {},
   "source": [
    "使用逗号隔开函数名，可以像模块中导入任意数量的函数"
   ]
  },
  {
   "cell_type": "code",
   "execution_count": null,
   "id": "01b7f317",
   "metadata": {},
   "outputs": [],
   "source": [
    "from module_name import function_0, function_1, function_2"
   ]
  },
  {
   "cell_type": "markdown",
   "id": "1d01fa9d",
   "metadata": {},
   "source": [
    "#### 使用as给函数指定别名\n",
    "\n",
    "调用make_pizza()时可简写为mp()"
   ]
  },
  {
   "cell_type": "code",
   "execution_count": null,
   "id": "91c9a7b1",
   "metadata": {},
   "outputs": [],
   "source": [
    "from pizza import make_pizza as mp"
   ]
  },
  {
   "cell_type": "markdown",
   "id": "8571d5e9",
   "metadata": {},
   "source": [
    "使用这种语法时，调用函数时无须使用句点。\n",
    "\n",
    "调用时只需指定其名称即可"
   ]
  },
  {
   "cell_type": "code",
   "execution_count": null,
   "id": "e69eb8d9",
   "metadata": {},
   "outputs": [],
   "source": [
    "make_pizza(16, 'pepperoni')\n",
    "make_pizza(12, 'mushrooms', 'green peppers', 'extra cheese')"
   ]
  },
  {
   "cell_type": "markdown",
   "id": "33f33c77",
   "metadata": {},
   "source": [
    "#### 使用as给模块指定别名"
   ]
  },
  {
   "cell_type": "code",
   "execution_count": null,
   "id": "92524eca",
   "metadata": {},
   "outputs": [],
   "source": [
    "import pizza as p\n",
    "\n",
    "p.make_pizza(16, 'pepperoni')\n",
    "p.make_pizza(12, 'mushrooms', 'green peppers', 'extra cheese')"
   ]
  },
  {
   "cell_type": "markdown",
   "id": "987c2812",
   "metadata": {},
   "source": [
    "#### 导入模块中所有函数\n",
    "\n",
    "可以直接通过函数名称调用函数，不用句点"
   ]
  },
  {
   "cell_type": "code",
   "execution_count": null,
   "id": "1e1ee0d9",
   "metadata": {},
   "outputs": [],
   "source": [
    "from pizza import *"
   ]
  },
  {
   "cell_type": "code",
   "execution_count": null,
   "id": "8fc7a9d9",
   "metadata": {},
   "outputs": [],
   "source": [
    "make_pizza(16, 'pepperoni')\n",
    "make_pizza(12, 'mushrooms', 'green peppers', 'extra cheese')"
   ]
  },
  {
   "cell_type": "code",
   "execution_count": null,
   "id": "7e42d172",
   "metadata": {},
   "outputs": [],
   "source": []
  }
 ],
 "metadata": {
  "kernelspec": {
   "display_name": "Python 3 (ipykernel)",
   "language": "python",
   "name": "python3"
  },
  "language_info": {
   "codemirror_mode": {
    "name": "ipython",
    "version": 3
   },
   "file_extension": ".py",
   "mimetype": "text/x-python",
   "name": "python",
   "nbconvert_exporter": "python",
   "pygments_lexer": "ipython3",
   "version": "3.9.7"
  }
 },
 "nbformat": 4,
 "nbformat_minor": 5
}
